{
 "cells": [
  {
   "cell_type": "code",
   "execution_count": 3,
   "id": "28c73a55",
   "metadata": {},
   "outputs": [
    {
     "name": "stdout",
     "output_type": "stream",
     "text": [
      "All SET!\n"
     ]
    }
   ],
   "source": [
    "import tensorflow\n",
    "from tensorflow.keras import layers, models\n",
    "from tensorflow.keras.datasets import mnist ,cifar10\n",
    "from tensorflow.keras.utils import to_categorical\n",
    "from PIL import Image\n",
    "import matplotlib.pyplot as plt\n",
    "import numpy as np\n",
    "import warnings\n",
    "\n",
    "warnings.filterwarnings(\"ignore\")\n",
    "print(\"All SET!\")"
   ]
  },
  {
   "cell_type": "code",
   "execution_count": 4,
   "id": "5025c547",
   "metadata": {},
   "outputs": [
    {
     "name": "stdout",
     "output_type": "stream",
     "text": [
      "Downloading data from https://storage.googleapis.com/tensorflow/tf-keras-datasets/mnist.npz\n",
      "\u001b[1m11490434/11490434\u001b[0m \u001b[32m━━━━━━━━━━━━━━━━━━━━\u001b[0m\u001b[37m\u001b[0m \u001b[1m3s\u001b[0m 0us/step\n"
     ]
    }
   ],
   "source": [
    "(train_img,train_labels), (test_img,test_labels) = mnist.load_data()"
   ]
  },
  {
   "cell_type": "code",
   "execution_count": 5,
   "id": "d50564ae",
   "metadata": {},
   "outputs": [
    {
     "data": {
      "text/plain": [
       "((60000, 28, 28), (60000,))"
      ]
     },
     "execution_count": 5,
     "metadata": {},
     "output_type": "execute_result"
    }
   ],
   "source": [
    "train_img.shape,train_labels.shape"
   ]
  },
  {
   "cell_type": "code",
   "execution_count": 6,
   "id": "8636625b",
   "metadata": {},
   "outputs": [
    {
     "data": {
      "text/plain": [
       "array([5, 0, 4, 1, 9, 2, 1, 3], dtype=uint8)"
      ]
     },
     "execution_count": 6,
     "metadata": {},
     "output_type": "execute_result"
    }
   ],
   "source": [
    "train_labels[0:8]"
   ]
  },
  {
   "cell_type": "code",
   "execution_count": 7,
   "id": "aed6c8f6",
   "metadata": {},
   "outputs": [],
   "source": [
    "def img_show(train_image,train_labels2,numbers):\n",
    "    plt.imshow(train_image[numbers])\n",
    "    plt.title(train_labels2[numbers])\n",
    "    plt.show()"
   ]
  },
  {
   "cell_type": "code",
   "execution_count": 12,
   "id": "6a45343c",
   "metadata": {},
   "outputs": [
    {
     "data": {
      "image/png": "[encoded data removed]",
      "text/plain": [
       "<Figure size 640x480 with 1 Axes>"
      ]
     },
     "metadata": {},
     "output_type": "display_data"
    }
   ],
   "source": [
    "img_show(train_image=train_img,train_labels2=train_labels,numbers=25)"
   ]
  },
  {
   "cell_type": "code",
   "execution_count": 13,
   "id": "14ee6711",
   "metadata": {},
   "outputs": [],
   "source": [
    "train_img,test_img = train_img/255.0, test_img/255.0"
   ]
  },
  {
   "cell_type": "code",
   "execution_count": null,
   "id": "22730681",
   "metadata": {},
   "outputs": [],
   "source": []
  }
 ],
 "metadata": {
  "kernelspec": {
   "display_name": "Python 3",
   "language": "python",
   "name": "python3"
  },
  "language_info": {
   "codemirror_mode": {
    "name": "ipython",
    "version": 3
   },
   "file_extension": ".py",
   "mimetype": "text/x-python",
   "name": "python",
   "nbconvert_exporter": "python",
   "pygments_lexer": "ipython3",
   "version": "3.11.9"
  }
 },
 "nbformat": 4,
 "nbformat_minor": 5
}
