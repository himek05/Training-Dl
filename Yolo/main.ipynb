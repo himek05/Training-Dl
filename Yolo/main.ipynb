{
 "cells": [
  {
   "cell_type": "code",
   "execution_count": 1,
   "id": "024381a0",
   "metadata": {},
   "outputs": [
    {
     "name": "stdout",
     "output_type": "stream",
     "text": [
      "Train path: True\n",
      "Test path: True\n"
     ]
    }
   ],
   "source": [
    "import os \n",
    "\n",
    "train_path = \"dataset/train/images\"\n",
    "test_path = \"dataset/test/images\"\n",
    "\n",
    "print(f\"Train path: {os.path.exists(train_path)}\")\n",
    "print(f\"Test path: {os.path.exists(test_path)}\")"
   ]
  },
  {
   "cell_type": "code",
   "execution_count": 2,
   "id": "5af33068",
   "metadata": {},
   "outputs": [
    {
     "name": "stdout",
     "output_type": "stream",
     "text": [
      "Current Working Directory:  c:\\Users\\himek\\Desktop\\tff\\Yolo\n"
     ]
    }
   ],
   "source": [
    "print(\"Current Working Directory: \", os.getcwd())"
   ]
  },
  {
   "cell_type": "code",
   "execution_count": 3,
   "id": "25f65893",
   "metadata": {},
   "outputs": [
    {
     "name": "stdout",
     "output_type": "stream",
     "text": [
      "PyTorch version:  2.6.0+cpu\n"
     ]
    }
   ],
   "source": [
    "import torch\n",
    "print(\"PyTorch version: \", torch.__version__)"
   ]
  },
  {
   "cell_type": "code",
   "execution_count": 4,
   "id": "6914aedb",
   "metadata": {},
   "outputs": [],
   "source": [
    "torch.cuda.empty_cache()"
   ]
  },
  {
   "cell_type": "code",
   "execution_count": 5,
   "id": "4da7966e",
   "metadata": {},
   "outputs": [
    {
     "name": "stdout",
     "output_type": "stream",
     "text": [
      "Ultralytics 8.3.107  Python-3.11.9 torch-2.6.0+cpu CPU (11th Gen Intel Core(TM) i5-1155G7 2.50GHz)\n",
      "\u001b[34m\u001b[1mengine\\trainer: \u001b[0mtask=detect, mode=train, model=yolov5su.pt, data=dataset/data.yaml, epochs=50, time=None, patience=100, batch=16, imgsz=416, save=True, save_period=-1, cache=False, device=None, workers=8, project=None, name=train7, exist_ok=False, pretrained=True, optimizer=auto, verbose=True, seed=0, deterministic=True, single_cls=False, rect=False, cos_lr=False, close_mosaic=10, resume=False, amp=True, fraction=1.0, profile=False, freeze=None, multi_scale=False, overlap_mask=True, mask_ratio=4, dropout=0.0, val=True, split=val, save_json=False, conf=None, iou=0.7, max_det=300, half=False, dnn=False, plots=True, source=None, vid_stride=1, stream_buffer=False, visualize=False, augment=False, agnostic_nms=False, classes=None, retina_masks=False, embed=None, show=False, save_frames=False, save_txt=False, save_conf=False, save_crop=False, show_labels=True, show_conf=True, show_boxes=True, line_width=None, format=torchscript, keras=False, optimize=False, int8=False, dynamic=False, simplify=True, opset=None, workspace=None, nms=False, lr0=0.01, lrf=0.01, momentum=0.937, weight_decay=0.0005, warmup_epochs=3.0, warmup_momentum=0.8, warmup_bias_lr=0.1, box=7.5, cls=0.5, dfl=1.5, pose=12.0, kobj=1.0, nbs=64, hsv_h=0.015, hsv_s=0.7, hsv_v=0.4, degrees=0.0, translate=0.1, scale=0.5, shear=0.0, perspective=0.0, flipud=0.0, fliplr=0.5, bgr=0.0, mosaic=1.0, mixup=0.0, copy_paste=0.0, copy_paste_mode=flip, auto_augment=randaugment, erasing=0.4, crop_fraction=1.0, cfg=None, tracker=botsort.yaml, save_dir=runs\\detect\\train7\n",
      "Overriding model.yaml nc=80 with nc=26\n",
      "\n",
      "                   from  n    params  module                                       arguments                     \n",
      "  0                  -1  1      3520  ultralytics.nn.modules.conv.Conv             [3, 32, 6, 2, 2]              \n",
      "  1                  -1  1     18560  ultralytics.nn.modules.conv.Conv             [32, 64, 3, 2]                \n",
      "  2                  -1  1     18816  ultralytics.nn.modules.block.C3              [64, 64, 1]                   \n",
      "  3                  -1  1     73984  ultralytics.nn.modules.conv.Conv             [64, 128, 3, 2]               \n",
      "  4                  -1  2    115712  ultralytics.nn.modules.block.C3              [128, 128, 2]                 \n",
      "  5                  -1  1    295424  ultralytics.nn.modules.conv.Conv             [128, 256, 3, 2]              \n",
      "  6                  -1  3    625152  ultralytics.nn.modules.block.C3              [256, 256, 3]                 \n",
      "  7                  -1  1   1180672  ultralytics.nn.modules.conv.Conv             [256, 512, 3, 2]              \n",
      "  8                  -1  1   1182720  ultralytics.nn.modules.block.C3              [512, 512, 1]                 \n",
      "  9                  -1  1    656896  ultralytics.nn.modules.block.SPPF            [512, 512, 5]                 \n",
      " 10                  -1  1    131584  ultralytics.nn.modules.conv.Conv             [512, 256, 1, 1]              \n",
      " 11                  -1  1         0  torch.nn.modules.upsampling.Upsample         [None, 2, 'nearest']          \n",
      " 12             [-1, 6]  1         0  ultralytics.nn.modules.conv.Concat           [1]                           \n",
      " 13                  -1  1    361984  ultralytics.nn.modules.block.C3              [512, 256, 1, False]          \n",
      " 14                  -1  1     33024  ultralytics.nn.modules.conv.Conv             [256, 128, 1, 1]              \n",
      " 15                  -1  1         0  torch.nn.modules.upsampling.Upsample         [None, 2, 'nearest']          \n",
      " 16             [-1, 4]  1         0  ultralytics.nn.modules.conv.Concat           [1]                           \n",
      " 17                  -1  1     90880  ultralytics.nn.modules.block.C3              [256, 128, 1, False]          \n",
      " 18                  -1  1    147712  ultralytics.nn.modules.conv.Conv             [128, 128, 3, 2]              \n",
      " 19            [-1, 14]  1         0  ultralytics.nn.modules.conv.Concat           [1]                           \n",
      " 20                  -1  1    296448  ultralytics.nn.modules.block.C3              [256, 256, 1, False]          \n",
      " 21                  -1  1    590336  ultralytics.nn.modules.conv.Conv             [256, 256, 3, 2]              \n",
      " 22            [-1, 10]  1         0  ultralytics.nn.modules.conv.Concat           [1]                           \n",
      " 23                  -1  1   1182720  ultralytics.nn.modules.block.C3              [512, 512, 1, False]          \n",
      " 24        [17, 20, 23]  1   2126110  ultralytics.nn.modules.head.Detect           [26, [128, 256, 512]]         \n",
      "YOLOv5s summary: 153 layers, 9,132,254 parameters, 9,132,238 gradients, 24.1 GFLOPs\n",
      "\n",
      "Transferred 421/427 items from pretrained weights\n",
      "\u001b[34m\u001b[1mTensorBoard: \u001b[0mStart with 'tensorboard --logdir runs\\detect\\train7', view at http://localhost:6006/\n",
      "Freezing layer 'model.24.dfl.conv.weight'\n"
     ]
    },
    {
     "name": "stderr",
     "output_type": "stream",
     "text": [
      "\u001b[34m\u001b[1mtrain: \u001b[0mScanning C:\\Users\\himek\\Desktop\\tff\\Yolo\\dataset\\train\\labels.cache... 1512 images, 0 backgrounds, 0 corrupt: 100%|██████████| 1512/1512 [00:00<?, ?it/s]\n",
      "\u001b[34m\u001b[1mval: \u001b[0mScanning C:\\Users\\himek\\Desktop\\tff\\Yolo\\dataset\\valid\\labels.cache... 144 images, 0 backgrounds, 0 corrupt: 100%|██████████| 144/144 [00:00<?, ?it/s]\n"
     ]
    },
    {
     "name": "stdout",
     "output_type": "stream",
     "text": [
      "Plotting labels to runs\\detect\\train7\\labels.jpg... \n",
      "\u001b[34m\u001b[1moptimizer:\u001b[0m 'optimizer=auto' found, ignoring 'lr0=0.01' and 'momentum=0.937' and determining best 'optimizer', 'lr0' and 'momentum' automatically... \n",
      "\u001b[34m\u001b[1moptimizer:\u001b[0m AdamW(lr=0.000333, momentum=0.9) with parameter groups 69 weight(decay=0.0), 76 weight(decay=0.0005), 75 bias(decay=0.0)\n",
      "\u001b[34m\u001b[1mTensorBoard: \u001b[0mmodel graph visualization added \n",
      "Image sizes 416 train, 416 val\n",
      "Using 0 dataloader workers\n",
      "Logging results to \u001b[1mruns\\detect\\train7\u001b[0m\n",
      "Starting training for 50 epochs...\n",
      "\n",
      "      Epoch    GPU_mem   box_loss   cls_loss   dfl_loss  Instances       Size\n"
     ]
    },
    {
     "name": "stderr",
     "output_type": "stream",
     "text": [
      "       1/50         0G      1.092      3.362      1.394         20        416: 100%|██████████| 95/95 [10:43<00:00,  6.77s/it]\n",
      "                 Class     Images  Instances      Box(P          R      mAP50  mAP50-95): 100%|██████████| 5/5 [00:27<00:00,  5.46s/it]"
     ]
    },
    {
     "name": "stdout",
     "output_type": "stream",
     "text": [
      "                   all        144        144      0.402      0.536      0.469      0.345\n"
     ]
    },
    {
     "name": "stderr",
     "output_type": "stream",
     "text": [
      "\n"
     ]
    },
    {
     "name": "stdout",
     "output_type": "stream",
     "text": [
      "\n",
      "      Epoch    GPU_mem   box_loss   cls_loss   dfl_loss  Instances       Size\n"
     ]
    },
    {
     "name": "stderr",
     "output_type": "stream",
     "text": [
      "       2/50         0G     0.9101      2.308      1.229         19        416: 100%|██████████| 95/95 [07:46<00:00,  4.91s/it]\n",
      "                 Class     Images  Instances      Box(P          R      mAP50  mAP50-95): 100%|██████████| 5/5 [00:15<00:00,  3.18s/it]"
     ]
    },
    {
     "name": "stdout",
     "output_type": "stream",
     "text": [
      "                   all        144        144       0.52      0.686      0.711      0.568\n"
     ]
    },
    {
     "name": "stderr",
     "output_type": "stream",
     "text": [
      "\n"
     ]
    },
    {
     "name": "stdout",
     "output_type": "stream",
     "text": [
      "\n",
      "      Epoch    GPU_mem   box_loss   cls_loss   dfl_loss  Instances       Size\n"
     ]
    },
    {
     "name": "stderr",
     "output_type": "stream",
     "text": [
      "       3/50         0G     0.9022      1.995       1.21         20        416: 100%|██████████| 95/95 [06:49<00:00,  4.31s/it]\n",
      "                 Class     Images  Instances      Box(P          R      mAP50  mAP50-95): 100%|██████████| 5/5 [00:14<00:00,  2.96s/it]"
     ]
    },
    {
     "name": "stdout",
     "output_type": "stream",
     "text": [
      "                   all        144        144      0.612      0.687      0.789       0.61\n"
     ]
    },
    {
     "name": "stderr",
     "output_type": "stream",
     "text": [
      "\n"
     ]
    },
    {
     "name": "stdout",
     "output_type": "stream",
     "text": [
      "\n",
      "      Epoch    GPU_mem   box_loss   cls_loss   dfl_loss  Instances       Size\n"
     ]
    },
    {
     "name": "stderr",
     "output_type": "stream",
     "text": [
      "       4/50         0G     0.8784      1.767      1.198         22        416: 100%|██████████| 95/95 [06:48<00:00,  4.30s/it]\n",
      "                 Class     Images  Instances      Box(P          R      mAP50  mAP50-95): 100%|██████████| 5/5 [00:14<00:00,  2.96s/it]"
     ]
    },
    {
     "name": "stdout",
     "output_type": "stream",
     "text": [
      "                   all        144        144      0.767      0.686      0.829      0.628\n"
     ]
    },
    {
     "name": "stderr",
     "output_type": "stream",
     "text": [
      "\n"
     ]
    },
    {
     "name": "stdout",
     "output_type": "stream",
     "text": [
      "\n",
      "      Epoch    GPU_mem   box_loss   cls_loss   dfl_loss  Instances       Size\n"
     ]
    },
    {
     "name": "stderr",
     "output_type": "stream",
     "text": [
      "       5/50         0G     0.8479      1.576       1.16         19        416: 100%|██████████| 95/95 [06:48<00:00,  4.30s/it]\n",
      "                 Class     Images  Instances      Box(P          R      mAP50  mAP50-95): 100%|██████████| 5/5 [00:14<00:00,  2.94s/it]"
     ]
    },
    {
     "name": "stdout",
     "output_type": "stream",
     "text": [
      "                   all        144        144      0.644      0.754      0.861      0.687\n"
     ]
    },
    {
     "name": "stderr",
     "output_type": "stream",
     "text": [
      "\n"
     ]
    },
    {
     "name": "stdout",
     "output_type": "stream",
     "text": [
      "\n",
      "      Epoch    GPU_mem   box_loss   cls_loss   dfl_loss  Instances       Size\n"
     ]
    },
    {
     "name": "stderr",
     "output_type": "stream",
     "text": [
      "       6/50         0G     0.8487      1.448      1.156         19        416: 100%|██████████| 95/95 [06:45<00:00,  4.27s/it]\n",
      "                 Class     Images  Instances      Box(P          R      mAP50  mAP50-95): 100%|██████████| 5/5 [00:14<00:00,  2.93s/it]"
     ]
    },
    {
     "name": "stdout",
     "output_type": "stream",
     "text": [
      "                   all        144        144      0.777      0.705      0.864      0.707\n"
     ]
    },
    {
     "name": "stderr",
     "output_type": "stream",
     "text": [
      "\n"
     ]
    },
    {
     "name": "stdout",
     "output_type": "stream",
     "text": [
      "\n",
      "      Epoch    GPU_mem   box_loss   cls_loss   dfl_loss  Instances       Size\n"
     ]
    },
    {
     "name": "stderr",
     "output_type": "stream",
     "text": [
      "       7/50         0G     0.8116      1.327      1.143         17        416: 100%|██████████| 95/95 [06:49<00:00,  4.31s/it]\n",
      "                 Class     Images  Instances      Box(P          R      mAP50  mAP50-95): 100%|██████████| 5/5 [00:13<00:00,  2.75s/it]"
     ]
    },
    {
     "name": "stdout",
     "output_type": "stream",
     "text": [
      "                   all        144        144      0.833      0.805      0.877      0.708\n"
     ]
    },
    {
     "name": "stderr",
     "output_type": "stream",
     "text": [
      "\n"
     ]
    },
    {
     "name": "stdout",
     "output_type": "stream",
     "text": [
      "\n",
      "      Epoch    GPU_mem   box_loss   cls_loss   dfl_loss  Instances       Size\n"
     ]
    },
    {
     "name": "stderr",
     "output_type": "stream",
     "text": [
      "       8/50         0G     0.7948      1.269      1.132         18        416: 100%|██████████| 95/95 [07:46<00:00,  4.91s/it]\n",
      "                 Class     Images  Instances      Box(P          R      mAP50  mAP50-95): 100%|██████████| 5/5 [00:15<00:00,  3.12s/it]"
     ]
    },
    {
     "name": "stdout",
     "output_type": "stream",
     "text": [
      "                   all        144        144      0.821      0.771      0.896      0.696\n"
     ]
    },
    {
     "name": "stderr",
     "output_type": "stream",
     "text": [
      "\n"
     ]
    },
    {
     "name": "stdout",
     "output_type": "stream",
     "text": [
      "\n",
      "      Epoch    GPU_mem   box_loss   cls_loss   dfl_loss  Instances       Size\n"
     ]
    },
    {
     "name": "stderr",
     "output_type": "stream",
     "text": [
      "       9/50         0G     0.7952      1.197      1.128         19        416: 100%|██████████| 95/95 [07:34<00:00,  4.78s/it]\n",
      "                 Class     Images  Instances      Box(P          R      mAP50  mAP50-95): 100%|██████████| 5/5 [00:16<00:00,  3.22s/it]"
     ]
    },
    {
     "name": "stdout",
     "output_type": "stream",
     "text": [
      "                   all        144        144      0.816      0.779      0.932      0.783\n"
     ]
    },
    {
     "name": "stderr",
     "output_type": "stream",
     "text": [
      "\n"
     ]
    },
    {
     "name": "stdout",
     "output_type": "stream",
     "text": [
      "\n",
      "      Epoch    GPU_mem   box_loss   cls_loss   dfl_loss  Instances       Size\n"
     ]
    },
    {
     "name": "stderr",
     "output_type": "stream",
     "text": [
      "      10/50         0G     0.7704      1.099      1.108         15        416: 100%|██████████| 95/95 [07:45<00:00,  4.90s/it]\n",
      "                 Class     Images  Instances      Box(P          R      mAP50  mAP50-95): 100%|██████████| 5/5 [00:15<00:00,  3.13s/it]"
     ]
    },
    {
     "name": "stdout",
     "output_type": "stream",
     "text": [
      "                   all        144        144      0.869      0.799      0.907      0.734\n"
     ]
    },
    {
     "name": "stderr",
     "output_type": "stream",
     "text": [
      "\n"
     ]
    },
    {
     "name": "stdout",
     "output_type": "stream",
     "text": [
      "\n",
      "      Epoch    GPU_mem   box_loss   cls_loss   dfl_loss  Instances       Size\n"
     ]
    },
    {
     "name": "stderr",
     "output_type": "stream",
     "text": [
      "      11/50         0G     0.7489      1.079      1.098         18        416: 100%|██████████| 95/95 [07:02<00:00,  4.45s/it]\n",
      "                 Class     Images  Instances      Box(P          R      mAP50  mAP50-95): 100%|██████████| 5/5 [00:15<00:00,  3.05s/it]"
     ]
    },
    {
     "name": "stdout",
     "output_type": "stream",
     "text": [
      "                   all        144        144      0.858      0.849      0.927      0.766\n"
     ]
    },
    {
     "name": "stderr",
     "output_type": "stream",
     "text": [
      "\n"
     ]
    },
    {
     "name": "stdout",
     "output_type": "stream",
     "text": [
      "\n",
      "      Epoch    GPU_mem   box_loss   cls_loss   dfl_loss  Instances       Size\n"
     ]
    },
    {
     "name": "stderr",
     "output_type": "stream",
     "text": [
      "      12/50         0G     0.7575       1.08      1.103         16        416: 100%|██████████| 95/95 [07:02<00:00,  4.45s/it]\n",
      "                 Class     Images  Instances      Box(P          R      mAP50  mAP50-95): 100%|██████████| 5/5 [00:15<00:00,  3.02s/it]"
     ]
    },
    {
     "name": "stdout",
     "output_type": "stream",
     "text": [
      "                   all        144        144      0.845      0.849      0.941      0.749\n"
     ]
    },
    {
     "name": "stderr",
     "output_type": "stream",
     "text": [
      "\n"
     ]
    },
    {
     "name": "stdout",
     "output_type": "stream",
     "text": [
      "\n",
      "      Epoch    GPU_mem   box_loss   cls_loss   dfl_loss  Instances       Size\n"
     ]
    },
    {
     "name": "stderr",
     "output_type": "stream",
     "text": [
      "      13/50         0G     0.7429      1.014      1.094         18        416: 100%|██████████| 95/95 [07:12<00:00,  4.55s/it]\n",
      "                 Class     Images  Instances      Box(P          R      mAP50  mAP50-95): 100%|██████████| 5/5 [00:15<00:00,  3.08s/it]"
     ]
    },
    {
     "name": "stdout",
     "output_type": "stream",
     "text": [
      "                   all        144        144       0.86      0.868      0.916      0.734\n"
     ]
    },
    {
     "name": "stderr",
     "output_type": "stream",
     "text": [
      "\n"
     ]
    },
    {
     "name": "stdout",
     "output_type": "stream",
     "text": [
      "\n",
      "      Epoch    GPU_mem   box_loss   cls_loss   dfl_loss  Instances       Size\n"
     ]
    },
    {
     "name": "stderr",
     "output_type": "stream",
     "text": [
      "      14/50         0G     0.7336     0.9714      1.085         20        416: 100%|██████████| 95/95 [07:24<00:00,  4.68s/it]\n",
      "                 Class     Images  Instances      Box(P          R      mAP50  mAP50-95): 100%|██████████| 5/5 [00:15<00:00,  3.08s/it]"
     ]
    },
    {
     "name": "stdout",
     "output_type": "stream",
     "text": [
      "                   all        144        144      0.843      0.875       0.94      0.753\n"
     ]
    },
    {
     "name": "stderr",
     "output_type": "stream",
     "text": [
      "\n"
     ]
    },
    {
     "name": "stdout",
     "output_type": "stream",
     "text": [
      "\n",
      "      Epoch    GPU_mem   box_loss   cls_loss   dfl_loss  Instances       Size\n"
     ]
    },
    {
     "name": "stderr",
     "output_type": "stream",
     "text": [
      "      15/50         0G     0.7258     0.9303      1.085         15        416: 100%|██████████| 95/95 [07:05<00:00,  4.47s/it]\n",
      "                 Class     Images  Instances      Box(P          R      mAP50  mAP50-95): 100%|██████████| 5/5 [00:15<00:00,  3.14s/it]"
     ]
    },
    {
     "name": "stdout",
     "output_type": "stream",
     "text": [
      "                   all        144        144       0.86      0.894      0.952      0.777\n"
     ]
    },
    {
     "name": "stderr",
     "output_type": "stream",
     "text": [
      "\n"
     ]
    },
    {
     "name": "stdout",
     "output_type": "stream",
     "text": [
      "\n",
      "      Epoch    GPU_mem   box_loss   cls_loss   dfl_loss  Instances       Size\n"
     ]
    },
    {
     "name": "stderr",
     "output_type": "stream",
     "text": [
      "      16/50         0G      0.701     0.9076       1.07         19        416: 100%|██████████| 95/95 [07:16<00:00,  4.60s/it]\n",
      "                 Class     Images  Instances      Box(P          R      mAP50  mAP50-95): 100%|██████████| 5/5 [00:15<00:00,  3.20s/it]"
     ]
    },
    {
     "name": "stdout",
     "output_type": "stream",
     "text": [
      "                   all        144        144      0.801      0.872      0.939      0.776\n"
     ]
    },
    {
     "name": "stderr",
     "output_type": "stream",
     "text": [
      "\n"
     ]
    },
    {
     "name": "stdout",
     "output_type": "stream",
     "text": [
      "\n",
      "      Epoch    GPU_mem   box_loss   cls_loss   dfl_loss  Instances       Size\n"
     ]
    },
    {
     "name": "stderr",
     "output_type": "stream",
     "text": [
      "      17/50         0G     0.7058     0.8658      1.073         19        416: 100%|██████████| 95/95 [07:07<00:00,  4.50s/it]\n",
      "                 Class     Images  Instances      Box(P          R      mAP50  mAP50-95): 100%|██████████| 5/5 [00:15<00:00,  3.16s/it]"
     ]
    },
    {
     "name": "stdout",
     "output_type": "stream",
     "text": [
      "                   all        144        144      0.884      0.873      0.937      0.755\n"
     ]
    },
    {
     "name": "stderr",
     "output_type": "stream",
     "text": [
      "\n"
     ]
    },
    {
     "name": "stdout",
     "output_type": "stream",
     "text": [
      "\n",
      "      Epoch    GPU_mem   box_loss   cls_loss   dfl_loss  Instances       Size\n"
     ]
    },
    {
     "name": "stderr",
     "output_type": "stream",
     "text": [
      "      18/50         0G     0.6951     0.8306       1.07         14        416: 100%|██████████| 95/95 [07:01<00:00,  4.43s/it]\n",
      "                 Class     Images  Instances      Box(P          R      mAP50  mAP50-95): 100%|██████████| 5/5 [00:16<00:00,  3.24s/it]"
     ]
    },
    {
     "name": "stdout",
     "output_type": "stream",
     "text": [
      "                   all        144        144      0.883      0.846      0.933      0.744\n"
     ]
    },
    {
     "name": "stderr",
     "output_type": "stream",
     "text": [
      "\n"
     ]
    },
    {
     "name": "stdout",
     "output_type": "stream",
     "text": [
      "\n",
      "      Epoch    GPU_mem   box_loss   cls_loss   dfl_loss  Instances       Size\n"
     ]
    },
    {
     "name": "stderr",
     "output_type": "stream",
     "text": [
      "      19/50         0G     0.6965     0.8326      1.065         22        416: 100%|██████████| 95/95 [07:00<00:00,  4.42s/it]\n",
      "                 Class     Images  Instances      Box(P          R      mAP50  mAP50-95): 100%|██████████| 5/5 [00:15<00:00,  3.18s/it]"
     ]
    },
    {
     "name": "stdout",
     "output_type": "stream",
     "text": [
      "                   all        144        144      0.902      0.857      0.943      0.751\n"
     ]
    },
    {
     "name": "stderr",
     "output_type": "stream",
     "text": [
      "\n"
     ]
    },
    {
     "name": "stdout",
     "output_type": "stream",
     "text": [
      "\n",
      "      Epoch    GPU_mem   box_loss   cls_loss   dfl_loss  Instances       Size\n"
     ]
    },
    {
     "name": "stderr",
     "output_type": "stream",
     "text": [
      "      20/50         0G     0.6862     0.8114      1.055         21        416: 100%|██████████| 95/95 [07:09<00:00,  4.53s/it]\n",
      "                 Class     Images  Instances      Box(P          R      mAP50  mAP50-95): 100%|██████████| 5/5 [00:15<00:00,  3.18s/it]"
     ]
    },
    {
     "name": "stdout",
     "output_type": "stream",
     "text": [
      "                   all        144        144      0.843      0.874      0.947      0.782\n"
     ]
    },
    {
     "name": "stderr",
     "output_type": "stream",
     "text": [
      "\n"
     ]
    },
    {
     "name": "stdout",
     "output_type": "stream",
     "text": [
      "\n",
      "      Epoch    GPU_mem   box_loss   cls_loss   dfl_loss  Instances       Size\n"
     ]
    },
    {
     "name": "stderr",
     "output_type": "stream",
     "text": [
      "      21/50         0G      0.684     0.8212      1.056         11        416: 100%|██████████| 95/95 [07:05<00:00,  4.48s/it]\n",
      "                 Class     Images  Instances      Box(P          R      mAP50  mAP50-95): 100%|██████████| 5/5 [00:15<00:00,  3.16s/it]"
     ]
    },
    {
     "name": "stdout",
     "output_type": "stream",
     "text": [
      "                   all        144        144      0.875      0.875      0.949      0.774\n"
     ]
    },
    {
     "name": "stderr",
     "output_type": "stream",
     "text": [
      "\n"
     ]
    },
    {
     "name": "stdout",
     "output_type": "stream",
     "text": [
      "\n",
      "      Epoch    GPU_mem   box_loss   cls_loss   dfl_loss  Instances       Size\n"
     ]
    },
    {
     "name": "stderr",
     "output_type": "stream",
     "text": [
      "      22/50         0G     0.6832     0.8238      1.064         20        416: 100%|██████████| 95/95 [07:00<00:00,  4.43s/it]\n",
      "                 Class     Images  Instances      Box(P          R      mAP50  mAP50-95): 100%|██████████| 5/5 [00:15<00:00,  3.10s/it]"
     ]
    },
    {
     "name": "stdout",
     "output_type": "stream",
     "text": [
      "                   all        144        144      0.873      0.879      0.929      0.784\n"
     ]
    },
    {
     "name": "stderr",
     "output_type": "stream",
     "text": [
      "\n"
     ]
    },
    {
     "name": "stdout",
     "output_type": "stream",
     "text": [
      "\n",
      "      Epoch    GPU_mem   box_loss   cls_loss   dfl_loss  Instances       Size\n"
     ]
    },
    {
     "name": "stderr",
     "output_type": "stream",
     "text": [
      "      23/50         0G     0.6757     0.7814      1.048         18        416: 100%|██████████| 95/95 [06:54<00:00,  4.36s/it]\n",
      "                 Class     Images  Instances      Box(P          R      mAP50  mAP50-95): 100%|██████████| 5/5 [00:15<00:00,  3.14s/it]"
     ]
    },
    {
     "name": "stdout",
     "output_type": "stream",
     "text": [
      "                   all        144        144      0.919      0.875      0.955      0.792\n"
     ]
    },
    {
     "name": "stderr",
     "output_type": "stream",
     "text": [
      "\n"
     ]
    },
    {
     "name": "stdout",
     "output_type": "stream",
     "text": [
      "\n",
      "      Epoch    GPU_mem   box_loss   cls_loss   dfl_loss  Instances       Size\n"
     ]
    },
    {
     "name": "stderr",
     "output_type": "stream",
     "text": [
      "      24/50         0G     0.6616     0.7374      1.044         17        416: 100%|██████████| 95/95 [06:54<00:00,  4.36s/it]\n",
      "                 Class     Images  Instances      Box(P          R      mAP50  mAP50-95): 100%|██████████| 5/5 [00:15<00:00,  3.09s/it]"
     ]
    },
    {
     "name": "stdout",
     "output_type": "stream",
     "text": [
      "                   all        144        144      0.918      0.898      0.944      0.791\n"
     ]
    },
    {
     "name": "stderr",
     "output_type": "stream",
     "text": [
      "\n"
     ]
    },
    {
     "name": "stdout",
     "output_type": "stream",
     "text": [
      "\n",
      "      Epoch    GPU_mem   box_loss   cls_loss   dfl_loss  Instances       Size\n"
     ]
    },
    {
     "name": "stderr",
     "output_type": "stream",
     "text": [
      "      25/50         0G     0.6592     0.7611      1.039         15        416: 100%|██████████| 95/95 [06:55<00:00,  4.37s/it]\n",
      "                 Class     Images  Instances      Box(P          R      mAP50  mAP50-95): 100%|██████████| 5/5 [00:15<00:00,  3.15s/it]"
     ]
    },
    {
     "name": "stdout",
     "output_type": "stream",
     "text": [
      "                   all        144        144      0.932      0.883      0.949      0.785\n"
     ]
    },
    {
     "name": "stderr",
     "output_type": "stream",
     "text": [
      "\n"
     ]
    },
    {
     "name": "stdout",
     "output_type": "stream",
     "text": [
      "\n",
      "      Epoch    GPU_mem   box_loss   cls_loss   dfl_loss  Instances       Size\n"
     ]
    },
    {
     "name": "stderr",
     "output_type": "stream",
     "text": [
      "      26/50         0G     0.6391     0.7181      1.035         21        416: 100%|██████████| 95/95 [06:52<00:00,  4.34s/it]\n",
      "                 Class     Images  Instances      Box(P          R      mAP50  mAP50-95): 100%|██████████| 5/5 [00:15<00:00,  3.09s/it]"
     ]
    },
    {
     "name": "stdout",
     "output_type": "stream",
     "text": [
      "                   all        144        144      0.889      0.887      0.947      0.772\n"
     ]
    },
    {
     "name": "stderr",
     "output_type": "stream",
     "text": [
      "\n"
     ]
    },
    {
     "name": "stdout",
     "output_type": "stream",
     "text": [
      "\n",
      "      Epoch    GPU_mem   box_loss   cls_loss   dfl_loss  Instances       Size\n"
     ]
    },
    {
     "name": "stderr",
     "output_type": "stream",
     "text": [
      "      27/50         0G     0.6395      0.684      1.029         21        416: 100%|██████████| 95/95 [06:54<00:00,  4.37s/it]\n",
      "                 Class     Images  Instances      Box(P          R      mAP50  mAP50-95): 100%|██████████| 5/5 [00:16<00:00,  3.21s/it]"
     ]
    },
    {
     "name": "stdout",
     "output_type": "stream",
     "text": [
      "                   all        144        144       0.92       0.89      0.961      0.773\n"
     ]
    },
    {
     "name": "stderr",
     "output_type": "stream",
     "text": [
      "\n"
     ]
    },
    {
     "name": "stdout",
     "output_type": "stream",
     "text": [
      "\n",
      "      Epoch    GPU_mem   box_loss   cls_loss   dfl_loss  Instances       Size\n"
     ]
    },
    {
     "name": "stderr",
     "output_type": "stream",
     "text": [
      "      28/50         0G     0.6239     0.6637      1.031         22        416: 100%|██████████| 95/95 [07:18<00:00,  4.61s/it]\n",
      "                 Class     Images  Instances      Box(P          R      mAP50  mAP50-95): 100%|██████████| 5/5 [00:16<00:00,  3.31s/it]"
     ]
    },
    {
     "name": "stdout",
     "output_type": "stream",
     "text": [
      "                   all        144        144      0.904      0.869      0.942      0.755\n"
     ]
    },
    {
     "name": "stderr",
     "output_type": "stream",
     "text": [
      "\n"
     ]
    },
    {
     "name": "stdout",
     "output_type": "stream",
     "text": [
      "\n",
      "      Epoch    GPU_mem   box_loss   cls_loss   dfl_loss  Instances       Size\n"
     ]
    },
    {
     "name": "stderr",
     "output_type": "stream",
     "text": [
      "      29/50         0G     0.6322      0.682       1.03         19        416: 100%|██████████| 95/95 [07:14<00:00,  4.57s/it]\n",
      "                 Class     Images  Instances      Box(P          R      mAP50  mAP50-95): 100%|██████████| 5/5 [00:16<00:00,  3.21s/it]"
     ]
    },
    {
     "name": "stdout",
     "output_type": "stream",
     "text": [
      "                   all        144        144      0.895      0.863      0.936      0.761\n"
     ]
    },
    {
     "name": "stderr",
     "output_type": "stream",
     "text": [
      "\n"
     ]
    },
    {
     "name": "stdout",
     "output_type": "stream",
     "text": [
      "\n",
      "      Epoch    GPU_mem   box_loss   cls_loss   dfl_loss  Instances       Size\n"
     ]
    },
    {
     "name": "stderr",
     "output_type": "stream",
     "text": [
      "      30/50         0G     0.6258     0.6374      1.024         15        416: 100%|██████████| 95/95 [07:11<00:00,  4.54s/it]\n",
      "                 Class     Images  Instances      Box(P          R      mAP50  mAP50-95): 100%|██████████| 5/5 [00:16<00:00,  3.20s/it]"
     ]
    },
    {
     "name": "stdout",
     "output_type": "stream",
     "text": [
      "                   all        144        144      0.899      0.893      0.945       0.81\n"
     ]
    },
    {
     "name": "stderr",
     "output_type": "stream",
     "text": [
      "\n"
     ]
    },
    {
     "name": "stdout",
     "output_type": "stream",
     "text": [
      "\n",
      "      Epoch    GPU_mem   box_loss   cls_loss   dfl_loss  Instances       Size\n"
     ]
    },
    {
     "name": "stderr",
     "output_type": "stream",
     "text": [
      "      31/50         0G     0.6117     0.6215       1.02         10        416: 100%|██████████| 95/95 [07:07<00:00,  4.50s/it]\n",
      "                 Class     Images  Instances      Box(P          R      mAP50  mAP50-95): 100%|██████████| 5/5 [00:15<00:00,  3.16s/it]"
     ]
    },
    {
     "name": "stdout",
     "output_type": "stream",
     "text": [
      "                   all        144        144      0.915      0.918      0.956      0.778\n"
     ]
    },
    {
     "name": "stderr",
     "output_type": "stream",
     "text": [
      "\n"
     ]
    },
    {
     "name": "stdout",
     "output_type": "stream",
     "text": [
      "\n",
      "      Epoch    GPU_mem   box_loss   cls_loss   dfl_loss  Instances       Size\n"
     ]
    },
    {
     "name": "stderr",
     "output_type": "stream",
     "text": [
      "      32/50         0G     0.6101     0.6216       1.02         16        416: 100%|██████████| 95/95 [07:10<00:00,  4.53s/it]\n",
      "                 Class     Images  Instances      Box(P          R      mAP50  mAP50-95): 100%|██████████| 5/5 [00:16<00:00,  3.21s/it]"
     ]
    },
    {
     "name": "stdout",
     "output_type": "stream",
     "text": [
      "                   all        144        144      0.919      0.877      0.946      0.787\n"
     ]
    },
    {
     "name": "stderr",
     "output_type": "stream",
     "text": [
      "\n"
     ]
    },
    {
     "name": "stdout",
     "output_type": "stream",
     "text": [
      "\n",
      "      Epoch    GPU_mem   box_loss   cls_loss   dfl_loss  Instances       Size\n"
     ]
    },
    {
     "name": "stderr",
     "output_type": "stream",
     "text": [
      "      33/50         0G     0.6021     0.6046      1.022         16        416: 100%|██████████| 95/95 [07:29<00:00,  4.74s/it]\n",
      "                 Class     Images  Instances      Box(P          R      mAP50  mAP50-95): 100%|██████████| 5/5 [00:15<00:00,  3.15s/it]"
     ]
    },
    {
     "name": "stdout",
     "output_type": "stream",
     "text": [
      "                   all        144        144      0.931       0.89      0.956      0.787\n"
     ]
    },
    {
     "name": "stderr",
     "output_type": "stream",
     "text": [
      "\n"
     ]
    },
    {
     "name": "stdout",
     "output_type": "stream",
     "text": [
      "\n",
      "      Epoch    GPU_mem   box_loss   cls_loss   dfl_loss  Instances       Size\n"
     ]
    },
    {
     "name": "stderr",
     "output_type": "stream",
     "text": [
      "      34/50         0G     0.6024        0.6      1.016         16        416: 100%|██████████| 95/95 [07:06<00:00,  4.49s/it]\n",
      "                 Class     Images  Instances      Box(P          R      mAP50  mAP50-95): 100%|██████████| 5/5 [00:15<00:00,  3.16s/it]"
     ]
    },
    {
     "name": "stdout",
     "output_type": "stream",
     "text": [
      "                   all        144        144      0.935      0.899      0.965      0.787\n"
     ]
    },
    {
     "name": "stderr",
     "output_type": "stream",
     "text": [
      "\n"
     ]
    },
    {
     "name": "stdout",
     "output_type": "stream",
     "text": [
      "\n",
      "      Epoch    GPU_mem   box_loss   cls_loss   dfl_loss  Instances       Size\n"
     ]
    },
    {
     "name": "stderr",
     "output_type": "stream",
     "text": [
      "      35/50         0G     0.5932     0.5809      1.013         15        416: 100%|██████████| 95/95 [07:06<00:00,  4.49s/it]\n",
      "                 Class     Images  Instances      Box(P          R      mAP50  mAP50-95): 100%|██████████| 5/5 [00:15<00:00,  3.13s/it]"
     ]
    },
    {
     "name": "stdout",
     "output_type": "stream",
     "text": [
      "                   all        144        144      0.944      0.893      0.959      0.796\n"
     ]
    },
    {
     "name": "stderr",
     "output_type": "stream",
     "text": [
      "\n"
     ]
    },
    {
     "name": "stdout",
     "output_type": "stream",
     "text": [
      "\n",
      "      Epoch    GPU_mem   box_loss   cls_loss   dfl_loss  Instances       Size\n"
     ]
    },
    {
     "name": "stderr",
     "output_type": "stream",
     "text": [
      "      36/50         0G     0.5954     0.5826      1.008         15        416: 100%|██████████| 95/95 [07:03<00:00,  4.46s/it]\n",
      "                 Class     Images  Instances      Box(P          R      mAP50  mAP50-95): 100%|██████████| 5/5 [00:15<00:00,  3.14s/it]"
     ]
    },
    {
     "name": "stdout",
     "output_type": "stream",
     "text": [
      "                   all        144        144      0.928        0.9      0.952      0.801\n"
     ]
    },
    {
     "name": "stderr",
     "output_type": "stream",
     "text": [
      "\n"
     ]
    },
    {
     "name": "stdout",
     "output_type": "stream",
     "text": [
      "\n",
      "      Epoch    GPU_mem   box_loss   cls_loss   dfl_loss  Instances       Size\n"
     ]
    },
    {
     "name": "stderr",
     "output_type": "stream",
     "text": [
      "      37/50         0G       0.57     0.5484     0.9993         19        416: 100%|██████████| 95/95 [07:07<00:00,  4.50s/it]\n",
      "                 Class     Images  Instances      Box(P          R      mAP50  mAP50-95): 100%|██████████| 5/5 [00:15<00:00,  3.05s/it]"
     ]
    },
    {
     "name": "stdout",
     "output_type": "stream",
     "text": [
      "                   all        144        144      0.934      0.902      0.953      0.799\n"
     ]
    },
    {
     "name": "stderr",
     "output_type": "stream",
     "text": [
      "\n"
     ]
    },
    {
     "name": "stdout",
     "output_type": "stream",
     "text": [
      "\n",
      "      Epoch    GPU_mem   box_loss   cls_loss   dfl_loss  Instances       Size\n"
     ]
    },
    {
     "name": "stderr",
     "output_type": "stream",
     "text": [
      "      38/50         0G     0.5761     0.5469     0.9995         25        416: 100%|██████████| 95/95 [06:49<00:00,  4.31s/it]\n",
      "                 Class     Images  Instances      Box(P          R      mAP50  mAP50-95): 100%|██████████| 5/5 [00:15<00:00,  3.05s/it]"
     ]
    },
    {
     "name": "stdout",
     "output_type": "stream",
     "text": [
      "                   all        144        144      0.933      0.881      0.956      0.777\n"
     ]
    },
    {
     "name": "stderr",
     "output_type": "stream",
     "text": [
      "\n"
     ]
    },
    {
     "name": "stdout",
     "output_type": "stream",
     "text": [
      "\n",
      "      Epoch    GPU_mem   box_loss   cls_loss   dfl_loss  Instances       Size\n"
     ]
    },
    {
     "name": "stderr",
     "output_type": "stream",
     "text": [
      "      39/50         0G     0.5808     0.5281      1.001         16        416: 100%|██████████| 95/95 [06:58<00:00,  4.41s/it]\n",
      "                 Class     Images  Instances      Box(P          R      mAP50  mAP50-95): 100%|██████████| 5/5 [00:15<00:00,  3.04s/it]"
     ]
    },
    {
     "name": "stdout",
     "output_type": "stream",
     "text": [
      "                   all        144        144      0.931        0.9      0.951      0.776\n"
     ]
    },
    {
     "name": "stderr",
     "output_type": "stream",
     "text": [
      "\n"
     ]
    },
    {
     "name": "stdout",
     "output_type": "stream",
     "text": [
      "\n",
      "      Epoch    GPU_mem   box_loss   cls_loss   dfl_loss  Instances       Size\n"
     ]
    },
    {
     "name": "stderr",
     "output_type": "stream",
     "text": [
      "      40/50         0G     0.5726     0.5444      1.005         14        416: 100%|██████████| 95/95 [06:58<00:00,  4.40s/it]\n",
      "                 Class     Images  Instances      Box(P          R      mAP50  mAP50-95): 100%|██████████| 5/5 [00:15<00:00,  3.04s/it]"
     ]
    },
    {
     "name": "stdout",
     "output_type": "stream",
     "text": [
      "                   all        144        144       0.92      0.899       0.96       0.82\n"
     ]
    },
    {
     "name": "stderr",
     "output_type": "stream",
     "text": [
      "\n"
     ]
    },
    {
     "name": "stdout",
     "output_type": "stream",
     "text": [
      "Closing dataloader mosaic\n",
      "\n",
      "      Epoch    GPU_mem   box_loss   cls_loss   dfl_loss  Instances       Size\n"
     ]
    },
    {
     "name": "stderr",
     "output_type": "stream",
     "text": [
      "      41/50         0G     0.4152     0.2738     0.9068          8        416: 100%|██████████| 95/95 [06:59<00:00,  4.42s/it]\n",
      "                 Class     Images  Instances      Box(P          R      mAP50  mAP50-95): 100%|██████████| 5/5 [00:15<00:00,  3.01s/it]"
     ]
    },
    {
     "name": "stdout",
     "output_type": "stream",
     "text": [
      "                   all        144        144      0.936      0.897      0.967      0.799\n"
     ]
    },
    {
     "name": "stderr",
     "output_type": "stream",
     "text": [
      "\n"
     ]
    },
    {
     "name": "stdout",
     "output_type": "stream",
     "text": [
      "\n",
      "      Epoch    GPU_mem   box_loss   cls_loss   dfl_loss  Instances       Size\n"
     ]
    },
    {
     "name": "stderr",
     "output_type": "stream",
     "text": [
      "      42/50         0G     0.4099     0.2508     0.8942          8        416: 100%|██████████| 95/95 [07:35<00:00,  4.79s/it]\n",
      "                 Class     Images  Instances      Box(P          R      mAP50  mAP50-95): 100%|██████████| 5/5 [00:15<00:00,  3.08s/it]"
     ]
    },
    {
     "name": "stdout",
     "output_type": "stream",
     "text": [
      "                   all        144        144      0.935      0.906      0.963      0.806\n"
     ]
    },
    {
     "name": "stderr",
     "output_type": "stream",
     "text": [
      "\n"
     ]
    },
    {
     "name": "stdout",
     "output_type": "stream",
     "text": [
      "\n",
      "      Epoch    GPU_mem   box_loss   cls_loss   dfl_loss  Instances       Size\n"
     ]
    },
    {
     "name": "stderr",
     "output_type": "stream",
     "text": [
      "      43/50         0G     0.4053     0.2475     0.8976          8        416: 100%|██████████| 95/95 [06:44<00:00,  4.25s/it]\n",
      "                 Class     Images  Instances      Box(P          R      mAP50  mAP50-95): 100%|██████████| 5/5 [00:14<00:00,  2.89s/it]"
     ]
    },
    {
     "name": "stdout",
     "output_type": "stream",
     "text": [
      "                   all        144        144      0.942      0.902      0.959      0.793\n"
     ]
    },
    {
     "name": "stderr",
     "output_type": "stream",
     "text": [
      "\n"
     ]
    },
    {
     "name": "stdout",
     "output_type": "stream",
     "text": [
      "\n",
      "      Epoch    GPU_mem   box_loss   cls_loss   dfl_loss  Instances       Size\n"
     ]
    },
    {
     "name": "stderr",
     "output_type": "stream",
     "text": [
      "      44/50         0G     0.3959     0.2424     0.8961          8        416: 100%|██████████| 95/95 [06:38<00:00,  4.19s/it]\n",
      "                 Class     Images  Instances      Box(P          R      mAP50  mAP50-95): 100%|██████████| 5/5 [00:13<00:00,  2.76s/it]"
     ]
    },
    {
     "name": "stdout",
     "output_type": "stream",
     "text": [
      "                   all        144        144      0.932      0.902      0.962      0.821\n"
     ]
    },
    {
     "name": "stderr",
     "output_type": "stream",
     "text": [
      "\n"
     ]
    },
    {
     "name": "stdout",
     "output_type": "stream",
     "text": [
      "\n",
      "      Epoch    GPU_mem   box_loss   cls_loss   dfl_loss  Instances       Size\n"
     ]
    },
    {
     "name": "stderr",
     "output_type": "stream",
     "text": [
      "      45/50         0G       0.39     0.2389     0.8931          8        416: 100%|██████████| 95/95 [13:27<00:00,  8.50s/it]   \n",
      "                 Class     Images  Instances      Box(P          R      mAP50  mAP50-95): 100%|██████████| 5/5 [00:14<00:00,  2.83s/it]"
     ]
    },
    {
     "name": "stdout",
     "output_type": "stream",
     "text": [
      "                   all        144        144      0.926      0.908      0.974      0.821\n"
     ]
    },
    {
     "name": "stderr",
     "output_type": "stream",
     "text": [
      "\n"
     ]
    },
    {
     "name": "stdout",
     "output_type": "stream",
     "text": [
      "\n",
      "      Epoch    GPU_mem   box_loss   cls_loss   dfl_loss  Instances       Size\n"
     ]
    },
    {
     "name": "stderr",
     "output_type": "stream",
     "text": [
      "      46/50         0G      0.379     0.2326     0.8803          8        416: 100%|██████████| 95/95 [06:36<00:00,  4.17s/it]\n",
      "                 Class     Images  Instances      Box(P          R      mAP50  mAP50-95): 100%|██████████| 5/5 [00:14<00:00,  2.90s/it]"
     ]
    },
    {
     "name": "stdout",
     "output_type": "stream",
     "text": [
      "                   all        144        144      0.926      0.905      0.967      0.818\n"
     ]
    },
    {
     "name": "stderr",
     "output_type": "stream",
     "text": [
      "\n"
     ]
    },
    {
     "name": "stdout",
     "output_type": "stream",
     "text": [
      "\n",
      "      Epoch    GPU_mem   box_loss   cls_loss   dfl_loss  Instances       Size\n"
     ]
    },
    {
     "name": "stderr",
     "output_type": "stream",
     "text": [
      "      47/50         0G     0.3715     0.2256     0.8894          8        416: 100%|██████████| 95/95 [07:06<00:00,  4.49s/it]\n",
      "                 Class     Images  Instances      Box(P          R      mAP50  mAP50-95): 100%|██████████| 5/5 [00:15<00:00,  3.17s/it]"
     ]
    },
    {
     "name": "stdout",
     "output_type": "stream",
     "text": [
      "                   all        144        144       0.93      0.895      0.967      0.812\n"
     ]
    },
    {
     "name": "stderr",
     "output_type": "stream",
     "text": [
      "\n"
     ]
    },
    {
     "name": "stdout",
     "output_type": "stream",
     "text": [
      "\n",
      "      Epoch    GPU_mem   box_loss   cls_loss   dfl_loss  Instances       Size\n"
     ]
    },
    {
     "name": "stderr",
     "output_type": "stream",
     "text": [
      "      48/50         0G     0.3705     0.2215       0.88          8        416: 100%|██████████| 95/95 [07:52<00:00,  4.97s/it]\n",
      "                 Class     Images  Instances      Box(P          R      mAP50  mAP50-95): 100%|██████████| 5/5 [00:16<00:00,  3.35s/it]"
     ]
    },
    {
     "name": "stdout",
     "output_type": "stream",
     "text": [
      "                   all        144        144       0.94      0.887      0.966      0.801\n"
     ]
    },
    {
     "name": "stderr",
     "output_type": "stream",
     "text": [
      "\n"
     ]
    },
    {
     "name": "stdout",
     "output_type": "stream",
     "text": [
      "\n",
      "      Epoch    GPU_mem   box_loss   cls_loss   dfl_loss  Instances       Size\n"
     ]
    },
    {
     "name": "stderr",
     "output_type": "stream",
     "text": [
      "      49/50         0G      0.361     0.2181     0.8768          8        416: 100%|██████████| 95/95 [07:29<00:00,  4.73s/it]\n",
      "                 Class     Images  Instances      Box(P          R      mAP50  mAP50-95): 100%|██████████| 5/5 [00:16<00:00,  3.30s/it]"
     ]
    },
    {
     "name": "stdout",
     "output_type": "stream",
     "text": [
      "                   all        144        144       0.94       0.89      0.963      0.825\n"
     ]
    },
    {
     "name": "stderr",
     "output_type": "stream",
     "text": [
      "\n"
     ]
    },
    {
     "name": "stdout",
     "output_type": "stream",
     "text": [
      "\n",
      "      Epoch    GPU_mem   box_loss   cls_loss   dfl_loss  Instances       Size\n"
     ]
    },
    {
     "name": "stderr",
     "output_type": "stream",
     "text": [
      "      50/50         0G     0.3613     0.2158      0.876          8        416: 100%|██████████| 95/95 [07:29<00:00,  4.73s/it]\n",
      "                 Class     Images  Instances      Box(P          R      mAP50  mAP50-95): 100%|██████████| 5/5 [00:16<00:00,  3.26s/it]"
     ]
    },
    {
     "name": "stdout",
     "output_type": "stream",
     "text": [
      "                   all        144        144      0.936      0.886      0.962       0.82\n"
     ]
    },
    {
     "name": "stderr",
     "output_type": "stream",
     "text": [
      "\n"
     ]
    },
    {
     "name": "stdout",
     "output_type": "stream",
     "text": [
      "\n",
      "50 epochs completed in 6.334 hours.\n",
      "Optimizer stripped from runs\\detect\\train7\\weights\\last.pt, 18.5MB\n",
      "Optimizer stripped from runs\\detect\\train7\\weights\\best.pt, 18.5MB\n",
      "\n",
      "Validating runs\\detect\\train7\\weights\\best.pt...\n",
      "Ultralytics 8.3.107  Python-3.11.9 torch-2.6.0+cpu CPU (11th Gen Intel Core(TM) i5-1155G7 2.50GHz)\n",
      "YOLOv5s summary (fused): 84 layers, 9,121,598 parameters, 0 gradients, 23.9 GFLOPs\n"
     ]
    },
    {
     "name": "stderr",
     "output_type": "stream",
     "text": [
      "                 Class     Images  Instances      Box(P          R      mAP50  mAP50-95): 100%|██████████| 5/5 [00:15<00:00,  3.01s/it]\n"
     ]
    },
    {
     "name": "stdout",
     "output_type": "stream",
     "text": [
      "                   all        144        144       0.94       0.89      0.963      0.825\n",
      "                     A          5          5      0.965        0.8      0.962      0.838\n",
      "                     B          9          9          1      0.618      0.995      0.868\n",
      "                     C          3          3      0.994          1      0.995      0.785\n",
      "                     D          6          6          1      0.871      0.995      0.836\n",
      "                     E          4          4          1      0.785      0.995      0.899\n",
      "                     F          8          8      0.901          1      0.995      0.883\n",
      "                     G          5          5      0.981          1      0.995      0.875\n",
      "                     H          9          9      0.989          1      0.995      0.797\n",
      "                     I          2          2      0.925        0.5       0.62      0.547\n",
      "                     J          8          8       0.99          1      0.995      0.689\n",
      "                     K          6          6          1       0.81      0.995      0.864\n",
      "                     L          4          4      0.665          1      0.945      0.812\n",
      "                     M          8          8          1      0.703      0.995      0.875\n",
      "                     N          4          4      0.498          1      0.828       0.76\n",
      "                     O          7          7          1      0.978      0.995      0.832\n",
      "                     P          7          7          1      0.864      0.995      0.789\n",
      "                     Q          4          4      0.977          1      0.995      0.873\n",
      "                     R          7          7      0.989      0.857      0.978      0.846\n",
      "                     S          4          4      0.979          1      0.995      0.844\n",
      "                     T          6          6      0.935      0.667      0.927      0.821\n",
      "                     U          7          7      0.871          1      0.995      0.841\n",
      "                     V          5          5      0.974        0.8      0.862      0.742\n",
      "                     W          3          3      0.881          1      0.995      0.853\n",
      "                     X          1          1      0.937          1      0.995      0.995\n",
      "                     Y          8          8          1      0.888      0.995      0.785\n",
      "                     Z          4          4      0.981          1      0.995      0.896\n",
      "Speed: 1.9ms preprocess, 94.6ms inference, 0.0ms loss, 0.5ms postprocess per image\n",
      "Results saved to \u001b[1mruns\\detect\\train7\u001b[0m\n"
     ]
    },
    {
     "data": {
      "text/plain": [
       "ultralytics.utils.metrics.DetMetrics object with attributes:\n",
       "\n",
       "ap_class_index: array([ 0,  1,  2,  3,  4,  5,  6,  7,  8,  9, 10, 11, 12, 13, 14, 15, 16, 17, 18, 19, 20, 21, 22, 23, 24, 25])\n",
       "box: ultralytics.utils.metrics.Metric object\n",
       "confusion_matrix: <ultralytics.utils.metrics.ConfusionMatrix object at 0x0000024E892CAD50>\n",
       "curves: ['Precision-Recall(B)', 'F1-Confidence(B)', 'Precision-Confidence(B)', 'Recall-Confidence(B)']\n",
       "curves_results: [[array([          0,    0.001001,    0.002002,    0.003003,    0.004004,    0.005005,    0.006006,    0.007007,    0.008008,    0.009009,     0.01001,    0.011011,    0.012012,    0.013013,    0.014014,    0.015015,    0.016016,    0.017017,    0.018018,    0.019019,     0.02002,    0.021021,    0.022022,    0.023023,\n",
       "          0.024024,    0.025025,    0.026026,    0.027027,    0.028028,    0.029029,     0.03003,    0.031031,    0.032032,    0.033033,    0.034034,    0.035035,    0.036036,    0.037037,    0.038038,    0.039039,     0.04004,    0.041041,    0.042042,    0.043043,    0.044044,    0.045045,    0.046046,    0.047047,\n",
       "          0.048048,    0.049049,     0.05005,    0.051051,    0.052052,    0.053053,    0.054054,    0.055055,    0.056056,    0.057057,    0.058058,    0.059059,     0.06006,    0.061061,    0.062062,    0.063063,    0.064064,    0.065065,    0.066066,    0.067067,    0.068068,    0.069069,     0.07007,    0.071071,\n",
       "          0.072072,    0.073073,    0.074074,    0.075075,    0.076076,    0.077077,    0.078078,    0.079079,     0.08008,    0.081081,    0.082082,    0.083083,    0.084084,    0.085085,    0.086086,    0.087087,    0.088088,    0.089089,     0.09009,    0.091091,    0.092092,    0.093093,    0.094094,    0.095095,\n",
       "          0.096096,    0.097097,    0.098098,    0.099099,      0.1001,      0.1011,      0.1021,      0.1031,      0.1041,     0.10511,     0.10611,     0.10711,     0.10811,     0.10911,     0.11011,     0.11111,     0.11211,     0.11311,     0.11411,     0.11512,     0.11612,     0.11712,     0.11812,     0.11912,\n",
       "           0.12012,     0.12112,     0.12212,     0.12312,     0.12412,     0.12513,     0.12613,     0.12713,     0.12813,     0.12913,     0.13013,     0.13113,     0.13213,     0.13313,     0.13413,     0.13514,     0.13614,     0.13714,     0.13814,     0.13914,     0.14014,     0.14114,     0.14214,     0.14314,\n",
       "           0.14414,     0.14515,     0.14615,     0.14715,     0.14815,     0.14915,     0.15015,     0.15115,     0.15215,     0.15315,     0.15415,     0.15516,     0.15616,     0.15716,     0.15816,     0.15916,     0.16016,     0.16116,     0.16216,     0.16316,     0.16416,     0.16517,     0.16617,     0.16717,\n",
       "           0.16817,     0.16917,     0.17017,     0.17117,     0.17217,     0.17317,     0.17417,     0.17518,     0.17618,     0.17718,     0.17818,     0.17918,     0.18018,     0.18118,     0.18218,     0.18318,     0.18418,     0.18519,     0.18619,     0.18719,     0.18819,     0.18919,     0.19019,     0.19119,\n",
       "           0.19219,     0.19319,     0.19419,      0.1952,      0.1962,      0.1972,      0.1982,      0.1992,      0.2002,      0.2012,      0.2022,      0.2032,      0.2042,     0.20521,     0.20621,     0.20721,     0.20821,     0.20921,     0.21021,     0.21121,     0.21221,     0.21321,     0.21421,     0.21522,\n",
       "           0.21622,     0.21722,     0.21822,     0.21922,     0.22022,     0.22122,     0.22222,     0.22322,     0.22422,     0.22523,     0.22623,     0.22723,     0.22823,     0.22923,     0.23023,     0.23123,     0.23223,     0.23323,     0.23423,     0.23524,     0.23624,     0.23724,     0.23824,     0.23924,\n",
       "           0.24024,     0.24124,     0.24224,     0.24324,     0.24424,     0.24525,     0.24625,     0.24725,     0.24825,     0.24925,     0.25025,     0.25125,     0.25225,     0.25325,     0.25425,     0.25526,     0.25626,     0.25726,     0.25826,     0.25926,     0.26026,     0.26126,     0.26226,     0.26326,\n",
       "           0.26426,     0.26527,     0.26627,     0.26727,     0.26827,     0.26927,     0.27027,     0.27127,     0.27227,     0.27327,     0.27427,     0.27528,     0.27628,     0.27728,     0.27828,     0.27928,     0.28028,     0.28128,     0.28228,     0.28328,     0.28428,     0.28529,     0.28629,     0.28729,\n",
       "           0.28829,     0.28929,     0.29029,     0.29129,     0.29229,     0.29329,     0.29429,      0.2953,      0.2963,      0.2973,      0.2983,      0.2993,      0.3003,      0.3013,      0.3023,      0.3033,      0.3043,     0.30531,     0.30631,     0.30731,     0.30831,     0.30931,     0.31031,     0.31131,\n",
       "           0.31231,     0.31331,     0.31431,     0.31532,     0.31632,     0.31732,     0.31832,     0.31932,     0.32032,     0.32132,     0.32232,     0.32332,     0.32432,     0.32533,     0.32633,     0.32733,     0.32833,     0.32933,     0.33033,     0.33133,     0.33233,     0.33333,     0.33433,     0.33534,\n",
       "           0.33634,     0.33734,     0.33834,     0.33934,     0.34034,     0.34134,     0.34234,     0.34334,     0.34434,     0.34535,     0.34635,     0.34735,     0.34835,     0.34935,     0.35035,     0.35135,     0.35235,     0.35335,     0.35435,     0.35536,     0.35636,     0.35736,     0.35836,     0.35936,\n",
       "           0.36036,     0.36136,     0.36236,     0.36336,     0.36436,     0.36537,     0.36637,     0.36737,     0.36837,     0.36937,     0.37037,     0.37137,     0.37237,     0.37337,     0.37437,     0.37538,     0.37638,     0.37738,     0.37838,     0.37938,     0.38038,     0.38138,     0.38238,     0.38338,\n",
       "           0.38438,     0.38539,     0.38639,     0.38739,     0.38839,     0.38939,     0.39039,     0.39139,     0.39239,     0.39339,     0.39439,      0.3954,      0.3964,      0.3974,      0.3984,      0.3994,      0.4004,      0.4014,      0.4024,      0.4034,      0.4044,     0.40541,     0.40641,     0.40741,\n",
       "           0.40841,     0.40941,     0.41041,     0.41141,     0.41241,     0.41341,     0.41441,     0.41542,     0.41642,     0.41742,     0.41842,     0.41942,     0.42042,     0.42142,     0.42242,     0.42342,     0.42442,     0.42543,     0.42643,     0.42743,     0.42843,     0.42943,     0.43043,     0.43143,\n",
       "           0.43243,     0.43343,     0.43443,     0.43544,     0.43644,     0.43744,     0.43844,     0.43944,     0.44044,     0.44144,     0.44244,     0.44344,     0.44444,     0.44545,     0.44645,     0.44745,     0.44845,     0.44945,     0.45045,     0.45145,     0.45245,     0.45345,     0.45445,     0.45546,\n",
       "           0.45646,     0.45746,     0.45846,     0.45946,     0.46046,     0.46146,     0.46246,     0.46346,     0.46446,     0.46547,     0.46647,     0.46747,     0.46847,     0.46947,     0.47047,     0.47147,     0.47247,     0.47347,     0.47447,     0.47548,     0.47648,     0.47748,     0.47848,     0.47948,\n",
       "           0.48048,     0.48148,     0.48248,     0.48348,     0.48448,     0.48549,     0.48649,     0.48749,     0.48849,     0.48949,     0.49049,     0.49149,     0.49249,     0.49349,     0.49449,      0.4955,      0.4965,      0.4975,      0.4985,      0.4995,      0.5005,      0.5015,      0.5025,      0.5035,\n",
       "            0.5045,     0.50551,     0.50651,     0.50751,     0.50851,     0.50951,     0.51051,     0.51151,     0.51251,     0.51351,     0.51451,     0.51552,     0.51652,     0.51752,     0.51852,     0.51952,     0.52052,     0.52152,     0.52252,     0.52352,     0.52452,     0.52553,     0.52653,     0.52753,\n",
       "           0.52853,     0.52953,     0.53053,     0.53153,     0.53253,     0.53353,     0.53453,     0.53554,     0.53654,     0.53754,     0.53854,     0.53954,     0.54054,     0.54154,     0.54254,     0.54354,     0.54454,     0.54555,     0.54655,     0.54755,     0.54855,     0.54955,     0.55055,     0.55155,\n",
       "           0.55255,     0.55355,     0.55455,     0.55556,     0.55656,     0.55756,     0.55856,     0.55956,     0.56056,     0.56156,     0.56256,     0.56356,     0.56456,     0.56557,     0.56657,     0.56757,     0.56857,     0.56957,     0.57057,     0.57157,     0.57257,     0.57357,     0.57457,     0.57558,\n",
       "           0.57658,     0.57758,     0.57858,     0.57958,     0.58058,     0.58158,     0.58258,     0.58358,     0.58458,     0.58559,     0.58659,     0.58759,     0.58859,     0.58959,     0.59059,     0.59159,     0.59259,     0.59359,     0.59459,      0.5956,      0.5966,      0.5976,      0.5986,      0.5996,\n",
       "            0.6006,      0.6016,      0.6026,      0.6036,      0.6046,     0.60561,     0.60661,     0.60761,     0.60861,     0.60961,     0.61061,     0.61161,     0.61261,     0.61361,     0.61461,     0.61562,     0.61662,     0.61762,     0.61862,     0.61962,     0.62062,     0.62162,     0.62262,     0.62362,\n",
       "           0.62462,     0.62563,     0.62663,     0.62763,     0.62863,     0.62963,     0.63063,     0.63163,     0.63263,     0.63363,     0.63463,     0.63564,     0.63664,     0.63764,     0.63864,     0.63964,     0.64064,     0.64164,     0.64264,     0.64364,     0.64464,     0.64565,     0.64665,     0.64765,\n",
       "           0.64865,     0.64965,     0.65065,     0.65165,     0.65265,     0.65365,     0.65465,     0.65566,     0.65666,     0.65766,     0.65866,     0.65966,     0.66066,     0.66166,     0.66266,     0.66366,     0.66466,     0.66567,     0.66667,     0.66767,     0.66867,     0.66967,     0.67067,     0.67167,\n",
       "           0.67267,     0.67367,     0.67467,     0.67568,     0.67668,     0.67768,     0.67868,     0.67968,     0.68068,     0.68168,     0.68268,     0.68368,     0.68468,     0.68569,     0.68669,     0.68769,     0.68869,     0.68969,     0.69069,     0.69169,     0.69269,     0.69369,     0.69469,      0.6957,\n",
       "            0.6967,      0.6977,      0.6987,      0.6997,      0.7007,      0.7017,      0.7027,      0.7037,      0.7047,     0.70571,     0.70671,     0.70771,     0.70871,     0.70971,     0.71071,     0.71171,     0.71271,     0.71371,     0.71471,     0.71572,     0.71672,     0.71772,     0.71872,     0.71972,\n",
       "           0.72072,     0.72172,     0.72272,     0.72372,     0.72472,     0.72573,     0.72673,     0.72773,     0.72873,     0.72973,     0.73073,     0.73173,     0.73273,     0.73373,     0.73473,     0.73574,     0.73674,     0.73774,     0.73874,     0.73974,     0.74074,     0.74174,     0.74274,     0.74374,\n",
       "           0.74474,     0.74575,     0.74675,     0.74775,     0.74875,     0.74975,     0.75075,     0.75175,     0.75275,     0.75375,     0.75475,     0.75576,     0.75676,     0.75776,     0.75876,     0.75976,     0.76076,     0.76176,     0.76276,     0.76376,     0.76476,     0.76577,     0.76677,     0.76777,\n",
       "           0.76877,     0.76977,     0.77077,     0.77177,     0.77277,     0.77377,     0.77477,     0.77578,     0.77678,     0.77778,     0.77878,     0.77978,     0.78078,     0.78178,     0.78278,     0.78378,     0.78478,     0.78579,     0.78679,     0.78779,     0.78879,     0.78979,     0.79079,     0.79179,\n",
       "           0.79279,     0.79379,     0.79479,      0.7958,      0.7968,      0.7978,      0.7988,      0.7998,      0.8008,      0.8018,      0.8028,      0.8038,      0.8048,     0.80581,     0.80681,     0.80781,     0.80881,     0.80981,     0.81081,     0.81181,     0.81281,     0.81381,     0.81481,     0.81582,\n",
       "           0.81682,     0.81782,     0.81882,     0.81982,     0.82082,     0.82182,     0.82282,     0.82382,     0.82482,     0.82583,     0.82683,     0.82783,     0.82883,     0.82983,     0.83083,     0.83183,     0.83283,     0.83383,     0.83483,     0.83584,     0.83684,     0.83784,     0.83884,     0.83984,\n",
       "           0.84084,     0.84184,     0.84284,     0.84384,     0.84484,     0.84585,     0.84685,     0.84785,     0.84885,     0.84985,     0.85085,     0.85185,     0.85285,     0.85385,     0.85485,     0.85586,     0.85686,     0.85786,     0.85886,     0.85986,     0.86086,     0.86186,     0.86286,     0.86386,\n",
       "           0.86486,     0.86587,     0.86687,     0.86787,     0.86887,     0.86987,     0.87087,     0.87187,     0.87287,     0.87387,     0.87487,     0.87588,     0.87688,     0.87788,     0.87888,     0.87988,     0.88088,     0.88188,     0.88288,     0.88388,     0.88488,     0.88589,     0.88689,     0.88789,\n",
       "           0.88889,     0.88989,     0.89089,     0.89189,     0.89289,     0.89389,     0.89489,      0.8959,      0.8969,      0.8979,      0.8989,      0.8999,      0.9009,      0.9019,      0.9029,      0.9039,      0.9049,     0.90591,     0.90691,     0.90791,     0.90891,     0.90991,     0.91091,     0.91191,\n",
       "           0.91291,     0.91391,     0.91491,     0.91592,     0.91692,     0.91792,     0.91892,     0.91992,     0.92092,     0.92192,     0.92292,     0.92392,     0.92492,     0.92593,     0.92693,     0.92793,     0.92893,     0.92993,     0.93093,     0.93193,     0.93293,     0.93393,     0.93493,     0.93594,\n",
       "           0.93694,     0.93794,     0.93894,     0.93994,     0.94094,     0.94194,     0.94294,     0.94394,     0.94494,     0.94595,     0.94695,     0.94795,     0.94895,     0.94995,     0.95095,     0.95195,     0.95295,     0.95395,     0.95495,     0.95596,     0.95696,     0.95796,     0.95896,     0.95996,\n",
       "           0.96096,     0.96196,     0.96296,     0.96396,     0.96496,     0.96597,     0.96697,     0.96797,     0.96897,     0.96997,     0.97097,     0.97197,     0.97297,     0.97397,     0.97497,     0.97598,     0.97698,     0.97798,     0.97898,     0.97998,     0.98098,     0.98198,     0.98298,     0.98398,\n",
       "           0.98498,     0.98599,     0.98699,     0.98799,     0.98899,     0.98999,     0.99099,     0.99199,     0.99299,     0.99399,     0.99499,       0.996,       0.997,       0.998,       0.999,           1]), array([[          1,           1,           1, ...,     0.83333,     0.83333,           0],\n",
       "       [          1,           1,           1, ...,           1,           1,           0],\n",
       "       [          1,           1,           1, ...,           1,           1,           0],\n",
       "       ...,\n",
       "       [          1,           1,           1, ...,           1,           1,           0],\n",
       "       [          1,           1,           1, ...,           1,           1,           0],\n",
       "       [          1,           1,           1, ...,           1,           1,           0]]), 'Recall', 'Precision'], [array([          0,    0.001001,    0.002002,    0.003003,    0.004004,    0.005005,    0.006006,    0.007007,    0.008008,    0.009009,     0.01001,    0.011011,    0.012012,    0.013013,    0.014014,    0.015015,    0.016016,    0.017017,    0.018018,    0.019019,     0.02002,    0.021021,    0.022022,    0.023023,\n",
       "          0.024024,    0.025025,    0.026026,    0.027027,    0.028028,    0.029029,     0.03003,    0.031031,    0.032032,    0.033033,    0.034034,    0.035035,    0.036036,    0.037037,    0.038038,    0.039039,     0.04004,    0.041041,    0.042042,    0.043043,    0.044044,    0.045045,    0.046046,    0.047047,\n",
       "          0.048048,    0.049049,     0.05005,    0.051051,    0.052052,    0.053053,    0.054054,    0.055055,    0.056056,    0.057057,    0.058058,    0.059059,     0.06006,    0.061061,    0.062062,    0.063063,    0.064064,    0.065065,    0.066066,    0.067067,    0.068068,    0.069069,     0.07007,    0.071071,\n",
       "          0.072072,    0.073073,    0.074074,    0.075075,    0.076076,    0.077077,    0.078078,    0.079079,     0.08008,    0.081081,    0.082082,    0.083083,    0.084084,    0.085085,    0.086086,    0.087087,    0.088088,    0.089089,     0.09009,    0.091091,    0.092092,    0.093093,    0.094094,    0.095095,\n",
       "          0.096096,    0.097097,    0.098098,    0.099099,      0.1001,      0.1011,      0.1021,      0.1031,      0.1041,     0.10511,     0.10611,     0.10711,     0.10811,     0.10911,     0.11011,     0.11111,     0.11211,     0.11311,     0.11411,     0.11512,     0.11612,     0.11712,     0.11812,     0.11912,\n",
       "           0.12012,     0.12112,     0.12212,     0.12312,     0.12412,     0.12513,     0.12613,     0.12713,     0.12813,     0.12913,     0.13013,     0.13113,     0.13213,     0.13313,     0.13413,     0.13514,     0.13614,     0.13714,     0.13814,     0.13914,     0.14014,     0.14114,     0.14214,     0.14314,\n",
       "           0.14414,     0.14515,     0.14615,     0.14715,     0.14815,     0.14915,     0.15015,     0.15115,     0.15215,     0.15315,     0.15415,     0.15516,     0.15616,     0.15716,     0.15816,     0.15916,     0.16016,     0.16116,     0.16216,     0.16316,     0.16416,     0.16517,     0.16617,     0.16717,\n",
       "           0.16817,     0.16917,     0.17017,     0.17117,     0.17217,     0.17317,     0.17417,     0.17518,     0.17618,     0.17718,     0.17818,     0.17918,     0.18018,     0.18118,     0.18218,     0.18318,     0.18418,     0.18519,     0.18619,     0.18719,     0.18819,     0.18919,     0.19019,     0.19119,\n",
       "           0.19219,     0.19319,     0.19419,      0.1952,      0.1962,      0.1972,      0.1982,      0.1992,      0.2002,      0.2012,      0.2022,      0.2032,      0.2042,     0.20521,     0.20621,     0.20721,     0.20821,     0.20921,     0.21021,     0.21121,     0.21221,     0.21321,     0.21421,     0.21522,\n",
       "           0.21622,     0.21722,     0.21822,     0.21922,     0.22022,     0.22122,     0.22222,     0.22322,     0.22422,     0.22523,     0.22623,     0.22723,     0.22823,     0.22923,     0.23023,     0.23123,     0.23223,     0.23323,     0.23423,     0.23524,     0.23624,     0.23724,     0.23824,     0.23924,\n",
       "           0.24024,     0.24124,     0.24224,     0.24324,     0.24424,     0.24525,     0.24625,     0.24725,     0.24825,     0.24925,     0.25025,     0.25125,     0.25225,     0.25325,     0.25425,     0.25526,     0.25626,     0.25726,     0.25826,     0.25926,     0.26026,     0.26126,     0.26226,     0.26326,\n",
       "           0.26426,     0.26527,     0.26627,     0.26727,     0.26827,     0.26927,     0.27027,     0.27127,     0.27227,     0.27327,     0.27427,     0.27528,     0.27628,     0.27728,     0.27828,     0.27928,     0.28028,     0.28128,     0.28228,     0.28328,     0.28428,     0.28529,     0.28629,     0.28729,\n",
       "           0.28829,     0.28929,     0.29029,     0.29129,     0.29229,     0.29329,     0.29429,      0.2953,      0.2963,      0.2973,      0.2983,      0.2993,      0.3003,      0.3013,      0.3023,      0.3033,      0.3043,     0.30531,     0.30631,     0.30731,     0.30831,     0.30931,     0.31031,     0.31131,\n",
       "           0.31231,     0.31331,     0.31431,     0.31532,     0.31632,     0.31732,     0.31832,     0.31932,     0.32032,     0.32132,     0.32232,     0.32332,     0.32432,     0.32533,     0.32633,     0.32733,     0.32833,     0.32933,     0.33033,     0.33133,     0.33233,     0.33333,     0.33433,     0.33534,\n",
       "           0.33634,     0.33734,     0.33834,     0.33934,     0.34034,     0.34134,     0.34234,     0.34334,     0.34434,     0.34535,     0.34635,     0.34735,     0.34835,     0.34935,     0.35035,     0.35135,     0.35235,     0.35335,     0.35435,     0.35536,     0.35636,     0.35736,     0.35836,     0.35936,\n",
       "           0.36036,     0.36136,     0.36236,     0.36336,     0.36436,     0.36537,     0.36637,     0.36737,     0.36837,     0.36937,     0.37037,     0.37137,     0.37237,     0.37337,     0.37437,     0.37538,     0.37638,     0.37738,     0.37838,     0.37938,     0.38038,     0.38138,     0.38238,     0.38338,\n",
       "           0.38438,     0.38539,     0.38639,     0.38739,     0.38839,     0.38939,     0.39039,     0.39139,     0.39239,     0.39339,     0.39439,      0.3954,      0.3964,      0.3974,      0.3984,      0.3994,      0.4004,      0.4014,      0.4024,      0.4034,      0.4044,     0.40541,     0.40641,     0.40741,\n",
       "           0.40841,     0.40941,     0.41041,     0.41141,     0.41241,     0.41341,     0.41441,     0.41542,     0.41642,     0.41742,     0.41842,     0.41942,     0.42042,     0.42142,     0.42242,     0.42342,     0.42442,     0.42543,     0.42643,     0.42743,     0.42843,     0.42943,     0.43043,     0.43143,\n",
       "           0.43243,     0.43343,     0.43443,     0.43544,     0.43644,     0.43744,     0.43844,     0.43944,     0.44044,     0.44144,     0.44244,     0.44344,     0.44444,     0.44545,     0.44645,     0.44745,     0.44845,     0.44945,     0.45045,     0.45145,     0.45245,     0.45345,     0.45445,     0.45546,\n",
       "           0.45646,     0.45746,     0.45846,     0.45946,     0.46046,     0.46146,     0.46246,     0.46346,     0.46446,     0.46547,     0.46647,     0.46747,     0.46847,     0.46947,     0.47047,     0.47147,     0.47247,     0.47347,     0.47447,     0.47548,     0.47648,     0.47748,     0.47848,     0.47948,\n",
       "           0.48048,     0.48148,     0.48248,     0.48348,     0.48448,     0.48549,     0.48649,     0.48749,     0.48849,     0.48949,     0.49049,     0.49149,     0.49249,     0.49349,     0.49449,      0.4955,      0.4965,      0.4975,      0.4985,      0.4995,      0.5005,      0.5015,      0.5025,      0.5035,\n",
       "            0.5045,     0.50551,     0.50651,     0.50751,     0.50851,     0.50951,     0.51051,     0.51151,     0.51251,     0.51351,     0.51451,     0.51552,     0.51652,     0.51752,     0.51852,     0.51952,     0.52052,     0.52152,     0.52252,     0.52352,     0.52452,     0.52553,     0.52653,     0.52753,\n",
       "           0.52853,     0.52953,     0.53053,     0.53153,     0.53253,     0.53353,     0.53453,     0.53554,     0.53654,     0.53754,     0.53854,     0.53954,     0.54054,     0.54154,     0.54254,     0.54354,     0.54454,     0.54555,     0.54655,     0.54755,     0.54855,     0.54955,     0.55055,     0.55155,\n",
       "           0.55255,     0.55355,     0.55455,     0.55556,     0.55656,     0.55756,     0.55856,     0.55956,     0.56056,     0.56156,     0.56256,     0.56356,     0.56456,     0.56557,     0.56657,     0.56757,     0.56857,     0.56957,     0.57057,     0.57157,     0.57257,     0.57357,     0.57457,     0.57558,\n",
       "           0.57658,     0.57758,     0.57858,     0.57958,     0.58058,     0.58158,     0.58258,     0.58358,     0.58458,     0.58559,     0.58659,     0.58759,     0.58859,     0.58959,     0.59059,     0.59159,     0.59259,     0.59359,     0.59459,      0.5956,      0.5966,      0.5976,      0.5986,      0.5996,\n",
       "            0.6006,      0.6016,      0.6026,      0.6036,      0.6046,     0.60561,     0.60661,     0.60761,     0.60861,     0.60961,     0.61061,     0.61161,     0.61261,     0.61361,     0.61461,     0.61562,     0.61662,     0.61762,     0.61862,     0.61962,     0.62062,     0.62162,     0.62262,     0.62362,\n",
       "           0.62462,     0.62563,     0.62663,     0.62763,     0.62863,     0.62963,     0.63063,     0.63163,     0.63263,     0.63363,     0.63463,     0.63564,     0.63664,     0.63764,     0.63864,     0.63964,     0.64064,     0.64164,     0.64264,     0.64364,     0.64464,     0.64565,     0.64665,     0.64765,\n",
       "           0.64865,     0.64965,     0.65065,     0.65165,     0.65265,     0.65365,     0.65465,     0.65566,     0.65666,     0.65766,     0.65866,     0.65966,     0.66066,     0.66166,     0.66266,     0.66366,     0.66466,     0.66567,     0.66667,     0.66767,     0.66867,     0.66967,     0.67067,     0.67167,\n",
       "           0.67267,     0.67367,     0.67467,     0.67568,     0.67668,     0.67768,     0.67868,     0.67968,     0.68068,     0.68168,     0.68268,     0.68368,     0.68468,     0.68569,     0.68669,     0.68769,     0.68869,     0.68969,     0.69069,     0.69169,     0.69269,     0.69369,     0.69469,      0.6957,\n",
       "            0.6967,      0.6977,      0.6987,      0.6997,      0.7007,      0.7017,      0.7027,      0.7037,      0.7047,     0.70571,     0.70671,     0.70771,     0.70871,     0.70971,     0.71071,     0.71171,     0.71271,     0.71371,     0.71471,     0.71572,     0.71672,     0.71772,     0.71872,     0.71972,\n",
       "           0.72072,     0.72172,     0.72272,     0.72372,     0.72472,     0.72573,     0.72673,     0.72773,     0.72873,     0.72973,     0.73073,     0.73173,     0.73273,     0.73373,     0.73473,     0.73574,     0.73674,     0.73774,     0.73874,     0.73974,     0.74074,     0.74174,     0.74274,     0.74374,\n",
       "           0.74474,     0.74575,     0.74675,     0.74775,     0.74875,     0.74975,     0.75075,     0.75175,     0.75275,     0.75375,     0.75475,     0.75576,     0.75676,     0.75776,     0.75876,     0.75976,     0.76076,     0.76176,     0.76276,     0.76376,     0.76476,     0.76577,     0.76677,     0.76777,\n",
       "           0.76877,     0.76977,     0.77077,     0.77177,     0.77277,     0.77377,     0.77477,     0.77578,     0.77678,     0.77778,     0.77878,     0.77978,     0.78078,     0.78178,     0.78278,     0.78378,     0.78478,     0.78579,     0.78679,     0.78779,     0.78879,     0.78979,     0.79079,     0.79179,\n",
       "           0.79279,     0.79379,     0.79479,      0.7958,      0.7968,      0.7978,      0.7988,      0.7998,      0.8008,      0.8018,      0.8028,      0.8038,      0.8048,     0.80581,     0.80681,     0.80781,     0.80881,     0.80981,     0.81081,     0.81181,     0.81281,     0.81381,     0.81481,     0.81582,\n",
       "           0.81682,     0.81782,     0.81882,     0.81982,     0.82082,     0.82182,     0.82282,     0.82382,     0.82482,     0.82583,     0.82683,     0.82783,     0.82883,     0.82983,     0.83083,     0.83183,     0.83283,     0.83383,     0.83483,     0.83584,     0.83684,     0.83784,     0.83884,     0.83984,\n",
       "           0.84084,     0.84184,     0.84284,     0.84384,     0.84484,     0.84585,     0.84685,     0.84785,     0.84885,     0.84985,     0.85085,     0.85185,     0.85285,     0.85385,     0.85485,     0.85586,     0.85686,     0.85786,     0.85886,     0.85986,     0.86086,     0.86186,     0.86286,     0.86386,\n",
       "           0.86486,     0.86587,     0.86687,     0.86787,     0.86887,     0.86987,     0.87087,     0.87187,     0.87287,     0.87387,     0.87487,     0.87588,     0.87688,     0.87788,     0.87888,     0.87988,     0.88088,     0.88188,     0.88288,     0.88388,     0.88488,     0.88589,     0.88689,     0.88789,\n",
       "           0.88889,     0.88989,     0.89089,     0.89189,     0.89289,     0.89389,     0.89489,      0.8959,      0.8969,      0.8979,      0.8989,      0.8999,      0.9009,      0.9019,      0.9029,      0.9039,      0.9049,     0.90591,     0.90691,     0.90791,     0.90891,     0.90991,     0.91091,     0.91191,\n",
       "           0.91291,     0.91391,     0.91491,     0.91592,     0.91692,     0.91792,     0.91892,     0.91992,     0.92092,     0.92192,     0.92292,     0.92392,     0.92492,     0.92593,     0.92693,     0.92793,     0.92893,     0.92993,     0.93093,     0.93193,     0.93293,     0.93393,     0.93493,     0.93594,\n",
       "           0.93694,     0.93794,     0.93894,     0.93994,     0.94094,     0.94194,     0.94294,     0.94394,     0.94494,     0.94595,     0.94695,     0.94795,     0.94895,     0.94995,     0.95095,     0.95195,     0.95295,     0.95395,     0.95495,     0.95596,     0.95696,     0.95796,     0.95896,     0.95996,\n",
       "           0.96096,     0.96196,     0.96296,     0.96396,     0.96496,     0.96597,     0.96697,     0.96797,     0.96897,     0.96997,     0.97097,     0.97197,     0.97297,     0.97397,     0.97497,     0.97598,     0.97698,     0.97798,     0.97898,     0.97998,     0.98098,     0.98198,     0.98298,     0.98398,\n",
       "           0.98498,     0.98599,     0.98699,     0.98799,     0.98899,     0.98999,     0.99099,     0.99199,     0.99299,     0.99399,     0.99499,       0.996,       0.997,       0.998,       0.999,           1]), array([[    0.22727,     0.22727,     0.33822, ...,           0,           0,           0],\n",
       "       [    0.32143,     0.32143,     0.66682, ...,           0,           0,           0],\n",
       "       [    0.35294,     0.35294,     0.55827, ...,           0,           0,           0],\n",
       "       ...,\n",
       "       [    0.13333,     0.13333,     0.20758, ...,           0,           0,           0],\n",
       "       [        0.8,         0.8,     0.82523, ...,           0,           0,           0],\n",
       "       [        0.8,         0.8,     0.88895, ...,           0,           0,           0]]), 'Confidence', 'F1'], [array([          0,    0.001001,    0.002002,    0.003003,    0.004004,    0.005005,    0.006006,    0.007007,    0.008008,    0.009009,     0.01001,    0.011011,    0.012012,    0.013013,    0.014014,    0.015015,    0.016016,    0.017017,    0.018018,    0.019019,     0.02002,    0.021021,    0.022022,    0.023023,\n",
       "          0.024024,    0.025025,    0.026026,    0.027027,    0.028028,    0.029029,     0.03003,    0.031031,    0.032032,    0.033033,    0.034034,    0.035035,    0.036036,    0.037037,    0.038038,    0.039039,     0.04004,    0.041041,    0.042042,    0.043043,    0.044044,    0.045045,    0.046046,    0.047047,\n",
       "          0.048048,    0.049049,     0.05005,    0.051051,    0.052052,    0.053053,    0.054054,    0.055055,    0.056056,    0.057057,    0.058058,    0.059059,     0.06006,    0.061061,    0.062062,    0.063063,    0.064064,    0.065065,    0.066066,    0.067067,    0.068068,    0.069069,     0.07007,    0.071071,\n",
       "          0.072072,    0.073073,    0.074074,    0.075075,    0.076076,    0.077077,    0.078078,    0.079079,     0.08008,    0.081081,    0.082082,    0.083083,    0.084084,    0.085085,    0.086086,    0.087087,    0.088088,    0.089089,     0.09009,    0.091091,    0.092092,    0.093093,    0.094094,    0.095095,\n",
       "          0.096096,    0.097097,    0.098098,    0.099099,      0.1001,      0.1011,      0.1021,      0.1031,      0.1041,     0.10511,     0.10611,     0.10711,     0.10811,     0.10911,     0.11011,     0.11111,     0.11211,     0.11311,     0.11411,     0.11512,     0.11612,     0.11712,     0.11812,     0.11912,\n",
       "           0.12012,     0.12112,     0.12212,     0.12312,     0.12412,     0.12513,     0.12613,     0.12713,     0.12813,     0.12913,     0.13013,     0.13113,     0.13213,     0.13313,     0.13413,     0.13514,     0.13614,     0.13714,     0.13814,     0.13914,     0.14014,     0.14114,     0.14214,     0.14314,\n",
       "           0.14414,     0.14515,     0.14615,     0.14715,     0.14815,     0.14915,     0.15015,     0.15115,     0.15215,     0.15315,     0.15415,     0.15516,     0.15616,     0.15716,     0.15816,     0.15916,     0.16016,     0.16116,     0.16216,     0.16316,     0.16416,     0.16517,     0.16617,     0.16717,\n",
       "           0.16817,     0.16917,     0.17017,     0.17117,     0.17217,     0.17317,     0.17417,     0.17518,     0.17618,     0.17718,     0.17818,     0.17918,     0.18018,     0.18118,     0.18218,     0.18318,     0.18418,     0.18519,     0.18619,     0.18719,     0.18819,     0.18919,     0.19019,     0.19119,\n",
       "           0.19219,     0.19319,     0.19419,      0.1952,      0.1962,      0.1972,      0.1982,      0.1992,      0.2002,      0.2012,      0.2022,      0.2032,      0.2042,     0.20521,     0.20621,     0.20721,     0.20821,     0.20921,     0.21021,     0.21121,     0.21221,     0.21321,     0.21421,     0.21522,\n",
       "           0.21622,     0.21722,     0.21822,     0.21922,     0.22022,     0.22122,     0.22222,     0.22322,     0.22422,     0.22523,     0.22623,     0.22723,     0.22823,     0.22923,     0.23023,     0.23123,     0.23223,     0.23323,     0.23423,     0.23524,     0.23624,     0.23724,     0.23824,     0.23924,\n",
       "           0.24024,     0.24124,     0.24224,     0.24324,     0.24424,     0.24525,     0.24625,     0.24725,     0.24825,     0.24925,     0.25025,     0.25125,     0.25225,     0.25325,     0.25425,     0.25526,     0.25626,     0.25726,     0.25826,     0.25926,     0.26026,     0.26126,     0.26226,     0.26326,\n",
       "           0.26426,     0.26527,     0.26627,     0.26727,     0.26827,     0.26927,     0.27027,     0.27127,     0.27227,     0.27327,     0.27427,     0.27528,     0.27628,     0.27728,     0.27828,     0.27928,     0.28028,     0.28128,     0.28228,     0.28328,     0.28428,     0.28529,     0.28629,     0.28729,\n",
       "           0.28829,     0.28929,     0.29029,     0.29129,     0.29229,     0.29329,     0.29429,      0.2953,      0.2963,      0.2973,      0.2983,      0.2993,      0.3003,      0.3013,      0.3023,      0.3033,      0.3043,     0.30531,     0.30631,     0.30731,     0.30831,     0.30931,     0.31031,     0.31131,\n",
       "           0.31231,     0.31331,     0.31431,     0.31532,     0.31632,     0.31732,     0.31832,     0.31932,     0.32032,     0.32132,     0.32232,     0.32332,     0.32432,     0.32533,     0.32633,     0.32733,     0.32833,     0.32933,     0.33033,     0.33133,     0.33233,     0.33333,     0.33433,     0.33534,\n",
       "           0.33634,     0.33734,     0.33834,     0.33934,     0.34034,     0.34134,     0.34234,     0.34334,     0.34434,     0.34535,     0.34635,     0.34735,     0.34835,     0.34935,     0.35035,     0.35135,     0.35235,     0.35335,     0.35435,     0.35536,     0.35636,     0.35736,     0.35836,     0.35936,\n",
       "           0.36036,     0.36136,     0.36236,     0.36336,     0.36436,     0.36537,     0.36637,     0.36737,     0.36837,     0.36937,     0.37037,     0.37137,     0.37237,     0.37337,     0.37437,     0.37538,     0.37638,     0.37738,     0.37838,     0.37938,     0.38038,     0.38138,     0.38238,     0.38338,\n",
       "           0.38438,     0.38539,     0.38639,     0.38739,     0.38839,     0.38939,     0.39039,     0.39139,     0.39239,     0.39339,     0.39439,      0.3954,      0.3964,      0.3974,      0.3984,      0.3994,      0.4004,      0.4014,      0.4024,      0.4034,      0.4044,     0.40541,     0.40641,     0.40741,\n",
       "           0.40841,     0.40941,     0.41041,     0.41141,     0.41241,     0.41341,     0.41441,     0.41542,     0.41642,     0.41742,     0.41842,     0.41942,     0.42042,     0.42142,     0.42242,     0.42342,     0.42442,     0.42543,     0.42643,     0.42743,     0.42843,     0.42943,     0.43043,     0.43143,\n",
       "           0.43243,     0.43343,     0.43443,     0.43544,     0.43644,     0.43744,     0.43844,     0.43944,     0.44044,     0.44144,     0.44244,     0.44344,     0.44444,     0.44545,     0.44645,     0.44745,     0.44845,     0.44945,     0.45045,     0.45145,     0.45245,     0.45345,     0.45445,     0.45546,\n",
       "           0.45646,     0.45746,     0.45846,     0.45946,     0.46046,     0.46146,     0.46246,     0.46346,     0.46446,     0.46547,     0.46647,     0.46747,     0.46847,     0.46947,     0.47047,     0.47147,     0.47247,     0.47347,     0.47447,     0.47548,     0.47648,     0.47748,     0.47848,     0.47948,\n",
       "           0.48048,     0.48148,     0.48248,     0.48348,     0.48448,     0.48549,     0.48649,     0.48749,     0.48849,     0.48949,     0.49049,     0.49149,     0.49249,     0.49349,     0.49449,      0.4955,      0.4965,      0.4975,      0.4985,      0.4995,      0.5005,      0.5015,      0.5025,      0.5035,\n",
       "            0.5045,     0.50551,     0.50651,     0.50751,     0.50851,     0.50951,     0.51051,     0.51151,     0.51251,     0.51351,     0.51451,     0.51552,     0.51652,     0.51752,     0.51852,     0.51952,     0.52052,     0.52152,     0.52252,     0.52352,     0.52452,     0.52553,     0.52653,     0.52753,\n",
       "           0.52853,     0.52953,     0.53053,     0.53153,     0.53253,     0.53353,     0.53453,     0.53554,     0.53654,     0.53754,     0.53854,     0.53954,     0.54054,     0.54154,     0.54254,     0.54354,     0.54454,     0.54555,     0.54655,     0.54755,     0.54855,     0.54955,     0.55055,     0.55155,\n",
       "           0.55255,     0.55355,     0.55455,     0.55556,     0.55656,     0.55756,     0.55856,     0.55956,     0.56056,     0.56156,     0.56256,     0.56356,     0.56456,     0.56557,     0.56657,     0.56757,     0.56857,     0.56957,     0.57057,     0.57157,     0.57257,     0.57357,     0.57457,     0.57558,\n",
       "           0.57658,     0.57758,     0.57858,     0.57958,     0.58058,     0.58158,     0.58258,     0.58358,     0.58458,     0.58559,     0.58659,     0.58759,     0.58859,     0.58959,     0.59059,     0.59159,     0.59259,     0.59359,     0.59459,      0.5956,      0.5966,      0.5976,      0.5986,      0.5996,\n",
       "            0.6006,      0.6016,      0.6026,      0.6036,      0.6046,     0.60561,     0.60661,     0.60761,     0.60861,     0.60961,     0.61061,     0.61161,     0.61261,     0.61361,     0.61461,     0.61562,     0.61662,     0.61762,     0.61862,     0.61962,     0.62062,     0.62162,     0.62262,     0.62362,\n",
       "           0.62462,     0.62563,     0.62663,     0.62763,     0.62863,     0.62963,     0.63063,     0.63163,     0.63263,     0.63363,     0.63463,     0.63564,     0.63664,     0.63764,     0.63864,     0.63964,     0.64064,     0.64164,     0.64264,     0.64364,     0.64464,     0.64565,     0.64665,     0.64765,\n",
       "           0.64865,     0.64965,     0.65065,     0.65165,     0.65265,     0.65365,     0.65465,     0.65566,     0.65666,     0.65766,     0.65866,     0.65966,     0.66066,     0.66166,     0.66266,     0.66366,     0.66466,     0.66567,     0.66667,     0.66767,     0.66867,     0.66967,     0.67067,     0.67167,\n",
       "           0.67267,     0.67367,     0.67467,     0.67568,     0.67668,     0.67768,     0.67868,     0.67968,     0.68068,     0.68168,     0.68268,     0.68368,     0.68468,     0.68569,     0.68669,     0.68769,     0.68869,     0.68969,     0.69069,     0.69169,     0.69269,     0.69369,     0.69469,      0.6957,\n",
       "            0.6967,      0.6977,      0.6987,      0.6997,      0.7007,      0.7017,      0.7027,      0.7037,      0.7047,     0.70571,     0.70671,     0.70771,     0.70871,     0.70971,     0.71071,     0.71171,     0.71271,     0.71371,     0.71471,     0.71572,     0.71672,     0.71772,     0.71872,     0.71972,\n",
       "           0.72072,     0.72172,     0.72272,     0.72372,     0.72472,     0.72573,     0.72673,     0.72773,     0.72873,     0.72973,     0.73073,     0.73173,     0.73273,     0.73373,     0.73473,     0.73574,     0.73674,     0.73774,     0.73874,     0.73974,     0.74074,     0.74174,     0.74274,     0.74374,\n",
       "           0.74474,     0.74575,     0.74675,     0.74775,     0.74875,     0.74975,     0.75075,     0.75175,     0.75275,     0.75375,     0.75475,     0.75576,     0.75676,     0.75776,     0.75876,     0.75976,     0.76076,     0.76176,     0.76276,     0.76376,     0.76476,     0.76577,     0.76677,     0.76777,\n",
       "           0.76877,     0.76977,     0.77077,     0.77177,     0.77277,     0.77377,     0.77477,     0.77578,     0.77678,     0.77778,     0.77878,     0.77978,     0.78078,     0.78178,     0.78278,     0.78378,     0.78478,     0.78579,     0.78679,     0.78779,     0.78879,     0.78979,     0.79079,     0.79179,\n",
       "           0.79279,     0.79379,     0.79479,      0.7958,      0.7968,      0.7978,      0.7988,      0.7998,      0.8008,      0.8018,      0.8028,      0.8038,      0.8048,     0.80581,     0.80681,     0.80781,     0.80881,     0.80981,     0.81081,     0.81181,     0.81281,     0.81381,     0.81481,     0.81582,\n",
       "           0.81682,     0.81782,     0.81882,     0.81982,     0.82082,     0.82182,     0.82282,     0.82382,     0.82482,     0.82583,     0.82683,     0.82783,     0.82883,     0.82983,     0.83083,     0.83183,     0.83283,     0.83383,     0.83483,     0.83584,     0.83684,     0.83784,     0.83884,     0.83984,\n",
       "           0.84084,     0.84184,     0.84284,     0.84384,     0.84484,     0.84585,     0.84685,     0.84785,     0.84885,     0.84985,     0.85085,     0.85185,     0.85285,     0.85385,     0.85485,     0.85586,     0.85686,     0.85786,     0.85886,     0.85986,     0.86086,     0.86186,     0.86286,     0.86386,\n",
       "           0.86486,     0.86587,     0.86687,     0.86787,     0.86887,     0.86987,     0.87087,     0.87187,     0.87287,     0.87387,     0.87487,     0.87588,     0.87688,     0.87788,     0.87888,     0.87988,     0.88088,     0.88188,     0.88288,     0.88388,     0.88488,     0.88589,     0.88689,     0.88789,\n",
       "           0.88889,     0.88989,     0.89089,     0.89189,     0.89289,     0.89389,     0.89489,      0.8959,      0.8969,      0.8979,      0.8989,      0.8999,      0.9009,      0.9019,      0.9029,      0.9039,      0.9049,     0.90591,     0.90691,     0.90791,     0.90891,     0.90991,     0.91091,     0.91191,\n",
       "           0.91291,     0.91391,     0.91491,     0.91592,     0.91692,     0.91792,     0.91892,     0.91992,     0.92092,     0.92192,     0.92292,     0.92392,     0.92492,     0.92593,     0.92693,     0.92793,     0.92893,     0.92993,     0.93093,     0.93193,     0.93293,     0.93393,     0.93493,     0.93594,\n",
       "           0.93694,     0.93794,     0.93894,     0.93994,     0.94094,     0.94194,     0.94294,     0.94394,     0.94494,     0.94595,     0.94695,     0.94795,     0.94895,     0.94995,     0.95095,     0.95195,     0.95295,     0.95395,     0.95495,     0.95596,     0.95696,     0.95796,     0.95896,     0.95996,\n",
       "           0.96096,     0.96196,     0.96296,     0.96396,     0.96496,     0.96597,     0.96697,     0.96797,     0.96897,     0.96997,     0.97097,     0.97197,     0.97297,     0.97397,     0.97497,     0.97598,     0.97698,     0.97798,     0.97898,     0.97998,     0.98098,     0.98198,     0.98298,     0.98398,\n",
       "           0.98498,     0.98599,     0.98699,     0.98799,     0.98899,     0.98999,     0.99099,     0.99199,     0.99299,     0.99399,     0.99499,       0.996,       0.997,       0.998,       0.999,           1]), array([[    0.12821,     0.12821,     0.20353, ...,           1,           1,           1],\n",
       "       [    0.19149,     0.19149,     0.50017, ...,           1,           1,           1],\n",
       "       [    0.21429,     0.21429,     0.38722, ...,           1,           1,           1],\n",
       "       ...,\n",
       "       [   0.071429,    0.071429,     0.11581, ...,           1,           1,           1],\n",
       "       [    0.66667,     0.66667,     0.70246, ...,           1,           1,           1],\n",
       "       [    0.66667,     0.66667,      0.8001, ...,           1,           1,           1]]), 'Confidence', 'Precision'], [array([          0,    0.001001,    0.002002,    0.003003,    0.004004,    0.005005,    0.006006,    0.007007,    0.008008,    0.009009,     0.01001,    0.011011,    0.012012,    0.013013,    0.014014,    0.015015,    0.016016,    0.017017,    0.018018,    0.019019,     0.02002,    0.021021,    0.022022,    0.023023,\n",
       "          0.024024,    0.025025,    0.026026,    0.027027,    0.028028,    0.029029,     0.03003,    0.031031,    0.032032,    0.033033,    0.034034,    0.035035,    0.036036,    0.037037,    0.038038,    0.039039,     0.04004,    0.041041,    0.042042,    0.043043,    0.044044,    0.045045,    0.046046,    0.047047,\n",
       "          0.048048,    0.049049,     0.05005,    0.051051,    0.052052,    0.053053,    0.054054,    0.055055,    0.056056,    0.057057,    0.058058,    0.059059,     0.06006,    0.061061,    0.062062,    0.063063,    0.064064,    0.065065,    0.066066,    0.067067,    0.068068,    0.069069,     0.07007,    0.071071,\n",
       "          0.072072,    0.073073,    0.074074,    0.075075,    0.076076,    0.077077,    0.078078,    0.079079,     0.08008,    0.081081,    0.082082,    0.083083,    0.084084,    0.085085,    0.086086,    0.087087,    0.088088,    0.089089,     0.09009,    0.091091,    0.092092,    0.093093,    0.094094,    0.095095,\n",
       "          0.096096,    0.097097,    0.098098,    0.099099,      0.1001,      0.1011,      0.1021,      0.1031,      0.1041,     0.10511,     0.10611,     0.10711,     0.10811,     0.10911,     0.11011,     0.11111,     0.11211,     0.11311,     0.11411,     0.11512,     0.11612,     0.11712,     0.11812,     0.11912,\n",
       "           0.12012,     0.12112,     0.12212,     0.12312,     0.12412,     0.12513,     0.12613,     0.12713,     0.12813,     0.12913,     0.13013,     0.13113,     0.13213,     0.13313,     0.13413,     0.13514,     0.13614,     0.13714,     0.13814,     0.13914,     0.14014,     0.14114,     0.14214,     0.14314,\n",
       "           0.14414,     0.14515,     0.14615,     0.14715,     0.14815,     0.14915,     0.15015,     0.15115,     0.15215,     0.15315,     0.15415,     0.15516,     0.15616,     0.15716,     0.15816,     0.15916,     0.16016,     0.16116,     0.16216,     0.16316,     0.16416,     0.16517,     0.16617,     0.16717,\n",
       "           0.16817,     0.16917,     0.17017,     0.17117,     0.17217,     0.17317,     0.17417,     0.17518,     0.17618,     0.17718,     0.17818,     0.17918,     0.18018,     0.18118,     0.18218,     0.18318,     0.18418,     0.18519,     0.18619,     0.18719,     0.18819,     0.18919,     0.19019,     0.19119,\n",
       "           0.19219,     0.19319,     0.19419,      0.1952,      0.1962,      0.1972,      0.1982,      0.1992,      0.2002,      0.2012,      0.2022,      0.2032,      0.2042,     0.20521,     0.20621,     0.20721,     0.20821,     0.20921,     0.21021,     0.21121,     0.21221,     0.21321,     0.21421,     0.21522,\n",
       "           0.21622,     0.21722,     0.21822,     0.21922,     0.22022,     0.22122,     0.22222,     0.22322,     0.22422,     0.22523,     0.22623,     0.22723,     0.22823,     0.22923,     0.23023,     0.23123,     0.23223,     0.23323,     0.23423,     0.23524,     0.23624,     0.23724,     0.23824,     0.23924,\n",
       "           0.24024,     0.24124,     0.24224,     0.24324,     0.24424,     0.24525,     0.24625,     0.24725,     0.24825,     0.24925,     0.25025,     0.25125,     0.25225,     0.25325,     0.25425,     0.25526,     0.25626,     0.25726,     0.25826,     0.25926,     0.26026,     0.26126,     0.26226,     0.26326,\n",
       "           0.26426,     0.26527,     0.26627,     0.26727,     0.26827,     0.26927,     0.27027,     0.27127,     0.27227,     0.27327,     0.27427,     0.27528,     0.27628,     0.27728,     0.27828,     0.27928,     0.28028,     0.28128,     0.28228,     0.28328,     0.28428,     0.28529,     0.28629,     0.28729,\n",
       "           0.28829,     0.28929,     0.29029,     0.29129,     0.29229,     0.29329,     0.29429,      0.2953,      0.2963,      0.2973,      0.2983,      0.2993,      0.3003,      0.3013,      0.3023,      0.3033,      0.3043,     0.30531,     0.30631,     0.30731,     0.30831,     0.30931,     0.31031,     0.31131,\n",
       "           0.31231,     0.31331,     0.31431,     0.31532,     0.31632,     0.31732,     0.31832,     0.31932,     0.32032,     0.32132,     0.32232,     0.32332,     0.32432,     0.32533,     0.32633,     0.32733,     0.32833,     0.32933,     0.33033,     0.33133,     0.33233,     0.33333,     0.33433,     0.33534,\n",
       "           0.33634,     0.33734,     0.33834,     0.33934,     0.34034,     0.34134,     0.34234,     0.34334,     0.34434,     0.34535,     0.34635,     0.34735,     0.34835,     0.34935,     0.35035,     0.35135,     0.35235,     0.35335,     0.35435,     0.35536,     0.35636,     0.35736,     0.35836,     0.35936,\n",
       "           0.36036,     0.36136,     0.36236,     0.36336,     0.36436,     0.36537,     0.36637,     0.36737,     0.36837,     0.36937,     0.37037,     0.37137,     0.37237,     0.37337,     0.37437,     0.37538,     0.37638,     0.37738,     0.37838,     0.37938,     0.38038,     0.38138,     0.38238,     0.38338,\n",
       "           0.38438,     0.38539,     0.38639,     0.38739,     0.38839,     0.38939,     0.39039,     0.39139,     0.39239,     0.39339,     0.39439,      0.3954,      0.3964,      0.3974,      0.3984,      0.3994,      0.4004,      0.4014,      0.4024,      0.4034,      0.4044,     0.40541,     0.40641,     0.40741,\n",
       "           0.40841,     0.40941,     0.41041,     0.41141,     0.41241,     0.41341,     0.41441,     0.41542,     0.41642,     0.41742,     0.41842,     0.41942,     0.42042,     0.42142,     0.42242,     0.42342,     0.42442,     0.42543,     0.42643,     0.42743,     0.42843,     0.42943,     0.43043,     0.43143,\n",
       "           0.43243,     0.43343,     0.43443,     0.43544,     0.43644,     0.43744,     0.43844,     0.43944,     0.44044,     0.44144,     0.44244,     0.44344,     0.44444,     0.44545,     0.44645,     0.44745,     0.44845,     0.44945,     0.45045,     0.45145,     0.45245,     0.45345,     0.45445,     0.45546,\n",
       "           0.45646,     0.45746,     0.45846,     0.45946,     0.46046,     0.46146,     0.46246,     0.46346,     0.46446,     0.46547,     0.46647,     0.46747,     0.46847,     0.46947,     0.47047,     0.47147,     0.47247,     0.47347,     0.47447,     0.47548,     0.47648,     0.47748,     0.47848,     0.47948,\n",
       "           0.48048,     0.48148,     0.48248,     0.48348,     0.48448,     0.48549,     0.48649,     0.48749,     0.48849,     0.48949,     0.49049,     0.49149,     0.49249,     0.49349,     0.49449,      0.4955,      0.4965,      0.4975,      0.4985,      0.4995,      0.5005,      0.5015,      0.5025,      0.5035,\n",
       "            0.5045,     0.50551,     0.50651,     0.50751,     0.50851,     0.50951,     0.51051,     0.51151,     0.51251,     0.51351,     0.51451,     0.51552,     0.51652,     0.51752,     0.51852,     0.51952,     0.52052,     0.52152,     0.52252,     0.52352,     0.52452,     0.52553,     0.52653,     0.52753,\n",
       "           0.52853,     0.52953,     0.53053,     0.53153,     0.53253,     0.53353,     0.53453,     0.53554,     0.53654,     0.53754,     0.53854,     0.53954,     0.54054,     0.54154,     0.54254,     0.54354,     0.54454,     0.54555,     0.54655,     0.54755,     0.54855,     0.54955,     0.55055,     0.55155,\n",
       "           0.55255,     0.55355,     0.55455,     0.55556,     0.55656,     0.55756,     0.55856,     0.55956,     0.56056,     0.56156,     0.56256,     0.56356,     0.56456,     0.56557,     0.56657,     0.56757,     0.56857,     0.56957,     0.57057,     0.57157,     0.57257,     0.57357,     0.57457,     0.57558,\n",
       "           0.57658,     0.57758,     0.57858,     0.57958,     0.58058,     0.58158,     0.58258,     0.58358,     0.58458,     0.58559,     0.58659,     0.58759,     0.58859,     0.58959,     0.59059,     0.59159,     0.59259,     0.59359,     0.59459,      0.5956,      0.5966,      0.5976,      0.5986,      0.5996,\n",
       "            0.6006,      0.6016,      0.6026,      0.6036,      0.6046,     0.60561,     0.60661,     0.60761,     0.60861,     0.60961,     0.61061,     0.61161,     0.61261,     0.61361,     0.61461,     0.61562,     0.61662,     0.61762,     0.61862,     0.61962,     0.62062,     0.62162,     0.62262,     0.62362,\n",
       "           0.62462,     0.62563,     0.62663,     0.62763,     0.62863,     0.62963,     0.63063,     0.63163,     0.63263,     0.63363,     0.63463,     0.63564,     0.63664,     0.63764,     0.63864,     0.63964,     0.64064,     0.64164,     0.64264,     0.64364,     0.64464,     0.64565,     0.64665,     0.64765,\n",
       "           0.64865,     0.64965,     0.65065,     0.65165,     0.65265,     0.65365,     0.65465,     0.65566,     0.65666,     0.65766,     0.65866,     0.65966,     0.66066,     0.66166,     0.66266,     0.66366,     0.66466,     0.66567,     0.66667,     0.66767,     0.66867,     0.66967,     0.67067,     0.67167,\n",
       "           0.67267,     0.67367,     0.67467,     0.67568,     0.67668,     0.67768,     0.67868,     0.67968,     0.68068,     0.68168,     0.68268,     0.68368,     0.68468,     0.68569,     0.68669,     0.68769,     0.68869,     0.68969,     0.69069,     0.69169,     0.69269,     0.69369,     0.69469,      0.6957,\n",
       "            0.6967,      0.6977,      0.6987,      0.6997,      0.7007,      0.7017,      0.7027,      0.7037,      0.7047,     0.70571,     0.70671,     0.70771,     0.70871,     0.70971,     0.71071,     0.71171,     0.71271,     0.71371,     0.71471,     0.71572,     0.71672,     0.71772,     0.71872,     0.71972,\n",
       "           0.72072,     0.72172,     0.72272,     0.72372,     0.72472,     0.72573,     0.72673,     0.72773,     0.72873,     0.72973,     0.73073,     0.73173,     0.73273,     0.73373,     0.73473,     0.73574,     0.73674,     0.73774,     0.73874,     0.73974,     0.74074,     0.74174,     0.74274,     0.74374,\n",
       "           0.74474,     0.74575,     0.74675,     0.74775,     0.74875,     0.74975,     0.75075,     0.75175,     0.75275,     0.75375,     0.75475,     0.75576,     0.75676,     0.75776,     0.75876,     0.75976,     0.76076,     0.76176,     0.76276,     0.76376,     0.76476,     0.76577,     0.76677,     0.76777,\n",
       "           0.76877,     0.76977,     0.77077,     0.77177,     0.77277,     0.77377,     0.77477,     0.77578,     0.77678,     0.77778,     0.77878,     0.77978,     0.78078,     0.78178,     0.78278,     0.78378,     0.78478,     0.78579,     0.78679,     0.78779,     0.78879,     0.78979,     0.79079,     0.79179,\n",
       "           0.79279,     0.79379,     0.79479,      0.7958,      0.7968,      0.7978,      0.7988,      0.7998,      0.8008,      0.8018,      0.8028,      0.8038,      0.8048,     0.80581,     0.80681,     0.80781,     0.80881,     0.80981,     0.81081,     0.81181,     0.81281,     0.81381,     0.81481,     0.81582,\n",
       "           0.81682,     0.81782,     0.81882,     0.81982,     0.82082,     0.82182,     0.82282,     0.82382,     0.82482,     0.82583,     0.82683,     0.82783,     0.82883,     0.82983,     0.83083,     0.83183,     0.83283,     0.83383,     0.83483,     0.83584,     0.83684,     0.83784,     0.83884,     0.83984,\n",
       "           0.84084,     0.84184,     0.84284,     0.84384,     0.84484,     0.84585,     0.84685,     0.84785,     0.84885,     0.84985,     0.85085,     0.85185,     0.85285,     0.85385,     0.85485,     0.85586,     0.85686,     0.85786,     0.85886,     0.85986,     0.86086,     0.86186,     0.86286,     0.86386,\n",
       "           0.86486,     0.86587,     0.86687,     0.86787,     0.86887,     0.86987,     0.87087,     0.87187,     0.87287,     0.87387,     0.87487,     0.87588,     0.87688,     0.87788,     0.87888,     0.87988,     0.88088,     0.88188,     0.88288,     0.88388,     0.88488,     0.88589,     0.88689,     0.88789,\n",
       "           0.88889,     0.88989,     0.89089,     0.89189,     0.89289,     0.89389,     0.89489,      0.8959,      0.8969,      0.8979,      0.8989,      0.8999,      0.9009,      0.9019,      0.9029,      0.9039,      0.9049,     0.90591,     0.90691,     0.90791,     0.90891,     0.90991,     0.91091,     0.91191,\n",
       "           0.91291,     0.91391,     0.91491,     0.91592,     0.91692,     0.91792,     0.91892,     0.91992,     0.92092,     0.92192,     0.92292,     0.92392,     0.92492,     0.92593,     0.92693,     0.92793,     0.92893,     0.92993,     0.93093,     0.93193,     0.93293,     0.93393,     0.93493,     0.93594,\n",
       "           0.93694,     0.93794,     0.93894,     0.93994,     0.94094,     0.94194,     0.94294,     0.94394,     0.94494,     0.94595,     0.94695,     0.94795,     0.94895,     0.94995,     0.95095,     0.95195,     0.95295,     0.95395,     0.95495,     0.95596,     0.95696,     0.95796,     0.95896,     0.95996,\n",
       "           0.96096,     0.96196,     0.96296,     0.96396,     0.96496,     0.96597,     0.96697,     0.96797,     0.96897,     0.96997,     0.97097,     0.97197,     0.97297,     0.97397,     0.97497,     0.97598,     0.97698,     0.97798,     0.97898,     0.97998,     0.98098,     0.98198,     0.98298,     0.98398,\n",
       "           0.98498,     0.98599,     0.98699,     0.98799,     0.98899,     0.98999,     0.99099,     0.99199,     0.99299,     0.99399,     0.99499,       0.996,       0.997,       0.998,       0.999,           1]), array([[          1,           1,           1, ...,           0,           0,           0],\n",
       "       [          1,           1,           1, ...,           0,           0,           0],\n",
       "       [          1,           1,           1, ...,           0,           0,           0],\n",
       "       ...,\n",
       "       [          1,           1,           1, ...,           0,           0,           0],\n",
       "       [          1,           1,           1, ...,           0,           0,           0],\n",
       "       [          1,           1,           1, ...,           0,           0,           0]]), 'Confidence', 'Recall']]\n",
       "fitness: np.float64(0.8385844091253735)\n",
       "keys: ['metrics/precision(B)', 'metrics/recall(B)', 'metrics/mAP50(B)', 'metrics/mAP50-95(B)']\n",
       "maps: array([    0.83824,     0.86804,     0.78452,     0.83645,     0.89928,     0.88282,     0.87461,     0.79654,     0.54661,     0.68878,     0.86442,     0.81227,     0.87547,     0.76015,     0.83221,      0.7889,     0.87279,     0.84623,     0.84445,     0.82058,     0.84111,     0.74207,     0.85296,       0.995,\n",
       "           0.78501,     0.89558])\n",
       "names: {0: 'A', 1: 'B', 2: 'C', 3: 'D', 4: 'E', 5: 'F', 6: 'G', 7: 'H', 8: 'I', 9: 'J', 10: 'K', 11: 'L', 12: 'M', 13: 'N', 14: 'O', 15: 'P', 16: 'Q', 17: 'R', 18: 'S', 19: 'T', 20: 'U', 21: 'V', 22: 'W', 23: 'X', 24: 'Y', 25: 'Z'}\n",
       "plot: True\n",
       "results_dict: {'metrics/precision(B)': np.float64(0.9397780063129649), 'metrics/recall(B)': np.float64(0.8900039777586001), 'metrics/mAP50(B)': np.float64(0.9625320512820514), 'metrics/mAP50-95(B)': np.float64(0.8248124488857426), 'fitness': np.float64(0.8385844091253735)}\n",
       "save_dir: WindowsPath('runs/detect/train7')\n",
       "speed: {'preprocess': 1.8987909748425915, 'inference': 94.58046319196, 'loss': 5.2781413412756395e-05, 'postprocess': 0.49041666918330723}\n",
       "task: 'detect'"
      ]
     },
     "execution_count": 5,
     "metadata": {},
     "output_type": "execute_result"
    }
   ],
   "source": [
    "from ultralytics import YOLO\n",
    "\n",
    "model = YOLO(\"yolov5su.pt\")  \n",
    "data_config = \"dataset/data.yaml\"\n",
    "\n",
    "# Training the model\n",
    "model.train(data=data_config, epochs=50, imgsz=416)  "
   ]
  },
  {
   "cell_type": "code",
   "execution_count": 1,
   "id": "536e3b4b",
   "metadata": {},
   "outputs": [
    {
     "name": "stdout",
     "output_type": "stream",
     "text": [
      "\n",
      "0: 320x416 (no detections), 96.5ms\n",
      "Speed: 2.0ms preprocess, 96.5ms inference, 0.9ms postprocess per image at shape (1, 3, 320, 416)\n",
      "\n",
      "0: 320x416 1 O, 105.1ms\n",
      "Speed: 2.1ms preprocess, 105.1ms inference, 2.1ms postprocess per image at shape (1, 3, 320, 416)\n",
      "\n",
      "0: 320x416 (no detections), 105.0ms\n",
      "Speed: 2.5ms preprocess, 105.0ms inference, 0.7ms postprocess per image at shape (1, 3, 320, 416)\n",
      "\n",
      "0: 320x416 (no detections), 82.3ms\n",
      "Speed: 1.5ms preprocess, 82.3ms inference, 0.7ms postprocess per image at shape (1, 3, 320, 416)\n",
      "\n",
      "0: 320x416 (no detections), 106.8ms\n",
      "Speed: 2.0ms preprocess, 106.8ms inference, 0.7ms postprocess per image at shape (1, 3, 320, 416)\n",
      "\n",
      "0: 320x416 (no detections), 103.2ms\n",
      "Speed: 1.8ms preprocess, 103.2ms inference, 0.8ms postprocess per image at shape (1, 3, 320, 416)\n",
      "\n",
      "0: 320x416 (no detections), 136.4ms\n",
      "Speed: 2.6ms preprocess, 136.4ms inference, 0.8ms postprocess per image at shape (1, 3, 320, 416)\n",
      "\n",
      "0: 320x416 (no detections), 134.3ms\n",
      "Speed: 2.6ms preprocess, 134.3ms inference, 1.4ms postprocess per image at shape (1, 3, 320, 416)\n",
      "\n",
      "0: 320x416 (no detections), 124.7ms\n",
      "Speed: 2.1ms preprocess, 124.7ms inference, 0.8ms postprocess per image at shape (1, 3, 320, 416)\n",
      "\n",
      "0: 320x416 (no detections), 95.0ms\n",
      "Speed: 3.1ms preprocess, 95.0ms inference, 0.8ms postprocess per image at shape (1, 3, 320, 416)\n",
      "\n",
      "0: 320x416 (no detections), 96.2ms\n",
      "Speed: 1.7ms preprocess, 96.2ms inference, 0.6ms postprocess per image at shape (1, 3, 320, 416)\n",
      "\n",
      "0: 320x416 (no detections), 86.0ms\n",
      "Speed: 1.9ms preprocess, 86.0ms inference, 0.6ms postprocess per image at shape (1, 3, 320, 416)\n",
      "\n",
      "0: 320x416 (no detections), 96.8ms\n",
      "Speed: 1.5ms preprocess, 96.8ms inference, 0.8ms postprocess per image at shape (1, 3, 320, 416)\n",
      "\n",
      "0: 320x416 1 J, 97.4ms\n",
      "Speed: 2.3ms preprocess, 97.4ms inference, 1.6ms postprocess per image at shape (1, 3, 320, 416)\n",
      "\n",
      "0: 320x416 2 Fs, 108.0ms\n",
      "Speed: 1.8ms preprocess, 108.0ms inference, 1.4ms postprocess per image at shape (1, 3, 320, 416)\n",
      "\n",
      "0: 320x416 (no detections), 100.4ms\n",
      "Speed: 1.7ms preprocess, 100.4ms inference, 1.0ms postprocess per image at shape (1, 3, 320, 416)\n",
      "\n",
      "0: 320x416 (no detections), 108.3ms\n",
      "Speed: 2.6ms preprocess, 108.3ms inference, 0.7ms postprocess per image at shape (1, 3, 320, 416)\n",
      "\n",
      "0: 320x416 (no detections), 92.5ms\n",
      "Speed: 2.0ms preprocess, 92.5ms inference, 0.7ms postprocess per image at shape (1, 3, 320, 416)\n",
      "\n",
      "0: 320x416 (no detections), 91.1ms\n",
      "Speed: 1.8ms preprocess, 91.1ms inference, 0.5ms postprocess per image at shape (1, 3, 320, 416)\n",
      "\n",
      "0: 320x416 (no detections), 78.4ms\n",
      "Speed: 1.7ms preprocess, 78.4ms inference, 0.6ms postprocess per image at shape (1, 3, 320, 416)\n",
      "\n",
      "0: 320x416 1 I, 74.5ms\n",
      "Speed: 1.5ms preprocess, 74.5ms inference, 0.9ms postprocess per image at shape (1, 3, 320, 416)\n",
      "\n",
      "0: 320x416 (no detections), 70.7ms\n",
      "Speed: 1.5ms preprocess, 70.7ms inference, 0.5ms postprocess per image at shape (1, 3, 320, 416)\n",
      "\n",
      "0: 320x416 (no detections), 76.1ms\n",
      "Speed: 1.5ms preprocess, 76.1ms inference, 0.7ms postprocess per image at shape (1, 3, 320, 416)\n",
      "\n",
      "0: 320x416 (no detections), 72.3ms\n",
      "Speed: 1.4ms preprocess, 72.3ms inference, 0.5ms postprocess per image at shape (1, 3, 320, 416)\n",
      "\n",
      "0: 320x416 (no detections), 77.0ms\n",
      "Speed: 1.5ms preprocess, 77.0ms inference, 0.6ms postprocess per image at shape (1, 3, 320, 416)\n",
      "\n",
      "0: 320x416 (no detections), 78.4ms\n",
      "Speed: 1.5ms preprocess, 78.4ms inference, 0.6ms postprocess per image at shape (1, 3, 320, 416)\n",
      "\n",
      "0: 320x416 (no detections), 75.1ms\n",
      "Speed: 1.6ms preprocess, 75.1ms inference, 0.6ms postprocess per image at shape (1, 3, 320, 416)\n",
      "\n",
      "0: 320x416 (no detections), 73.0ms\n",
      "Speed: 1.6ms preprocess, 73.0ms inference, 0.6ms postprocess per image at shape (1, 3, 320, 416)\n",
      "\n",
      "0: 320x416 (no detections), 75.7ms\n",
      "Speed: 1.6ms preprocess, 75.7ms inference, 0.6ms postprocess per image at shape (1, 3, 320, 416)\n",
      "\n",
      "0: 320x416 (no detections), 77.2ms\n",
      "Speed: 1.6ms preprocess, 77.2ms inference, 0.7ms postprocess per image at shape (1, 3, 320, 416)\n",
      "\n",
      "0: 320x416 (no detections), 74.0ms\n",
      "Speed: 1.5ms preprocess, 74.0ms inference, 0.5ms postprocess per image at shape (1, 3, 320, 416)\n",
      "\n",
      "0: 320x416 (no detections), 77.0ms\n",
      "Speed: 1.4ms preprocess, 77.0ms inference, 0.5ms postprocess per image at shape (1, 3, 320, 416)\n",
      "\n",
      "0: 320x416 (no detections), 74.7ms\n",
      "Speed: 1.6ms preprocess, 74.7ms inference, 0.6ms postprocess per image at shape (1, 3, 320, 416)\n",
      "\n",
      "0: 320x416 1 I, 75.9ms\n",
      "Speed: 1.5ms preprocess, 75.9ms inference, 1.3ms postprocess per image at shape (1, 3, 320, 416)\n",
      "\n",
      "0: 320x416 1 I, 72.5ms\n",
      "Speed: 1.5ms preprocess, 72.5ms inference, 0.9ms postprocess per image at shape (1, 3, 320, 416)\n",
      "\n",
      "0: 320x416 1 I, 71.3ms\n",
      "Speed: 1.5ms preprocess, 71.3ms inference, 0.9ms postprocess per image at shape (1, 3, 320, 416)\n",
      "\n",
      "0: 320x416 1 I, 77.1ms\n",
      "Speed: 1.7ms preprocess, 77.1ms inference, 0.9ms postprocess per image at shape (1, 3, 320, 416)\n",
      "\n",
      "0: 320x416 1 I, 71.2ms\n",
      "Speed: 1.6ms preprocess, 71.2ms inference, 0.9ms postprocess per image at shape (1, 3, 320, 416)\n",
      "\n",
      "0: 320x416 1 I, 75.4ms\n",
      "Speed: 1.5ms preprocess, 75.4ms inference, 1.0ms postprocess per image at shape (1, 3, 320, 416)\n",
      "\n",
      "0: 320x416 1 I, 72.0ms\n",
      "Speed: 1.6ms preprocess, 72.0ms inference, 0.9ms postprocess per image at shape (1, 3, 320, 416)\n",
      "\n",
      "0: 320x416 1 I, 73.7ms\n",
      "Speed: 1.5ms preprocess, 73.7ms inference, 0.9ms postprocess per image at shape (1, 3, 320, 416)\n",
      "\n",
      "0: 320x416 1 I, 75.8ms\n",
      "Speed: 1.5ms preprocess, 75.8ms inference, 1.0ms postprocess per image at shape (1, 3, 320, 416)\n",
      "\n",
      "0: 320x416 1 I, 72.7ms\n",
      "Speed: 1.5ms preprocess, 72.7ms inference, 1.1ms postprocess per image at shape (1, 3, 320, 416)\n",
      "\n",
      "0: 320x416 1 I, 75.6ms\n",
      "Speed: 1.8ms preprocess, 75.6ms inference, 0.9ms postprocess per image at shape (1, 3, 320, 416)\n",
      "\n",
      "0: 320x416 1 I, 71.0ms\n",
      "Speed: 1.4ms preprocess, 71.0ms inference, 0.9ms postprocess per image at shape (1, 3, 320, 416)\n",
      "\n",
      "0: 320x416 1 I, 76.7ms\n",
      "Speed: 1.4ms preprocess, 76.7ms inference, 1.1ms postprocess per image at shape (1, 3, 320, 416)\n",
      "\n",
      "0: 320x416 1 I, 72.1ms\n",
      "Speed: 1.5ms preprocess, 72.1ms inference, 0.9ms postprocess per image at shape (1, 3, 320, 416)\n",
      "\n",
      "0: 320x416 1 I, 70.7ms\n",
      "Speed: 1.4ms preprocess, 70.7ms inference, 1.0ms postprocess per image at shape (1, 3, 320, 416)\n",
      "\n",
      "0: 320x416 1 I, 77.5ms\n",
      "Speed: 1.5ms preprocess, 77.5ms inference, 1.0ms postprocess per image at shape (1, 3, 320, 416)\n",
      "\n",
      "0: 320x416 1 I, 74.9ms\n",
      "Speed: 1.9ms preprocess, 74.9ms inference, 0.9ms postprocess per image at shape (1, 3, 320, 416)\n",
      "\n",
      "0: 320x416 1 I, 76.3ms\n",
      "Speed: 1.6ms preprocess, 76.3ms inference, 0.9ms postprocess per image at shape (1, 3, 320, 416)\n",
      "\n",
      "0: 320x416 1 I, 71.3ms\n",
      "Speed: 1.5ms preprocess, 71.3ms inference, 1.0ms postprocess per image at shape (1, 3, 320, 416)\n",
      "\n",
      "0: 320x416 1 I, 79.3ms\n",
      "Speed: 1.5ms preprocess, 79.3ms inference, 1.0ms postprocess per image at shape (1, 3, 320, 416)\n",
      "\n",
      "0: 320x416 1 I, 72.4ms\n",
      "Speed: 1.5ms preprocess, 72.4ms inference, 1.5ms postprocess per image at shape (1, 3, 320, 416)\n",
      "\n",
      "0: 320x416 1 I, 71.8ms\n",
      "Speed: 1.5ms preprocess, 71.8ms inference, 1.2ms postprocess per image at shape (1, 3, 320, 416)\n",
      "\n",
      "0: 320x416 1 I, 85.2ms\n",
      "Speed: 1.9ms preprocess, 85.2ms inference, 0.7ms postprocess per image at shape (1, 3, 320, 416)\n",
      "\n",
      "0: 320x416 1 I, 70.6ms\n",
      "Speed: 1.4ms preprocess, 70.6ms inference, 0.9ms postprocess per image at shape (1, 3, 320, 416)\n",
      "\n",
      "0: 320x416 1 I, 73.6ms\n",
      "Speed: 1.5ms preprocess, 73.6ms inference, 0.7ms postprocess per image at shape (1, 3, 320, 416)\n",
      "\n",
      "0: 320x416 1 I, 68.9ms\n",
      "Speed: 1.5ms preprocess, 68.9ms inference, 1.0ms postprocess per image at shape (1, 3, 320, 416)\n",
      "\n",
      "0: 320x416 (no detections), 77.6ms\n",
      "Speed: 1.8ms preprocess, 77.6ms inference, 0.6ms postprocess per image at shape (1, 3, 320, 416)\n",
      "\n",
      "0: 320x416 1 I, 75.7ms\n",
      "Speed: 1.6ms preprocess, 75.7ms inference, 1.0ms postprocess per image at shape (1, 3, 320, 416)\n",
      "\n",
      "0: 320x416 (no detections), 76.4ms\n",
      "Speed: 1.4ms preprocess, 76.4ms inference, 0.6ms postprocess per image at shape (1, 3, 320, 416)\n",
      "\n",
      "0: 320x416 (no detections), 73.5ms\n",
      "Speed: 2.2ms preprocess, 73.5ms inference, 0.6ms postprocess per image at shape (1, 3, 320, 416)\n",
      "\n",
      "0: 320x416 (no detections), 75.7ms\n",
      "Speed: 1.6ms preprocess, 75.7ms inference, 0.7ms postprocess per image at shape (1, 3, 320, 416)\n",
      "\n",
      "0: 320x416 1 I, 84.4ms\n",
      "Speed: 1.8ms preprocess, 84.4ms inference, 0.9ms postprocess per image at shape (1, 3, 320, 416)\n",
      "\n",
      "0: 320x416 (no detections), 106.3ms\n",
      "Speed: 1.6ms preprocess, 106.3ms inference, 0.9ms postprocess per image at shape (1, 3, 320, 416)\n",
      "\n",
      "0: 320x416 1 I, 101.9ms\n",
      "Speed: 1.6ms preprocess, 101.9ms inference, 1.0ms postprocess per image at shape (1, 3, 320, 416)\n",
      "\n",
      "0: 320x416 1 I, 97.2ms\n",
      "Speed: 1.8ms preprocess, 97.2ms inference, 1.1ms postprocess per image at shape (1, 3, 320, 416)\n",
      "\n",
      "0: 320x416 1 I, 89.5ms\n",
      "Speed: 2.3ms preprocess, 89.5ms inference, 0.7ms postprocess per image at shape (1, 3, 320, 416)\n",
      "\n",
      "0: 320x416 1 I, 107.4ms\n",
      "Speed: 2.2ms preprocess, 107.4ms inference, 0.9ms postprocess per image at shape (1, 3, 320, 416)\n",
      "\n",
      "0: 320x416 1 I, 108.0ms\n",
      "Speed: 1.7ms preprocess, 108.0ms inference, 1.4ms postprocess per image at shape (1, 3, 320, 416)\n",
      "\n",
      "0: 320x416 1 I, 112.2ms\n",
      "Speed: 1.9ms preprocess, 112.2ms inference, 1.1ms postprocess per image at shape (1, 3, 320, 416)\n",
      "\n",
      "0: 320x416 1 I, 90.7ms\n",
      "Speed: 2.6ms preprocess, 90.7ms inference, 1.0ms postprocess per image at shape (1, 3, 320, 416)\n",
      "\n",
      "0: 320x416 (no detections), 88.1ms\n",
      "Speed: 1.9ms preprocess, 88.1ms inference, 0.5ms postprocess per image at shape (1, 3, 320, 416)\n",
      "\n",
      "0: 320x416 1 I, 92.9ms\n",
      "Speed: 1.5ms preprocess, 92.9ms inference, 1.0ms postprocess per image at shape (1, 3, 320, 416)\n",
      "\n",
      "0: 320x416 1 I, 90.5ms\n",
      "Speed: 1.6ms preprocess, 90.5ms inference, 0.9ms postprocess per image at shape (1, 3, 320, 416)\n",
      "\n",
      "0: 320x416 1 I, 94.1ms\n",
      "Speed: 1.5ms preprocess, 94.1ms inference, 1.2ms postprocess per image at shape (1, 3, 320, 416)\n",
      "\n",
      "0: 320x416 1 I, 91.0ms\n",
      "Speed: 2.1ms preprocess, 91.0ms inference, 1.0ms postprocess per image at shape (1, 3, 320, 416)\n",
      "\n",
      "0: 320x416 (no detections), 95.8ms\n",
      "Speed: 1.6ms preprocess, 95.8ms inference, 0.7ms postprocess per image at shape (1, 3, 320, 416)\n",
      "\n",
      "0: 320x416 (no detections), 99.3ms\n",
      "Speed: 1.6ms preprocess, 99.3ms inference, 0.6ms postprocess per image at shape (1, 3, 320, 416)\n",
      "\n",
      "0: 320x416 (no detections), 108.3ms\n",
      "Speed: 1.8ms preprocess, 108.3ms inference, 0.6ms postprocess per image at shape (1, 3, 320, 416)\n",
      "\n",
      "0: 320x416 (no detections), 100.8ms\n",
      "Speed: 1.7ms preprocess, 100.8ms inference, 0.6ms postprocess per image at shape (1, 3, 320, 416)\n",
      "\n",
      "0: 320x416 (no detections), 89.9ms\n",
      "Speed: 2.4ms preprocess, 89.9ms inference, 0.6ms postprocess per image at shape (1, 3, 320, 416)\n",
      "\n",
      "0: 320x416 (no detections), 72.1ms\n",
      "Speed: 1.5ms preprocess, 72.1ms inference, 0.6ms postprocess per image at shape (1, 3, 320, 416)\n",
      "\n",
      "0: 320x416 (no detections), 79.0ms\n",
      "Speed: 1.8ms preprocess, 79.0ms inference, 0.5ms postprocess per image at shape (1, 3, 320, 416)\n",
      "\n",
      "0: 320x416 1 I, 70.0ms\n",
      "Speed: 1.6ms preprocess, 70.0ms inference, 0.8ms postprocess per image at shape (1, 3, 320, 416)\n",
      "\n",
      "0: 320x416 1 I, 80.0ms\n",
      "Speed: 1.5ms preprocess, 80.0ms inference, 0.9ms postprocess per image at shape (1, 3, 320, 416)\n",
      "\n",
      "0: 320x416 (no detections), 87.2ms\n",
      "Speed: 1.7ms preprocess, 87.2ms inference, 0.8ms postprocess per image at shape (1, 3, 320, 416)\n",
      "\n",
      "0: 320x416 (no detections), 102.8ms\n",
      "Speed: 1.5ms preprocess, 102.8ms inference, 0.5ms postprocess per image at shape (1, 3, 320, 416)\n",
      "\n",
      "0: 320x416 (no detections), 90.9ms\n",
      "Speed: 1.9ms preprocess, 90.9ms inference, 0.7ms postprocess per image at shape (1, 3, 320, 416)\n",
      "\n",
      "0: 320x416 (no detections), 86.5ms\n",
      "Speed: 1.5ms preprocess, 86.5ms inference, 0.6ms postprocess per image at shape (1, 3, 320, 416)\n",
      "\n",
      "0: 320x416 (no detections), 74.9ms\n",
      "Speed: 1.5ms preprocess, 74.9ms inference, 0.6ms postprocess per image at shape (1, 3, 320, 416)\n",
      "\n",
      "0: 320x416 (no detections), 74.2ms\n",
      "Speed: 1.5ms preprocess, 74.2ms inference, 0.7ms postprocess per image at shape (1, 3, 320, 416)\n",
      "\n",
      "0: 320x416 (no detections), 76.2ms\n",
      "Speed: 2.1ms preprocess, 76.2ms inference, 0.8ms postprocess per image at shape (1, 3, 320, 416)\n",
      "\n",
      "0: 320x416 (no detections), 69.9ms\n",
      "Speed: 2.0ms preprocess, 69.9ms inference, 0.5ms postprocess per image at shape (1, 3, 320, 416)\n",
      "\n",
      "0: 320x416 (no detections), 78.1ms\n",
      "Speed: 1.5ms preprocess, 78.1ms inference, 0.5ms postprocess per image at shape (1, 3, 320, 416)\n",
      "\n",
      "0: 320x416 (no detections), 72.8ms\n",
      "Speed: 1.8ms preprocess, 72.8ms inference, 0.6ms postprocess per image at shape (1, 3, 320, 416)\n",
      "\n",
      "0: 320x416 (no detections), 76.8ms\n",
      "Speed: 1.4ms preprocess, 76.8ms inference, 0.6ms postprocess per image at shape (1, 3, 320, 416)\n",
      "\n",
      "0: 320x416 (no detections), 73.1ms\n",
      "Speed: 1.9ms preprocess, 73.1ms inference, 0.6ms postprocess per image at shape (1, 3, 320, 416)\n",
      "\n",
      "0: 320x416 (no detections), 71.9ms\n",
      "Speed: 1.8ms preprocess, 71.9ms inference, 0.6ms postprocess per image at shape (1, 3, 320, 416)\n",
      "\n",
      "0: 320x416 (no detections), 75.0ms\n",
      "Speed: 2.3ms preprocess, 75.0ms inference, 0.5ms postprocess per image at shape (1, 3, 320, 416)\n",
      "\n",
      "0: 320x416 (no detections), 102.0ms\n",
      "Speed: 1.8ms preprocess, 102.0ms inference, 0.7ms postprocess per image at shape (1, 3, 320, 416)\n",
      "\n",
      "0: 320x416 (no detections), 100.6ms\n",
      "Speed: 1.8ms preprocess, 100.6ms inference, 0.6ms postprocess per image at shape (1, 3, 320, 416)\n",
      "\n",
      "0: 320x416 (no detections), 78.7ms\n",
      "Speed: 1.5ms preprocess, 78.7ms inference, 0.6ms postprocess per image at shape (1, 3, 320, 416)\n",
      "\n",
      "0: 320x416 (no detections), 78.2ms\n",
      "Speed: 1.5ms preprocess, 78.2ms inference, 0.6ms postprocess per image at shape (1, 3, 320, 416)\n",
      "\n",
      "0: 320x416 (no detections), 71.7ms\n",
      "Speed: 1.8ms preprocess, 71.7ms inference, 0.6ms postprocess per image at shape (1, 3, 320, 416)\n",
      "\n",
      "0: 320x416 (no detections), 78.1ms\n",
      "Speed: 1.8ms preprocess, 78.1ms inference, 0.6ms postprocess per image at shape (1, 3, 320, 416)\n",
      "\n",
      "0: 320x416 (no detections), 69.4ms\n",
      "Speed: 1.5ms preprocess, 69.4ms inference, 0.5ms postprocess per image at shape (1, 3, 320, 416)\n",
      "\n",
      "0: 320x416 (no detections), 75.5ms\n",
      "Speed: 1.6ms preprocess, 75.5ms inference, 0.6ms postprocess per image at shape (1, 3, 320, 416)\n",
      "\n",
      "0: 320x416 (no detections), 73.8ms\n",
      "Speed: 1.9ms preprocess, 73.8ms inference, 0.5ms postprocess per image at shape (1, 3, 320, 416)\n",
      "\n",
      "0: 320x416 (no detections), 80.7ms\n",
      "Speed: 1.6ms preprocess, 80.7ms inference, 0.7ms postprocess per image at shape (1, 3, 320, 416)\n",
      "\n",
      "0: 320x416 (no detections), 84.5ms\n",
      "Speed: 2.2ms preprocess, 84.5ms inference, 0.6ms postprocess per image at shape (1, 3, 320, 416)\n",
      "\n",
      "0: 320x416 1 L, 81.5ms\n",
      "Speed: 1.7ms preprocess, 81.5ms inference, 1.2ms postprocess per image at shape (1, 3, 320, 416)\n",
      "\n",
      "0: 320x416 1 L, 100.2ms\n",
      "Speed: 2.2ms preprocess, 100.2ms inference, 0.9ms postprocess per image at shape (1, 3, 320, 416)\n",
      "\n",
      "0: 320x416 (no detections), 97.0ms\n",
      "Speed: 1.6ms preprocess, 97.0ms inference, 0.7ms postprocess per image at shape (1, 3, 320, 416)\n",
      "\n",
      "0: 320x416 1 L, 88.0ms\n",
      "Speed: 2.8ms preprocess, 88.0ms inference, 0.9ms postprocess per image at shape (1, 3, 320, 416)\n",
      "\n",
      "0: 320x416 (no detections), 76.5ms\n",
      "Speed: 1.6ms preprocess, 76.5ms inference, 0.6ms postprocess per image at shape (1, 3, 320, 416)\n",
      "\n",
      "0: 320x416 (no detections), 75.9ms\n",
      "Speed: 1.8ms preprocess, 75.9ms inference, 0.6ms postprocess per image at shape (1, 3, 320, 416)\n",
      "\n",
      "0: 320x416 (no detections), 69.7ms\n",
      "Speed: 1.4ms preprocess, 69.7ms inference, 0.6ms postprocess per image at shape (1, 3, 320, 416)\n",
      "\n",
      "0: 320x416 (no detections), 76.5ms\n",
      "Speed: 2.5ms preprocess, 76.5ms inference, 0.6ms postprocess per image at shape (1, 3, 320, 416)\n",
      "\n",
      "0: 320x416 (no detections), 73.1ms\n",
      "Speed: 1.5ms preprocess, 73.1ms inference, 0.6ms postprocess per image at shape (1, 3, 320, 416)\n",
      "\n",
      "0: 320x416 (no detections), 76.1ms\n",
      "Speed: 1.5ms preprocess, 76.1ms inference, 0.6ms postprocess per image at shape (1, 3, 320, 416)\n",
      "\n",
      "0: 320x416 (no detections), 73.7ms\n",
      "Speed: 1.5ms preprocess, 73.7ms inference, 0.7ms postprocess per image at shape (1, 3, 320, 416)\n",
      "\n",
      "0: 320x416 (no detections), 75.6ms\n",
      "Speed: 1.5ms preprocess, 75.6ms inference, 0.7ms postprocess per image at shape (1, 3, 320, 416)\n",
      "\n",
      "0: 320x416 (no detections), 76.1ms\n",
      "Speed: 2.0ms preprocess, 76.1ms inference, 0.7ms postprocess per image at shape (1, 3, 320, 416)\n",
      "\n",
      "0: 320x416 (no detections), 72.8ms\n",
      "Speed: 1.4ms preprocess, 72.8ms inference, 0.8ms postprocess per image at shape (1, 3, 320, 416)\n",
      "\n",
      "0: 320x416 (no detections), 85.3ms\n",
      "Speed: 1.5ms preprocess, 85.3ms inference, 0.7ms postprocess per image at shape (1, 3, 320, 416)\n",
      "\n",
      "0: 320x416 (no detections), 72.6ms\n",
      "Speed: 1.5ms preprocess, 72.6ms inference, 0.6ms postprocess per image at shape (1, 3, 320, 416)\n",
      "\n",
      "0: 320x416 (no detections), 84.8ms\n",
      "Speed: 1.4ms preprocess, 84.8ms inference, 0.6ms postprocess per image at shape (1, 3, 320, 416)\n",
      "\n",
      "0: 320x416 1 L, 73.1ms\n",
      "Speed: 1.5ms preprocess, 73.1ms inference, 0.9ms postprocess per image at shape (1, 3, 320, 416)\n",
      "\n",
      "0: 320x416 1 L, 75.8ms\n",
      "Speed: 1.4ms preprocess, 75.8ms inference, 0.9ms postprocess per image at shape (1, 3, 320, 416)\n",
      "\n",
      "0: 320x416 1 L, 72.7ms\n",
      "Speed: 1.7ms preprocess, 72.7ms inference, 0.8ms postprocess per image at shape (1, 3, 320, 416)\n",
      "\n",
      "0: 320x416 1 L, 69.9ms\n",
      "Speed: 1.5ms preprocess, 69.9ms inference, 0.9ms postprocess per image at shape (1, 3, 320, 416)\n",
      "\n",
      "0: 320x416 (no detections), 76.8ms\n",
      "Speed: 2.0ms preprocess, 76.8ms inference, 0.7ms postprocess per image at shape (1, 3, 320, 416)\n",
      "\n",
      "0: 320x416 (no detections), 73.2ms\n",
      "Speed: 1.7ms preprocess, 73.2ms inference, 0.6ms postprocess per image at shape (1, 3, 320, 416)\n",
      "\n",
      "0: 320x416 (no detections), 77.2ms\n",
      "Speed: 1.5ms preprocess, 77.2ms inference, 0.6ms postprocess per image at shape (1, 3, 320, 416)\n",
      "\n",
      "0: 320x416 (no detections), 73.9ms\n",
      "Speed: 1.5ms preprocess, 73.9ms inference, 0.5ms postprocess per image at shape (1, 3, 320, 416)\n",
      "\n",
      "0: 320x416 (no detections), 74.4ms\n",
      "Speed: 1.5ms preprocess, 74.4ms inference, 0.6ms postprocess per image at shape (1, 3, 320, 416)\n",
      "\n",
      "0: 320x416 (no detections), 73.9ms\n",
      "Speed: 1.5ms preprocess, 73.9ms inference, 0.7ms postprocess per image at shape (1, 3, 320, 416)\n",
      "\n",
      "0: 320x416 (no detections), 72.3ms\n",
      "Speed: 1.5ms preprocess, 72.3ms inference, 0.6ms postprocess per image at shape (1, 3, 320, 416)\n",
      "\n",
      "0: 320x416 (no detections), 78.5ms\n",
      "Speed: 1.4ms preprocess, 78.5ms inference, 0.7ms postprocess per image at shape (1, 3, 320, 416)\n",
      "\n",
      "0: 320x416 (no detections), 71.7ms\n",
      "Speed: 1.5ms preprocess, 71.7ms inference, 0.5ms postprocess per image at shape (1, 3, 320, 416)\n",
      "\n",
      "0: 320x416 (no detections), 77.1ms\n",
      "Speed: 1.4ms preprocess, 77.1ms inference, 0.6ms postprocess per image at shape (1, 3, 320, 416)\n",
      "\n",
      "0: 320x416 (no detections), 69.6ms\n",
      "Speed: 1.5ms preprocess, 69.6ms inference, 0.6ms postprocess per image at shape (1, 3, 320, 416)\n",
      "\n",
      "0: 320x416 (no detections), 71.2ms\n",
      "Speed: 1.5ms preprocess, 71.2ms inference, 0.6ms postprocess per image at shape (1, 3, 320, 416)\n",
      "\n",
      "0: 320x416 1 X, 75.9ms\n",
      "Speed: 1.5ms preprocess, 75.9ms inference, 1.0ms postprocess per image at shape (1, 3, 320, 416)\n",
      "\n",
      "0: 320x416 1 X, 73.0ms\n",
      "Speed: 1.5ms preprocess, 73.0ms inference, 1.0ms postprocess per image at shape (1, 3, 320, 416)\n",
      "\n",
      "0: 320x416 (no detections), 78.3ms\n",
      "Speed: 1.4ms preprocess, 78.3ms inference, 0.6ms postprocess per image at shape (1, 3, 320, 416)\n",
      "\n",
      "0: 320x416 (no detections), 72.1ms\n",
      "Speed: 1.5ms preprocess, 72.1ms inference, 0.6ms postprocess per image at shape (1, 3, 320, 416)\n",
      "\n",
      "0: 320x416 (no detections), 75.0ms\n",
      "Speed: 1.5ms preprocess, 75.0ms inference, 0.8ms postprocess per image at shape (1, 3, 320, 416)\n",
      "\n",
      "0: 320x416 (no detections), 73.4ms\n",
      "Speed: 1.5ms preprocess, 73.4ms inference, 0.7ms postprocess per image at shape (1, 3, 320, 416)\n",
      "\n",
      "0: 320x416 (no detections), 75.9ms\n",
      "Speed: 1.7ms preprocess, 75.9ms inference, 0.7ms postprocess per image at shape (1, 3, 320, 416)\n",
      "\n",
      "0: 320x416 (no detections), 80.7ms\n",
      "Speed: 1.7ms preprocess, 80.7ms inference, 0.5ms postprocess per image at shape (1, 3, 320, 416)\n",
      "\n",
      "0: 320x416 (no detections), 75.6ms\n",
      "Speed: 1.4ms preprocess, 75.6ms inference, 0.6ms postprocess per image at shape (1, 3, 320, 416)\n",
      "\n",
      "0: 320x416 (no detections), 75.9ms\n",
      "Speed: 1.6ms preprocess, 75.9ms inference, 0.6ms postprocess per image at shape (1, 3, 320, 416)\n",
      "\n",
      "0: 320x416 (no detections), 74.0ms\n",
      "Speed: 1.5ms preprocess, 74.0ms inference, 0.5ms postprocess per image at shape (1, 3, 320, 416)\n",
      "\n",
      "0: 320x416 (no detections), 73.5ms\n",
      "Speed: 1.5ms preprocess, 73.5ms inference, 0.6ms postprocess per image at shape (1, 3, 320, 416)\n",
      "\n",
      "0: 320x416 1 O, 74.0ms\n",
      "Speed: 1.5ms preprocess, 74.0ms inference, 1.0ms postprocess per image at shape (1, 3, 320, 416)\n",
      "\n",
      "0: 320x416 1 O, 75.6ms\n",
      "Speed: 1.5ms preprocess, 75.6ms inference, 1.7ms postprocess per image at shape (1, 3, 320, 416)\n",
      "\n",
      "0: 320x416 1 O, 88.9ms\n",
      "Speed: 1.6ms preprocess, 88.9ms inference, 1.1ms postprocess per image at shape (1, 3, 320, 416)\n",
      "\n",
      "0: 320x416 1 O, 111.9ms\n",
      "Speed: 1.5ms preprocess, 111.9ms inference, 1.2ms postprocess per image at shape (1, 3, 320, 416)\n",
      "\n",
      "0: 320x416 1 O, 84.3ms\n",
      "Speed: 1.7ms preprocess, 84.3ms inference, 1.1ms postprocess per image at shape (1, 3, 320, 416)\n",
      "\n",
      "0: 320x416 1 O, 93.0ms\n",
      "Speed: 1.5ms preprocess, 93.0ms inference, 1.0ms postprocess per image at shape (1, 3, 320, 416)\n",
      "\n",
      "0: 320x416 1 O, 84.2ms\n",
      "Speed: 2.1ms preprocess, 84.2ms inference, 1.0ms postprocess per image at shape (1, 3, 320, 416)\n",
      "\n",
      "0: 320x416 (no detections), 84.5ms\n",
      "Speed: 1.5ms preprocess, 84.5ms inference, 0.8ms postprocess per image at shape (1, 3, 320, 416)\n",
      "\n",
      "0: 320x416 (no detections), 81.0ms\n",
      "Speed: 1.6ms preprocess, 81.0ms inference, 0.6ms postprocess per image at shape (1, 3, 320, 416)\n",
      "\n",
      "0: 320x416 (no detections), 77.4ms\n",
      "Speed: 1.9ms preprocess, 77.4ms inference, 0.6ms postprocess per image at shape (1, 3, 320, 416)\n",
      "\n",
      "0: 320x416 (no detections), 89.7ms\n",
      "Speed: 1.6ms preprocess, 89.7ms inference, 0.6ms postprocess per image at shape (1, 3, 320, 416)\n",
      "\n",
      "0: 320x416 (no detections), 85.1ms\n",
      "Speed: 1.7ms preprocess, 85.1ms inference, 0.6ms postprocess per image at shape (1, 3, 320, 416)\n",
      "\n",
      "0: 320x416 (no detections), 87.9ms\n",
      "Speed: 1.8ms preprocess, 87.9ms inference, 0.6ms postprocess per image at shape (1, 3, 320, 416)\n",
      "\n",
      "0: 320x416 (no detections), 78.1ms\n",
      "Speed: 1.9ms preprocess, 78.1ms inference, 0.6ms postprocess per image at shape (1, 3, 320, 416)\n",
      "\n",
      "0: 320x416 (no detections), 75.9ms\n",
      "Speed: 1.6ms preprocess, 75.9ms inference, 0.6ms postprocess per image at shape (1, 3, 320, 416)\n",
      "\n",
      "0: 320x416 (no detections), 79.6ms\n",
      "Speed: 1.6ms preprocess, 79.6ms inference, 0.6ms postprocess per image at shape (1, 3, 320, 416)\n",
      "\n",
      "0: 320x416 (no detections), 86.0ms\n",
      "Speed: 1.9ms preprocess, 86.0ms inference, 0.5ms postprocess per image at shape (1, 3, 320, 416)\n",
      "\n",
      "0: 320x416 (no detections), 212.1ms\n",
      "Speed: 3.4ms preprocess, 212.1ms inference, 0.7ms postprocess per image at shape (1, 3, 320, 416)\n",
      "\n",
      "0: 320x416 1 O, 123.1ms\n",
      "Speed: 1.8ms preprocess, 123.1ms inference, 1.6ms postprocess per image at shape (1, 3, 320, 416)\n",
      "\n",
      "0: 320x416 1 O, 115.4ms\n",
      "Speed: 2.2ms preprocess, 115.4ms inference, 1.6ms postprocess per image at shape (1, 3, 320, 416)\n",
      "\n",
      "0: 320x416 (no detections), 107.9ms\n",
      "Speed: 1.6ms preprocess, 107.9ms inference, 0.7ms postprocess per image at shape (1, 3, 320, 416)\n",
      "\n",
      "0: 320x416 1 O, 84.4ms\n",
      "Speed: 1.7ms preprocess, 84.4ms inference, 1.5ms postprocess per image at shape (1, 3, 320, 416)\n",
      "\n",
      "0: 320x416 (no detections), 90.9ms\n",
      "Speed: 2.1ms preprocess, 90.9ms inference, 0.7ms postprocess per image at shape (1, 3, 320, 416)\n",
      "\n",
      "0: 320x416 1 O, 91.4ms\n",
      "Speed: 1.9ms preprocess, 91.4ms inference, 1.3ms postprocess per image at shape (1, 3, 320, 416)\n",
      "\n",
      "0: 320x416 (no detections), 102.0ms\n",
      "Speed: 2.0ms preprocess, 102.0ms inference, 0.7ms postprocess per image at shape (1, 3, 320, 416)\n",
      "\n",
      "0: 320x416 (no detections), 81.3ms\n",
      "Speed: 2.0ms preprocess, 81.3ms inference, 0.7ms postprocess per image at shape (1, 3, 320, 416)\n",
      "\n",
      "0: 320x416 (no detections), 87.1ms\n",
      "Speed: 1.9ms preprocess, 87.1ms inference, 0.6ms postprocess per image at shape (1, 3, 320, 416)\n",
      "\n",
      "0: 320x416 (no detections), 99.4ms\n",
      "Speed: 1.5ms preprocess, 99.4ms inference, 0.8ms postprocess per image at shape (1, 3, 320, 416)\n",
      "\n",
      "0: 320x416 (no detections), 100.3ms\n",
      "Speed: 2.1ms preprocess, 100.3ms inference, 0.7ms postprocess per image at shape (1, 3, 320, 416)\n",
      "\n",
      "0: 320x416 (no detections), 103.6ms\n",
      "Speed: 1.6ms preprocess, 103.6ms inference, 0.7ms postprocess per image at shape (1, 3, 320, 416)\n",
      "\n",
      "0: 320x416 (no detections), 98.8ms\n",
      "Speed: 1.9ms preprocess, 98.8ms inference, 0.6ms postprocess per image at shape (1, 3, 320, 416)\n",
      "\n",
      "0: 320x416 (no detections), 104.5ms\n",
      "Speed: 2.0ms preprocess, 104.5ms inference, 0.8ms postprocess per image at shape (1, 3, 320, 416)\n",
      "\n",
      "0: 320x416 (no detections), 85.1ms\n",
      "Speed: 1.8ms preprocess, 85.1ms inference, 0.7ms postprocess per image at shape (1, 3, 320, 416)\n",
      "\n",
      "0: 320x416 (no detections), 93.0ms\n",
      "Speed: 1.9ms preprocess, 93.0ms inference, 0.6ms postprocess per image at shape (1, 3, 320, 416)\n",
      "\n",
      "0: 320x416 (no detections), 87.2ms\n",
      "Speed: 2.1ms preprocess, 87.2ms inference, 0.7ms postprocess per image at shape (1, 3, 320, 416)\n",
      "\n",
      "0: 320x416 (no detections), 117.5ms\n",
      "Speed: 2.0ms preprocess, 117.5ms inference, 0.7ms postprocess per image at shape (1, 3, 320, 416)\n",
      "\n",
      "0: 320x416 (no detections), 117.1ms\n",
      "Speed: 2.0ms preprocess, 117.1ms inference, 0.6ms postprocess per image at shape (1, 3, 320, 416)\n",
      "\n",
      "0: 320x416 (no detections), 196.5ms\n",
      "Speed: 7.9ms preprocess, 196.5ms inference, 0.5ms postprocess per image at shape (1, 3, 320, 416)\n",
      "\n",
      "0: 320x416 (no detections), 122.9ms\n",
      "Speed: 1.7ms preprocess, 122.9ms inference, 0.7ms postprocess per image at shape (1, 3, 320, 416)\n",
      "\n",
      "0: 320x416 (no detections), 93.6ms\n",
      "Speed: 2.2ms preprocess, 93.6ms inference, 0.6ms postprocess per image at shape (1, 3, 320, 416)\n",
      "\n",
      "0: 320x416 (no detections), 93.1ms\n",
      "Speed: 1.6ms preprocess, 93.1ms inference, 0.6ms postprocess per image at shape (1, 3, 320, 416)\n",
      "\n",
      "0: 320x416 (no detections), 76.6ms\n",
      "Speed: 1.5ms preprocess, 76.6ms inference, 0.6ms postprocess per image at shape (1, 3, 320, 416)\n",
      "\n",
      "0: 320x416 (no detections), 88.2ms\n",
      "Speed: 1.5ms preprocess, 88.2ms inference, 0.5ms postprocess per image at shape (1, 3, 320, 416)\n",
      "\n",
      "0: 320x416 (no detections), 77.3ms\n",
      "Speed: 1.5ms preprocess, 77.3ms inference, 0.5ms postprocess per image at shape (1, 3, 320, 416)\n",
      "\n",
      "0: 320x416 (no detections), 79.1ms\n",
      "Speed: 1.9ms preprocess, 79.1ms inference, 0.6ms postprocess per image at shape (1, 3, 320, 416)\n",
      "\n",
      "0: 320x416 (no detections), 81.1ms\n",
      "Speed: 1.9ms preprocess, 81.1ms inference, 0.6ms postprocess per image at shape (1, 3, 320, 416)\n",
      "\n",
      "0: 320x416 (no detections), 80.0ms\n",
      "Speed: 1.5ms preprocess, 80.0ms inference, 0.6ms postprocess per image at shape (1, 3, 320, 416)\n",
      "\n",
      "0: 320x416 (no detections), 76.4ms\n",
      "Speed: 2.3ms preprocess, 76.4ms inference, 0.6ms postprocess per image at shape (1, 3, 320, 416)\n",
      "\n",
      "0: 320x416 (no detections), 87.6ms\n",
      "Speed: 1.7ms preprocess, 87.6ms inference, 0.6ms postprocess per image at shape (1, 3, 320, 416)\n",
      "\n",
      "0: 320x416 (no detections), 76.7ms\n",
      "Speed: 1.5ms preprocess, 76.7ms inference, 0.7ms postprocess per image at shape (1, 3, 320, 416)\n",
      "\n",
      "0: 320x416 (no detections), 72.3ms\n",
      "Speed: 1.5ms preprocess, 72.3ms inference, 0.6ms postprocess per image at shape (1, 3, 320, 416)\n",
      "\n",
      "0: 320x416 (no detections), 78.9ms\n",
      "Speed: 1.4ms preprocess, 78.9ms inference, 0.6ms postprocess per image at shape (1, 3, 320, 416)\n",
      "\n",
      "0: 320x416 (no detections), 81.7ms\n",
      "Speed: 1.7ms preprocess, 81.7ms inference, 0.6ms postprocess per image at shape (1, 3, 320, 416)\n",
      "\n",
      "0: 320x416 (no detections), 91.7ms\n",
      "Speed: 1.7ms preprocess, 91.7ms inference, 0.7ms postprocess per image at shape (1, 3, 320, 416)\n",
      "\n",
      "0: 320x416 (no detections), 96.7ms\n",
      "Speed: 1.5ms preprocess, 96.7ms inference, 0.7ms postprocess per image at shape (1, 3, 320, 416)\n",
      "\n",
      "0: 320x416 (no detections), 107.1ms\n",
      "Speed: 2.2ms preprocess, 107.1ms inference, 0.7ms postprocess per image at shape (1, 3, 320, 416)\n",
      "\n",
      "0: 320x416 (no detections), 90.9ms\n",
      "Speed: 2.3ms preprocess, 90.9ms inference, 0.6ms postprocess per image at shape (1, 3, 320, 416)\n",
      "\n",
      "0: 320x416 (no detections), 81.0ms\n",
      "Speed: 1.8ms preprocess, 81.0ms inference, 0.6ms postprocess per image at shape (1, 3, 320, 416)\n",
      "\n",
      "0: 320x416 (no detections), 75.1ms\n",
      "Speed: 1.4ms preprocess, 75.1ms inference, 0.5ms postprocess per image at shape (1, 3, 320, 416)\n",
      "\n",
      "0: 320x416 (no detections), 85.7ms\n",
      "Speed: 1.6ms preprocess, 85.7ms inference, 0.7ms postprocess per image at shape (1, 3, 320, 416)\n",
      "\n",
      "0: 320x416 (no detections), 77.7ms\n",
      "Speed: 1.5ms preprocess, 77.7ms inference, 0.6ms postprocess per image at shape (1, 3, 320, 416)\n",
      "\n",
      "0: 320x416 (no detections), 80.7ms\n",
      "Speed: 1.4ms preprocess, 80.7ms inference, 0.5ms postprocess per image at shape (1, 3, 320, 416)\n",
      "\n",
      "0: 320x416 (no detections), 80.3ms\n",
      "Speed: 1.5ms preprocess, 80.3ms inference, 0.5ms postprocess per image at shape (1, 3, 320, 416)\n",
      "\n",
      "0: 320x416 (no detections), 82.7ms\n",
      "Speed: 1.4ms preprocess, 82.7ms inference, 0.6ms postprocess per image at shape (1, 3, 320, 416)\n",
      "\n",
      "0: 320x416 (no detections), 76.8ms\n",
      "Speed: 1.5ms preprocess, 76.8ms inference, 0.6ms postprocess per image at shape (1, 3, 320, 416)\n",
      "\n",
      "0: 320x416 (no detections), 73.1ms\n",
      "Speed: 1.5ms preprocess, 73.1ms inference, 0.6ms postprocess per image at shape (1, 3, 320, 416)\n",
      "\n",
      "0: 320x416 (no detections), 78.7ms\n",
      "Speed: 1.5ms preprocess, 78.7ms inference, 0.6ms postprocess per image at shape (1, 3, 320, 416)\n",
      "\n",
      "0: 320x416 (no detections), 74.4ms\n",
      "Speed: 1.5ms preprocess, 74.4ms inference, 0.5ms postprocess per image at shape (1, 3, 320, 416)\n",
      "\n",
      "0: 320x416 (no detections), 56.2ms\n",
      "Speed: 1.3ms preprocess, 56.2ms inference, 0.4ms postprocess per image at shape (1, 3, 320, 416)\n",
      "\n",
      "0: 320x416 (no detections), 54.0ms\n",
      "Speed: 1.1ms preprocess, 54.0ms inference, 0.4ms postprocess per image at shape (1, 3, 320, 416)\n",
      "\n",
      "0: 320x416 (no detections), 71.6ms\n",
      "Speed: 1.4ms preprocess, 71.6ms inference, 0.5ms postprocess per image at shape (1, 3, 320, 416)\n",
      "\n",
      "0: 320x416 (no detections), 84.8ms\n",
      "Speed: 1.5ms preprocess, 84.8ms inference, 0.5ms postprocess per image at shape (1, 3, 320, 416)\n",
      "\n",
      "0: 320x416 (no detections), 81.3ms\n",
      "Speed: 1.3ms preprocess, 81.3ms inference, 0.5ms postprocess per image at shape (1, 3, 320, 416)\n",
      "\n",
      "0: 320x416 (no detections), 75.7ms\n",
      "Speed: 1.7ms preprocess, 75.7ms inference, 0.7ms postprocess per image at shape (1, 3, 320, 416)\n",
      "\n",
      "0: 320x416 (no detections), 77.5ms\n",
      "Speed: 2.1ms preprocess, 77.5ms inference, 0.6ms postprocess per image at shape (1, 3, 320, 416)\n",
      "\n",
      "0: 320x416 (no detections), 78.1ms\n",
      "Speed: 1.6ms preprocess, 78.1ms inference, 0.8ms postprocess per image at shape (1, 3, 320, 416)\n",
      "\n",
      "0: 320x416 (no detections), 87.4ms\n",
      "Speed: 1.4ms preprocess, 87.4ms inference, 0.6ms postprocess per image at shape (1, 3, 320, 416)\n",
      "\n",
      "0: 320x416 (no detections), 78.2ms\n",
      "Speed: 1.9ms preprocess, 78.2ms inference, 0.6ms postprocess per image at shape (1, 3, 320, 416)\n",
      "\n",
      "0: 320x416 (no detections), 71.0ms\n",
      "Speed: 1.4ms preprocess, 71.0ms inference, 0.6ms postprocess per image at shape (1, 3, 320, 416)\n",
      "\n",
      "0: 320x416 (no detections), 148.2ms\n",
      "Speed: 1.5ms preprocess, 148.2ms inference, 0.7ms postprocess per image at shape (1, 3, 320, 416)\n",
      "\n",
      "0: 320x416 (no detections), 158.0ms\n",
      "Speed: 2.0ms preprocess, 158.0ms inference, 0.7ms postprocess per image at shape (1, 3, 320, 416)\n",
      "\n",
      "0: 320x416 (no detections), 104.3ms\n",
      "Speed: 1.8ms preprocess, 104.3ms inference, 0.6ms postprocess per image at shape (1, 3, 320, 416)\n",
      "\n",
      "0: 320x416 (no detections), 89.7ms\n",
      "Speed: 1.9ms preprocess, 89.7ms inference, 0.7ms postprocess per image at shape (1, 3, 320, 416)\n",
      "\n",
      "0: 320x416 (no detections), 97.5ms\n",
      "Speed: 1.7ms preprocess, 97.5ms inference, 0.8ms postprocess per image at shape (1, 3, 320, 416)\n",
      "\n",
      "0: 320x416 (no detections), 85.7ms\n",
      "Speed: 1.9ms preprocess, 85.7ms inference, 0.6ms postprocess per image at shape (1, 3, 320, 416)\n",
      "\n",
      "0: 320x416 (no detections), 97.2ms\n",
      "Speed: 1.8ms preprocess, 97.2ms inference, 0.6ms postprocess per image at shape (1, 3, 320, 416)\n",
      "\n",
      "0: 320x416 1 O, 77.4ms\n",
      "Speed: 1.4ms preprocess, 77.4ms inference, 0.9ms postprocess per image at shape (1, 3, 320, 416)\n",
      "\n",
      "0: 320x416 (no detections), 76.4ms\n",
      "Speed: 1.6ms preprocess, 76.4ms inference, 0.6ms postprocess per image at shape (1, 3, 320, 416)\n",
      "\n",
      "0: 320x416 (no detections), 72.0ms\n",
      "Speed: 1.4ms preprocess, 72.0ms inference, 0.6ms postprocess per image at shape (1, 3, 320, 416)\n",
      "\n",
      "0: 320x416 (no detections), 72.8ms\n",
      "Speed: 1.4ms preprocess, 72.8ms inference, 0.6ms postprocess per image at shape (1, 3, 320, 416)\n",
      "\n",
      "0: 320x416 (no detections), 159.4ms\n",
      "Speed: 2.2ms preprocess, 159.4ms inference, 0.6ms postprocess per image at shape (1, 3, 320, 416)\n",
      "\n",
      "0: 320x416 (no detections), 82.1ms\n",
      "Speed: 1.5ms preprocess, 82.1ms inference, 0.6ms postprocess per image at shape (1, 3, 320, 416)\n",
      "\n",
      "0: 320x416 (no detections), 72.8ms\n",
      "Speed: 1.5ms preprocess, 72.8ms inference, 0.6ms postprocess per image at shape (1, 3, 320, 416)\n",
      "\n",
      "0: 320x416 (no detections), 73.0ms\n",
      "Speed: 1.5ms preprocess, 73.0ms inference, 0.6ms postprocess per image at shape (1, 3, 320, 416)\n",
      "\n",
      "0: 320x416 1 J, 73.0ms\n",
      "Speed: 2.2ms preprocess, 73.0ms inference, 1.0ms postprocess per image at shape (1, 3, 320, 416)\n",
      "\n",
      "0: 320x416 (no detections), 71.2ms\n",
      "Speed: 1.5ms preprocess, 71.2ms inference, 0.6ms postprocess per image at shape (1, 3, 320, 416)\n",
      "\n",
      "0: 320x416 1 O, 74.5ms\n",
      "Speed: 1.6ms preprocess, 74.5ms inference, 1.1ms postprocess per image at shape (1, 3, 320, 416)\n",
      "\n",
      "0: 320x416 1 O, 71.5ms\n",
      "Speed: 1.4ms preprocess, 71.5ms inference, 1.1ms postprocess per image at shape (1, 3, 320, 416)\n",
      "\n",
      "0: 320x416 1 O, 90.5ms\n",
      "Speed: 1.7ms preprocess, 90.5ms inference, 0.9ms postprocess per image at shape (1, 3, 320, 416)\n",
      "\n",
      "0: 320x416 1 O, 76.3ms\n",
      "Speed: 1.9ms preprocess, 76.3ms inference, 1.0ms postprocess per image at shape (1, 3, 320, 416)\n",
      "\n",
      "0: 320x416 1 O, 85.1ms\n",
      "Speed: 1.5ms preprocess, 85.1ms inference, 0.9ms postprocess per image at shape (1, 3, 320, 416)\n",
      "\n",
      "0: 320x416 1 O, 72.3ms\n",
      "Speed: 1.5ms preprocess, 72.3ms inference, 0.9ms postprocess per image at shape (1, 3, 320, 416)\n",
      "\n",
      "0: 320x416 1 O, 74.7ms\n",
      "Speed: 1.5ms preprocess, 74.7ms inference, 1.0ms postprocess per image at shape (1, 3, 320, 416)\n",
      "\n",
      "0: 320x416 1 O, 83.3ms\n",
      "Speed: 1.6ms preprocess, 83.3ms inference, 1.4ms postprocess per image at shape (1, 3, 320, 416)\n",
      "\n",
      "0: 320x416 (no detections), 91.5ms\n",
      "Speed: 1.4ms preprocess, 91.5ms inference, 0.6ms postprocess per image at shape (1, 3, 320, 416)\n",
      "\n",
      "0: 320x416 1 O, 83.8ms\n",
      "Speed: 2.4ms preprocess, 83.8ms inference, 1.0ms postprocess per image at shape (1, 3, 320, 416)\n",
      "\n",
      "0: 320x416 (no detections), 74.2ms\n",
      "Speed: 1.5ms preprocess, 74.2ms inference, 0.7ms postprocess per image at shape (1, 3, 320, 416)\n",
      "\n",
      "0: 320x416 1 O, 86.2ms\n",
      "Speed: 1.5ms preprocess, 86.2ms inference, 1.0ms postprocess per image at shape (1, 3, 320, 416)\n",
      "\n",
      "0: 320x416 1 O, 89.6ms\n",
      "Speed: 1.5ms preprocess, 89.6ms inference, 1.3ms postprocess per image at shape (1, 3, 320, 416)\n",
      "\n",
      "0: 320x416 2 Os, 74.5ms\n",
      "Speed: 1.6ms preprocess, 74.5ms inference, 0.9ms postprocess per image at shape (1, 3, 320, 416)\n",
      "\n",
      "0: 320x416 1 O, 71.1ms\n",
      "Speed: 1.5ms preprocess, 71.1ms inference, 0.9ms postprocess per image at shape (1, 3, 320, 416)\n",
      "\n",
      "0: 320x416 (no detections), 79.4ms\n",
      "Speed: 1.4ms preprocess, 79.4ms inference, 0.6ms postprocess per image at shape (1, 3, 320, 416)\n",
      "\n",
      "0: 320x416 (no detections), 71.7ms\n",
      "Speed: 1.9ms preprocess, 71.7ms inference, 0.5ms postprocess per image at shape (1, 3, 320, 416)\n",
      "\n",
      "0: 320x416 (no detections), 74.3ms\n",
      "Speed: 1.5ms preprocess, 74.3ms inference, 0.5ms postprocess per image at shape (1, 3, 320, 416)\n",
      "\n",
      "0: 320x416 (no detections), 77.2ms\n",
      "Speed: 1.6ms preprocess, 77.2ms inference, 0.8ms postprocess per image at shape (1, 3, 320, 416)\n",
      "\n",
      "0: 320x416 (no detections), 78.2ms\n",
      "Speed: 1.5ms preprocess, 78.2ms inference, 0.6ms postprocess per image at shape (1, 3, 320, 416)\n",
      "\n",
      "0: 320x416 (no detections), 76.2ms\n",
      "Speed: 2.0ms preprocess, 76.2ms inference, 0.8ms postprocess per image at shape (1, 3, 320, 416)\n",
      "\n",
      "0: 320x416 (no detections), 70.7ms\n",
      "Speed: 1.4ms preprocess, 70.7ms inference, 0.5ms postprocess per image at shape (1, 3, 320, 416)\n",
      "\n",
      "0: 320x416 (no detections), 78.6ms\n",
      "Speed: 1.4ms preprocess, 78.6ms inference, 0.6ms postprocess per image at shape (1, 3, 320, 416)\n",
      "\n",
      "0: 320x416 1 O, 69.9ms\n",
      "Speed: 1.5ms preprocess, 69.9ms inference, 0.9ms postprocess per image at shape (1, 3, 320, 416)\n",
      "\n",
      "0: 320x416 (no detections), 73.8ms\n",
      "Speed: 1.4ms preprocess, 73.8ms inference, 0.6ms postprocess per image at shape (1, 3, 320, 416)\n",
      "\n",
      "0: 320x416 (no detections), 73.8ms\n",
      "Speed: 1.6ms preprocess, 73.8ms inference, 0.6ms postprocess per image at shape (1, 3, 320, 416)\n",
      "\n",
      "0: 320x416 (no detections), 68.5ms\n",
      "Speed: 1.4ms preprocess, 68.5ms inference, 0.5ms postprocess per image at shape (1, 3, 320, 416)\n",
      "\n",
      "0: 320x416 (no detections), 75.3ms\n",
      "Speed: 1.6ms preprocess, 75.3ms inference, 0.6ms postprocess per image at shape (1, 3, 320, 416)\n",
      "\n",
      "0: 320x416 (no detections), 70.2ms\n",
      "Speed: 1.4ms preprocess, 70.2ms inference, 0.5ms postprocess per image at shape (1, 3, 320, 416)\n",
      "\n",
      "0: 320x416 (no detections), 76.5ms\n",
      "Speed: 1.4ms preprocess, 76.5ms inference, 0.6ms postprocess per image at shape (1, 3, 320, 416)\n",
      "\n",
      "0: 320x416 (no detections), 71.8ms\n",
      "Speed: 1.5ms preprocess, 71.8ms inference, 0.5ms postprocess per image at shape (1, 3, 320, 416)\n",
      "\n",
      "0: 320x416 (no detections), 71.7ms\n",
      "Speed: 1.4ms preprocess, 71.7ms inference, 0.8ms postprocess per image at shape (1, 3, 320, 416)\n",
      "\n",
      "0: 320x416 (no detections), 75.5ms\n",
      "Speed: 1.9ms preprocess, 75.5ms inference, 0.5ms postprocess per image at shape (1, 3, 320, 416)\n",
      "\n",
      "0: 320x416 (no detections), 68.9ms\n",
      "Speed: 1.4ms preprocess, 68.9ms inference, 0.6ms postprocess per image at shape (1, 3, 320, 416)\n",
      "\n",
      "0: 320x416 1 F, 76.8ms\n",
      "Speed: 1.5ms preprocess, 76.8ms inference, 0.9ms postprocess per image at shape (1, 3, 320, 416)\n",
      "\n",
      "0: 320x416 (no detections), 71.4ms\n",
      "Speed: 1.5ms preprocess, 71.4ms inference, 0.6ms postprocess per image at shape (1, 3, 320, 416)\n",
      "\n",
      "0: 320x416 1 R, 75.2ms\n",
      "Speed: 1.8ms preprocess, 75.2ms inference, 0.9ms postprocess per image at shape (1, 3, 320, 416)\n",
      "\n",
      "0: 320x416 (no detections), 73.7ms\n",
      "Speed: 1.5ms preprocess, 73.7ms inference, 0.6ms postprocess per image at shape (1, 3, 320, 416)\n",
      "\n",
      "0: 320x416 (no detections), 123.5ms\n",
      "Speed: 1.5ms preprocess, 123.5ms inference, 1.1ms postprocess per image at shape (1, 3, 320, 416)\n",
      "\n",
      "0: 320x416 (no detections), 129.0ms\n",
      "Speed: 2.3ms preprocess, 129.0ms inference, 1.0ms postprocess per image at shape (1, 3, 320, 416)\n",
      "\n",
      "0: 320x416 1 R, 130.4ms\n",
      "Speed: 2.7ms preprocess, 130.4ms inference, 1.9ms postprocess per image at shape (1, 3, 320, 416)\n",
      "\n",
      "0: 320x416 (no detections), 131.2ms\n",
      "Speed: 1.6ms preprocess, 131.2ms inference, 1.1ms postprocess per image at shape (1, 3, 320, 416)\n",
      "\n",
      "0: 320x416 (no detections), 125.9ms\n",
      "Speed: 2.3ms preprocess, 125.9ms inference, 1.1ms postprocess per image at shape (1, 3, 320, 416)\n",
      "\n",
      "0: 320x416 (no detections), 151.0ms\n",
      "Speed: 1.9ms preprocess, 151.0ms inference, 1.1ms postprocess per image at shape (1, 3, 320, 416)\n",
      "\n",
      "0: 320x416 (no detections), 130.8ms\n",
      "Speed: 3.0ms preprocess, 130.8ms inference, 0.9ms postprocess per image at shape (1, 3, 320, 416)\n",
      "\n",
      "0: 320x416 (no detections), 134.3ms\n",
      "Speed: 2.2ms preprocess, 134.3ms inference, 1.2ms postprocess per image at shape (1, 3, 320, 416)\n",
      "\n",
      "0: 320x416 (no detections), 131.5ms\n",
      "Speed: 2.3ms preprocess, 131.5ms inference, 1.1ms postprocess per image at shape (1, 3, 320, 416)\n",
      "\n",
      "0: 320x416 (no detections), 134.0ms\n",
      "Speed: 4.0ms preprocess, 134.0ms inference, 1.1ms postprocess per image at shape (1, 3, 320, 416)\n",
      "\n",
      "0: 320x416 (no detections), 135.9ms\n",
      "Speed: 2.9ms preprocess, 135.9ms inference, 0.7ms postprocess per image at shape (1, 3, 320, 416)\n",
      "\n",
      "0: 320x416 (no detections), 132.0ms\n",
      "Speed: 2.9ms preprocess, 132.0ms inference, 1.0ms postprocess per image at shape (1, 3, 320, 416)\n",
      "\n",
      "0: 320x416 (no detections), 133.5ms\n",
      "Speed: 1.9ms preprocess, 133.5ms inference, 0.9ms postprocess per image at shape (1, 3, 320, 416)\n",
      "\n"
     ]
    },
    {
     "ename": "KeyboardInterrupt",
     "evalue": "",
     "output_type": "error",
     "traceback": [
      "\u001b[31m---------------------------------------------------------------------------\u001b[39m",
      "\u001b[31mKeyboardInterrupt\u001b[39m                         Traceback (most recent call last)",
      "\u001b[36mCell\u001b[39m\u001b[36m \u001b[39m\u001b[32mIn[1]\u001b[39m\u001b[32m, line 13\u001b[39m\n\u001b[32m     10\u001b[39m \u001b[38;5;28;01mif\u001b[39;00m \u001b[38;5;129;01mnot\u001b[39;00m ret:\n\u001b[32m     11\u001b[39m     \u001b[38;5;28;01mbreak\u001b[39;00m\n\u001b[32m---> \u001b[39m\u001b[32m13\u001b[39m results = \u001b[43mmodel\u001b[49m\u001b[43m(\u001b[49m\u001b[43mframe\u001b[49m\u001b[43m)\u001b[49m\n\u001b[32m     15\u001b[39m \u001b[38;5;66;03m# Draw results on the frame\u001b[39;00m\n\u001b[32m     16\u001b[39m annotated_frame = results[\u001b[32m0\u001b[39m].plot()\n",
      "\u001b[36mFile \u001b[39m\u001b[32mc:\\Users\\himek\\AppData\\Local\\Programs\\Python\\Python311\\Lib\\site-packages\\ultralytics\\engine\\model.py:182\u001b[39m, in \u001b[36mModel.__call__\u001b[39m\u001b[34m(self, source, stream, **kwargs)\u001b[39m\n\u001b[32m    153\u001b[39m \u001b[38;5;28;01mdef\u001b[39;00m\u001b[38;5;250m \u001b[39m\u001b[34m__call__\u001b[39m(\n\u001b[32m    154\u001b[39m     \u001b[38;5;28mself\u001b[39m,\n\u001b[32m    155\u001b[39m     source: Union[\u001b[38;5;28mstr\u001b[39m, Path, \u001b[38;5;28mint\u001b[39m, Image.Image, \u001b[38;5;28mlist\u001b[39m, \u001b[38;5;28mtuple\u001b[39m, np.ndarray, torch.Tensor] = \u001b[38;5;28;01mNone\u001b[39;00m,\n\u001b[32m    156\u001b[39m     stream: \u001b[38;5;28mbool\u001b[39m = \u001b[38;5;28;01mFalse\u001b[39;00m,\n\u001b[32m    157\u001b[39m     **kwargs: Any,\n\u001b[32m    158\u001b[39m ) -> \u001b[38;5;28mlist\u001b[39m:\n\u001b[32m    159\u001b[39m \u001b[38;5;250m    \u001b[39m\u001b[33;03m\"\"\"\u001b[39;00m\n\u001b[32m    160\u001b[39m \u001b[33;03m    Alias for the predict method, enabling the model instance to be callable for predictions.\u001b[39;00m\n\u001b[32m    161\u001b[39m \n\u001b[32m   (...)\u001b[39m\u001b[32m    180\u001b[39m \u001b[33;03m        ...     print(f\"Detected {len(r)} objects in image\")\u001b[39;00m\n\u001b[32m    181\u001b[39m \u001b[33;03m    \"\"\"\u001b[39;00m\n\u001b[32m--> \u001b[39m\u001b[32m182\u001b[39m     \u001b[38;5;28;01mreturn\u001b[39;00m \u001b[38;5;28;43mself\u001b[39;49m\u001b[43m.\u001b[49m\u001b[43mpredict\u001b[49m\u001b[43m(\u001b[49m\u001b[43msource\u001b[49m\u001b[43m,\u001b[49m\u001b[43m \u001b[49m\u001b[43mstream\u001b[49m\u001b[43m,\u001b[49m\u001b[43m \u001b[49m\u001b[43m*\u001b[49m\u001b[43m*\u001b[49m\u001b[43mkwargs\u001b[49m\u001b[43m)\u001b[49m\n",
      "\u001b[36mFile \u001b[39m\u001b[32mc:\\Users\\himek\\AppData\\Local\\Programs\\Python\\Python311\\Lib\\site-packages\\ultralytics\\engine\\model.py:550\u001b[39m, in \u001b[36mModel.predict\u001b[39m\u001b[34m(self, source, stream, predictor, **kwargs)\u001b[39m\n\u001b[32m    548\u001b[39m \u001b[38;5;28;01mif\u001b[39;00m prompts \u001b[38;5;129;01mand\u001b[39;00m \u001b[38;5;28mhasattr\u001b[39m(\u001b[38;5;28mself\u001b[39m.predictor, \u001b[33m\"\u001b[39m\u001b[33mset_prompts\u001b[39m\u001b[33m\"\u001b[39m):  \u001b[38;5;66;03m# for SAM-type models\u001b[39;00m\n\u001b[32m    549\u001b[39m     \u001b[38;5;28mself\u001b[39m.predictor.set_prompts(prompts)\n\u001b[32m--> \u001b[39m\u001b[32m550\u001b[39m \u001b[38;5;28;01mreturn\u001b[39;00m \u001b[38;5;28mself\u001b[39m.predictor.predict_cli(source=source) \u001b[38;5;28;01mif\u001b[39;00m is_cli \u001b[38;5;28;01melse\u001b[39;00m \u001b[38;5;28;43mself\u001b[39;49m\u001b[43m.\u001b[49m\u001b[43mpredictor\u001b[49m\u001b[43m(\u001b[49m\u001b[43msource\u001b[49m\u001b[43m=\u001b[49m\u001b[43msource\u001b[49m\u001b[43m,\u001b[49m\u001b[43m \u001b[49m\u001b[43mstream\u001b[49m\u001b[43m=\u001b[49m\u001b[43mstream\u001b[49m\u001b[43m)\u001b[49m\n",
      "\u001b[36mFile \u001b[39m\u001b[32mc:\\Users\\himek\\AppData\\Local\\Programs\\Python\\Python311\\Lib\\site-packages\\ultralytics\\engine\\predictor.py:216\u001b[39m, in \u001b[36mBasePredictor.__call__\u001b[39m\u001b[34m(self, source, model, stream, *args, **kwargs)\u001b[39m\n\u001b[32m    214\u001b[39m     \u001b[38;5;28;01mreturn\u001b[39;00m \u001b[38;5;28mself\u001b[39m.stream_inference(source, model, *args, **kwargs)\n\u001b[32m    215\u001b[39m \u001b[38;5;28;01melse\u001b[39;00m:\n\u001b[32m--> \u001b[39m\u001b[32m216\u001b[39m     \u001b[38;5;28;01mreturn\u001b[39;00m \u001b[38;5;28mlist\u001b[39m(\u001b[38;5;28mself\u001b[39m.stream_inference(source, model, *args, **kwargs))\n",
      "\u001b[36mFile \u001b[39m\u001b[32mc:\\Users\\himek\\AppData\\Local\\Programs\\Python\\Python311\\Lib\\site-packages\\torch\\utils\\_contextlib.py:36\u001b[39m, in \u001b[36m_wrap_generator.<locals>.generator_context\u001b[39m\u001b[34m(*args, **kwargs)\u001b[39m\n\u001b[32m     33\u001b[39m \u001b[38;5;28;01mtry\u001b[39;00m:\n\u001b[32m     34\u001b[39m     \u001b[38;5;66;03m# Issuing `None` to a generator fires it up\u001b[39;00m\n\u001b[32m     35\u001b[39m     \u001b[38;5;28;01mwith\u001b[39;00m ctx_factory():\n\u001b[32m---> \u001b[39m\u001b[32m36\u001b[39m         response = gen.send(\u001b[38;5;28;01mNone\u001b[39;00m)\n\u001b[32m     38\u001b[39m     \u001b[38;5;28;01mwhile\u001b[39;00m \u001b[38;5;28;01mTrue\u001b[39;00m:\n\u001b[32m     39\u001b[39m         \u001b[38;5;28;01mtry\u001b[39;00m:\n\u001b[32m     40\u001b[39m             \u001b[38;5;66;03m# Forward the response to our caller and get its next request\u001b[39;00m\n",
      "\u001b[36mFile \u001b[39m\u001b[32mc:\\Users\\himek\\AppData\\Local\\Programs\\Python\\Python311\\Lib\\site-packages\\ultralytics\\engine\\predictor.py:325\u001b[39m, in \u001b[36mBasePredictor.stream_inference\u001b[39m\u001b[34m(self, source, model, *args, **kwargs)\u001b[39m\n\u001b[32m    323\u001b[39m \u001b[38;5;66;03m# Inference\u001b[39;00m\n\u001b[32m    324\u001b[39m \u001b[38;5;28;01mwith\u001b[39;00m profilers[\u001b[32m1\u001b[39m]:\n\u001b[32m--> \u001b[39m\u001b[32m325\u001b[39m     preds = \u001b[38;5;28;43mself\u001b[39;49m\u001b[43m.\u001b[49m\u001b[43minference\u001b[49m\u001b[43m(\u001b[49m\u001b[43mim\u001b[49m\u001b[43m,\u001b[49m\u001b[43m \u001b[49m\u001b[43m*\u001b[49m\u001b[43margs\u001b[49m\u001b[43m,\u001b[49m\u001b[43m \u001b[49m\u001b[43m*\u001b[49m\u001b[43m*\u001b[49m\u001b[43mkwargs\u001b[49m\u001b[43m)\u001b[49m\n\u001b[32m    326\u001b[39m     \u001b[38;5;28;01mif\u001b[39;00m \u001b[38;5;28mself\u001b[39m.args.embed:\n\u001b[32m    327\u001b[39m         \u001b[38;5;28;01myield from\u001b[39;00m [preds] \u001b[38;5;28;01mif\u001b[39;00m \u001b[38;5;28misinstance\u001b[39m(preds, torch.Tensor) \u001b[38;5;28;01melse\u001b[39;00m preds  \u001b[38;5;66;03m# yield embedding tensors\u001b[39;00m\n",
      "\u001b[36mFile \u001b[39m\u001b[32mc:\\Users\\himek\\AppData\\Local\\Programs\\Python\\Python311\\Lib\\site-packages\\ultralytics\\engine\\predictor.py:171\u001b[39m, in \u001b[36mBasePredictor.inference\u001b[39m\u001b[34m(self, im, *args, **kwargs)\u001b[39m\n\u001b[32m    165\u001b[39m \u001b[38;5;250m\u001b[39m\u001b[33;03m\"\"\"Run inference on a given image using the specified model and arguments.\"\"\"\u001b[39;00m\n\u001b[32m    166\u001b[39m visualize = (\n\u001b[32m    167\u001b[39m     increment_path(\u001b[38;5;28mself\u001b[39m.save_dir / Path(\u001b[38;5;28mself\u001b[39m.batch[\u001b[32m0\u001b[39m][\u001b[32m0\u001b[39m]).stem, mkdir=\u001b[38;5;28;01mTrue\u001b[39;00m)\n\u001b[32m    168\u001b[39m     \u001b[38;5;28;01mif\u001b[39;00m \u001b[38;5;28mself\u001b[39m.args.visualize \u001b[38;5;129;01mand\u001b[39;00m (\u001b[38;5;129;01mnot\u001b[39;00m \u001b[38;5;28mself\u001b[39m.source_type.tensor)\n\u001b[32m    169\u001b[39m     \u001b[38;5;28;01melse\u001b[39;00m \u001b[38;5;28;01mFalse\u001b[39;00m\n\u001b[32m    170\u001b[39m )\n\u001b[32m--> \u001b[39m\u001b[32m171\u001b[39m \u001b[38;5;28;01mreturn\u001b[39;00m \u001b[38;5;28;43mself\u001b[39;49m\u001b[43m.\u001b[49m\u001b[43mmodel\u001b[49m\u001b[43m(\u001b[49m\u001b[43mim\u001b[49m\u001b[43m,\u001b[49m\u001b[43m \u001b[49m\u001b[43maugment\u001b[49m\u001b[43m=\u001b[49m\u001b[38;5;28;43mself\u001b[39;49m\u001b[43m.\u001b[49m\u001b[43margs\u001b[49m\u001b[43m.\u001b[49m\u001b[43maugment\u001b[49m\u001b[43m,\u001b[49m\u001b[43m \u001b[49m\u001b[43mvisualize\u001b[49m\u001b[43m=\u001b[49m\u001b[43mvisualize\u001b[49m\u001b[43m,\u001b[49m\u001b[43m \u001b[49m\u001b[43membed\u001b[49m\u001b[43m=\u001b[49m\u001b[38;5;28;43mself\u001b[39;49m\u001b[43m.\u001b[49m\u001b[43margs\u001b[49m\u001b[43m.\u001b[49m\u001b[43membed\u001b[49m\u001b[43m,\u001b[49m\u001b[43m \u001b[49m\u001b[43m*\u001b[49m\u001b[43margs\u001b[49m\u001b[43m,\u001b[49m\u001b[43m \u001b[49m\u001b[43m*\u001b[49m\u001b[43m*\u001b[49m\u001b[43mkwargs\u001b[49m\u001b[43m)\u001b[49m\n",
      "\u001b[36mFile \u001b[39m\u001b[32mc:\\Users\\himek\\AppData\\Local\\Programs\\Python\\Python311\\Lib\\site-packages\\torch\\nn\\modules\\module.py:1739\u001b[39m, in \u001b[36mModule._wrapped_call_impl\u001b[39m\u001b[34m(self, *args, **kwargs)\u001b[39m\n\u001b[32m   1737\u001b[39m     \u001b[38;5;28;01mreturn\u001b[39;00m \u001b[38;5;28mself\u001b[39m._compiled_call_impl(*args, **kwargs)  \u001b[38;5;66;03m# type: ignore[misc]\u001b[39;00m\n\u001b[32m   1738\u001b[39m \u001b[38;5;28;01melse\u001b[39;00m:\n\u001b[32m-> \u001b[39m\u001b[32m1739\u001b[39m     \u001b[38;5;28;01mreturn\u001b[39;00m \u001b[38;5;28;43mself\u001b[39;49m\u001b[43m.\u001b[49m\u001b[43m_call_impl\u001b[49m\u001b[43m(\u001b[49m\u001b[43m*\u001b[49m\u001b[43margs\u001b[49m\u001b[43m,\u001b[49m\u001b[43m \u001b[49m\u001b[43m*\u001b[49m\u001b[43m*\u001b[49m\u001b[43mkwargs\u001b[49m\u001b[43m)\u001b[49m\n",
      "\u001b[36mFile \u001b[39m\u001b[32mc:\\Users\\himek\\AppData\\Local\\Programs\\Python\\Python311\\Lib\\site-packages\\torch\\nn\\modules\\module.py:1750\u001b[39m, in \u001b[36mModule._call_impl\u001b[39m\u001b[34m(self, *args, **kwargs)\u001b[39m\n\u001b[32m   1745\u001b[39m \u001b[38;5;66;03m# If we don't have any hooks, we want to skip the rest of the logic in\u001b[39;00m\n\u001b[32m   1746\u001b[39m \u001b[38;5;66;03m# this function, and just call forward.\u001b[39;00m\n\u001b[32m   1747\u001b[39m \u001b[38;5;28;01mif\u001b[39;00m \u001b[38;5;129;01mnot\u001b[39;00m (\u001b[38;5;28mself\u001b[39m._backward_hooks \u001b[38;5;129;01mor\u001b[39;00m \u001b[38;5;28mself\u001b[39m._backward_pre_hooks \u001b[38;5;129;01mor\u001b[39;00m \u001b[38;5;28mself\u001b[39m._forward_hooks \u001b[38;5;129;01mor\u001b[39;00m \u001b[38;5;28mself\u001b[39m._forward_pre_hooks\n\u001b[32m   1748\u001b[39m         \u001b[38;5;129;01mor\u001b[39;00m _global_backward_pre_hooks \u001b[38;5;129;01mor\u001b[39;00m _global_backward_hooks\n\u001b[32m   1749\u001b[39m         \u001b[38;5;129;01mor\u001b[39;00m _global_forward_hooks \u001b[38;5;129;01mor\u001b[39;00m _global_forward_pre_hooks):\n\u001b[32m-> \u001b[39m\u001b[32m1750\u001b[39m     \u001b[38;5;28;01mreturn\u001b[39;00m \u001b[43mforward_call\u001b[49m\u001b[43m(\u001b[49m\u001b[43m*\u001b[49m\u001b[43margs\u001b[49m\u001b[43m,\u001b[49m\u001b[43m \u001b[49m\u001b[43m*\u001b[49m\u001b[43m*\u001b[49m\u001b[43mkwargs\u001b[49m\u001b[43m)\u001b[49m\n\u001b[32m   1752\u001b[39m result = \u001b[38;5;28;01mNone\u001b[39;00m\n\u001b[32m   1753\u001b[39m called_always_called_hooks = \u001b[38;5;28mset\u001b[39m()\n",
      "\u001b[36mFile \u001b[39m\u001b[32mc:\\Users\\himek\\AppData\\Local\\Programs\\Python\\Python311\\Lib\\site-packages\\ultralytics\\nn\\autobackend.py:581\u001b[39m, in \u001b[36mAutoBackend.forward\u001b[39m\u001b[34m(self, im, augment, visualize, embed, **kwargs)\u001b[39m\n\u001b[32m    579\u001b[39m \u001b[38;5;66;03m# PyTorch\u001b[39;00m\n\u001b[32m    580\u001b[39m \u001b[38;5;28;01mif\u001b[39;00m \u001b[38;5;28mself\u001b[39m.pt \u001b[38;5;129;01mor\u001b[39;00m \u001b[38;5;28mself\u001b[39m.nn_module:\n\u001b[32m--> \u001b[39m\u001b[32m581\u001b[39m     y = \u001b[38;5;28;43mself\u001b[39;49m\u001b[43m.\u001b[49m\u001b[43mmodel\u001b[49m\u001b[43m(\u001b[49m\u001b[43mim\u001b[49m\u001b[43m,\u001b[49m\u001b[43m \u001b[49m\u001b[43maugment\u001b[49m\u001b[43m=\u001b[49m\u001b[43maugment\u001b[49m\u001b[43m,\u001b[49m\u001b[43m \u001b[49m\u001b[43mvisualize\u001b[49m\u001b[43m=\u001b[49m\u001b[43mvisualize\u001b[49m\u001b[43m,\u001b[49m\u001b[43m \u001b[49m\u001b[43membed\u001b[49m\u001b[43m=\u001b[49m\u001b[43membed\u001b[49m\u001b[43m,\u001b[49m\u001b[43m \u001b[49m\u001b[43m*\u001b[49m\u001b[43m*\u001b[49m\u001b[43mkwargs\u001b[49m\u001b[43m)\u001b[49m\n\u001b[32m    583\u001b[39m \u001b[38;5;66;03m# TorchScript\u001b[39;00m\n\u001b[32m    584\u001b[39m \u001b[38;5;28;01melif\u001b[39;00m \u001b[38;5;28mself\u001b[39m.jit:\n",
      "\u001b[36mFile \u001b[39m\u001b[32mc:\\Users\\himek\\AppData\\Local\\Programs\\Python\\Python311\\Lib\\site-packages\\torch\\nn\\modules\\module.py:1739\u001b[39m, in \u001b[36mModule._wrapped_call_impl\u001b[39m\u001b[34m(self, *args, **kwargs)\u001b[39m\n\u001b[32m   1737\u001b[39m     \u001b[38;5;28;01mreturn\u001b[39;00m \u001b[38;5;28mself\u001b[39m._compiled_call_impl(*args, **kwargs)  \u001b[38;5;66;03m# type: ignore[misc]\u001b[39;00m\n\u001b[32m   1738\u001b[39m \u001b[38;5;28;01melse\u001b[39;00m:\n\u001b[32m-> \u001b[39m\u001b[32m1739\u001b[39m     \u001b[38;5;28;01mreturn\u001b[39;00m \u001b[38;5;28;43mself\u001b[39;49m\u001b[43m.\u001b[49m\u001b[43m_call_impl\u001b[49m\u001b[43m(\u001b[49m\u001b[43m*\u001b[49m\u001b[43margs\u001b[49m\u001b[43m,\u001b[49m\u001b[43m \u001b[49m\u001b[43m*\u001b[49m\u001b[43m*\u001b[49m\u001b[43mkwargs\u001b[49m\u001b[43m)\u001b[49m\n",
      "\u001b[36mFile \u001b[39m\u001b[32mc:\\Users\\himek\\AppData\\Local\\Programs\\Python\\Python311\\Lib\\site-packages\\torch\\nn\\modules\\module.py:1750\u001b[39m, in \u001b[36mModule._call_impl\u001b[39m\u001b[34m(self, *args, **kwargs)\u001b[39m\n\u001b[32m   1745\u001b[39m \u001b[38;5;66;03m# If we don't have any hooks, we want to skip the rest of the logic in\u001b[39;00m\n\u001b[32m   1746\u001b[39m \u001b[38;5;66;03m# this function, and just call forward.\u001b[39;00m\n\u001b[32m   1747\u001b[39m \u001b[38;5;28;01mif\u001b[39;00m \u001b[38;5;129;01mnot\u001b[39;00m (\u001b[38;5;28mself\u001b[39m._backward_hooks \u001b[38;5;129;01mor\u001b[39;00m \u001b[38;5;28mself\u001b[39m._backward_pre_hooks \u001b[38;5;129;01mor\u001b[39;00m \u001b[38;5;28mself\u001b[39m._forward_hooks \u001b[38;5;129;01mor\u001b[39;00m \u001b[38;5;28mself\u001b[39m._forward_pre_hooks\n\u001b[32m   1748\u001b[39m         \u001b[38;5;129;01mor\u001b[39;00m _global_backward_pre_hooks \u001b[38;5;129;01mor\u001b[39;00m _global_backward_hooks\n\u001b[32m   1749\u001b[39m         \u001b[38;5;129;01mor\u001b[39;00m _global_forward_hooks \u001b[38;5;129;01mor\u001b[39;00m _global_forward_pre_hooks):\n\u001b[32m-> \u001b[39m\u001b[32m1750\u001b[39m     \u001b[38;5;28;01mreturn\u001b[39;00m \u001b[43mforward_call\u001b[49m\u001b[43m(\u001b[49m\u001b[43m*\u001b[49m\u001b[43margs\u001b[49m\u001b[43m,\u001b[49m\u001b[43m \u001b[49m\u001b[43m*\u001b[49m\u001b[43m*\u001b[49m\u001b[43mkwargs\u001b[49m\u001b[43m)\u001b[49m\n\u001b[32m   1752\u001b[39m result = \u001b[38;5;28;01mNone\u001b[39;00m\n\u001b[32m   1753\u001b[39m called_always_called_hooks = \u001b[38;5;28mset\u001b[39m()\n",
      "\u001b[36mFile \u001b[39m\u001b[32mc:\\Users\\himek\\AppData\\Local\\Programs\\Python\\Python311\\Lib\\site-packages\\ultralytics\\nn\\tasks.py:120\u001b[39m, in \u001b[36mBaseModel.forward\u001b[39m\u001b[34m(self, x, *args, **kwargs)\u001b[39m\n\u001b[32m    118\u001b[39m \u001b[38;5;28;01mif\u001b[39;00m \u001b[38;5;28misinstance\u001b[39m(x, \u001b[38;5;28mdict\u001b[39m):  \u001b[38;5;66;03m# for cases of training and validating while training.\u001b[39;00m\n\u001b[32m    119\u001b[39m     \u001b[38;5;28;01mreturn\u001b[39;00m \u001b[38;5;28mself\u001b[39m.loss(x, *args, **kwargs)\n\u001b[32m--> \u001b[39m\u001b[32m120\u001b[39m \u001b[38;5;28;01mreturn\u001b[39;00m \u001b[38;5;28;43mself\u001b[39;49m\u001b[43m.\u001b[49m\u001b[43mpredict\u001b[49m\u001b[43m(\u001b[49m\u001b[43mx\u001b[49m\u001b[43m,\u001b[49m\u001b[43m \u001b[49m\u001b[43m*\u001b[49m\u001b[43margs\u001b[49m\u001b[43m,\u001b[49m\u001b[43m \u001b[49m\u001b[43m*\u001b[49m\u001b[43m*\u001b[49m\u001b[43mkwargs\u001b[49m\u001b[43m)\u001b[49m\n",
      "\u001b[36mFile \u001b[39m\u001b[32mc:\\Users\\himek\\AppData\\Local\\Programs\\Python\\Python311\\Lib\\site-packages\\ultralytics\\nn\\tasks.py:138\u001b[39m, in \u001b[36mBaseModel.predict\u001b[39m\u001b[34m(self, x, profile, visualize, augment, embed)\u001b[39m\n\u001b[32m    136\u001b[39m \u001b[38;5;28;01mif\u001b[39;00m augment:\n\u001b[32m    137\u001b[39m     \u001b[38;5;28;01mreturn\u001b[39;00m \u001b[38;5;28mself\u001b[39m._predict_augment(x)\n\u001b[32m--> \u001b[39m\u001b[32m138\u001b[39m \u001b[38;5;28;01mreturn\u001b[39;00m \u001b[38;5;28;43mself\u001b[39;49m\u001b[43m.\u001b[49m\u001b[43m_predict_once\u001b[49m\u001b[43m(\u001b[49m\u001b[43mx\u001b[49m\u001b[43m,\u001b[49m\u001b[43m \u001b[49m\u001b[43mprofile\u001b[49m\u001b[43m,\u001b[49m\u001b[43m \u001b[49m\u001b[43mvisualize\u001b[49m\u001b[43m,\u001b[49m\u001b[43m \u001b[49m\u001b[43membed\u001b[49m\u001b[43m)\u001b[49m\n",
      "\u001b[36mFile \u001b[39m\u001b[32mc:\\Users\\himek\\AppData\\Local\\Programs\\Python\\Python311\\Lib\\site-packages\\ultralytics\\nn\\tasks.py:159\u001b[39m, in \u001b[36mBaseModel._predict_once\u001b[39m\u001b[34m(self, x, profile, visualize, embed)\u001b[39m\n\u001b[32m    157\u001b[39m \u001b[38;5;28;01mif\u001b[39;00m profile:\n\u001b[32m    158\u001b[39m     \u001b[38;5;28mself\u001b[39m._profile_one_layer(m, x, dt)\n\u001b[32m--> \u001b[39m\u001b[32m159\u001b[39m x = \u001b[43mm\u001b[49m\u001b[43m(\u001b[49m\u001b[43mx\u001b[49m\u001b[43m)\u001b[49m  \u001b[38;5;66;03m# run\u001b[39;00m\n\u001b[32m    160\u001b[39m y.append(x \u001b[38;5;28;01mif\u001b[39;00m m.i \u001b[38;5;129;01min\u001b[39;00m \u001b[38;5;28mself\u001b[39m.save \u001b[38;5;28;01melse\u001b[39;00m \u001b[38;5;28;01mNone\u001b[39;00m)  \u001b[38;5;66;03m# save output\u001b[39;00m\n\u001b[32m    161\u001b[39m \u001b[38;5;28;01mif\u001b[39;00m visualize:\n",
      "\u001b[36mFile \u001b[39m\u001b[32mc:\\Users\\himek\\AppData\\Local\\Programs\\Python\\Python311\\Lib\\site-packages\\torch\\nn\\modules\\module.py:1739\u001b[39m, in \u001b[36mModule._wrapped_call_impl\u001b[39m\u001b[34m(self, *args, **kwargs)\u001b[39m\n\u001b[32m   1737\u001b[39m     \u001b[38;5;28;01mreturn\u001b[39;00m \u001b[38;5;28mself\u001b[39m._compiled_call_impl(*args, **kwargs)  \u001b[38;5;66;03m# type: ignore[misc]\u001b[39;00m\n\u001b[32m   1738\u001b[39m \u001b[38;5;28;01melse\u001b[39;00m:\n\u001b[32m-> \u001b[39m\u001b[32m1739\u001b[39m     \u001b[38;5;28;01mreturn\u001b[39;00m \u001b[38;5;28;43mself\u001b[39;49m\u001b[43m.\u001b[49m\u001b[43m_call_impl\u001b[49m\u001b[43m(\u001b[49m\u001b[43m*\u001b[49m\u001b[43margs\u001b[49m\u001b[43m,\u001b[49m\u001b[43m \u001b[49m\u001b[43m*\u001b[49m\u001b[43m*\u001b[49m\u001b[43mkwargs\u001b[49m\u001b[43m)\u001b[49m\n",
      "\u001b[36mFile \u001b[39m\u001b[32mc:\\Users\\himek\\AppData\\Local\\Programs\\Python\\Python311\\Lib\\site-packages\\torch\\nn\\modules\\module.py:1750\u001b[39m, in \u001b[36mModule._call_impl\u001b[39m\u001b[34m(self, *args, **kwargs)\u001b[39m\n\u001b[32m   1745\u001b[39m \u001b[38;5;66;03m# If we don't have any hooks, we want to skip the rest of the logic in\u001b[39;00m\n\u001b[32m   1746\u001b[39m \u001b[38;5;66;03m# this function, and just call forward.\u001b[39;00m\n\u001b[32m   1747\u001b[39m \u001b[38;5;28;01mif\u001b[39;00m \u001b[38;5;129;01mnot\u001b[39;00m (\u001b[38;5;28mself\u001b[39m._backward_hooks \u001b[38;5;129;01mor\u001b[39;00m \u001b[38;5;28mself\u001b[39m._backward_pre_hooks \u001b[38;5;129;01mor\u001b[39;00m \u001b[38;5;28mself\u001b[39m._forward_hooks \u001b[38;5;129;01mor\u001b[39;00m \u001b[38;5;28mself\u001b[39m._forward_pre_hooks\n\u001b[32m   1748\u001b[39m         \u001b[38;5;129;01mor\u001b[39;00m _global_backward_pre_hooks \u001b[38;5;129;01mor\u001b[39;00m _global_backward_hooks\n\u001b[32m   1749\u001b[39m         \u001b[38;5;129;01mor\u001b[39;00m _global_forward_hooks \u001b[38;5;129;01mor\u001b[39;00m _global_forward_pre_hooks):\n\u001b[32m-> \u001b[39m\u001b[32m1750\u001b[39m     \u001b[38;5;28;01mreturn\u001b[39;00m \u001b[43mforward_call\u001b[49m\u001b[43m(\u001b[49m\u001b[43m*\u001b[49m\u001b[43margs\u001b[49m\u001b[43m,\u001b[49m\u001b[43m \u001b[49m\u001b[43m*\u001b[49m\u001b[43m*\u001b[49m\u001b[43mkwargs\u001b[49m\u001b[43m)\u001b[49m\n\u001b[32m   1752\u001b[39m result = \u001b[38;5;28;01mNone\u001b[39;00m\n\u001b[32m   1753\u001b[39m called_always_called_hooks = \u001b[38;5;28mset\u001b[39m()\n",
      "\u001b[36mFile \u001b[39m\u001b[32mc:\\Users\\himek\\AppData\\Local\\Programs\\Python\\Python311\\Lib\\site-packages\\ultralytics\\nn\\modules\\block.py:336\u001b[39m, in \u001b[36mC3.forward\u001b[39m\u001b[34m(self, x)\u001b[39m\n\u001b[32m    334\u001b[39m \u001b[38;5;28;01mdef\u001b[39;00m\u001b[38;5;250m \u001b[39m\u001b[34mforward\u001b[39m(\u001b[38;5;28mself\u001b[39m, x):\n\u001b[32m    335\u001b[39m \u001b[38;5;250m    \u001b[39m\u001b[33;03m\"\"\"Forward pass through the CSP bottleneck with 3 convolutions.\"\"\"\u001b[39;00m\n\u001b[32m--> \u001b[39m\u001b[32m336\u001b[39m     \u001b[38;5;28;01mreturn\u001b[39;00m \u001b[38;5;28mself\u001b[39m.cv3(torch.cat((\u001b[38;5;28mself\u001b[39m.m(\u001b[38;5;28;43mself\u001b[39;49m\u001b[43m.\u001b[49m\u001b[43mcv1\u001b[49m\u001b[43m(\u001b[49m\u001b[43mx\u001b[49m\u001b[43m)\u001b[49m), \u001b[38;5;28mself\u001b[39m.cv2(x)), \u001b[32m1\u001b[39m))\n",
      "\u001b[36mFile \u001b[39m\u001b[32mc:\\Users\\himek\\AppData\\Local\\Programs\\Python\\Python311\\Lib\\site-packages\\torch\\nn\\modules\\module.py:1739\u001b[39m, in \u001b[36mModule._wrapped_call_impl\u001b[39m\u001b[34m(self, *args, **kwargs)\u001b[39m\n\u001b[32m   1737\u001b[39m     \u001b[38;5;28;01mreturn\u001b[39;00m \u001b[38;5;28mself\u001b[39m._compiled_call_impl(*args, **kwargs)  \u001b[38;5;66;03m# type: ignore[misc]\u001b[39;00m\n\u001b[32m   1738\u001b[39m \u001b[38;5;28;01melse\u001b[39;00m:\n\u001b[32m-> \u001b[39m\u001b[32m1739\u001b[39m     \u001b[38;5;28;01mreturn\u001b[39;00m \u001b[38;5;28;43mself\u001b[39;49m\u001b[43m.\u001b[49m\u001b[43m_call_impl\u001b[49m\u001b[43m(\u001b[49m\u001b[43m*\u001b[49m\u001b[43margs\u001b[49m\u001b[43m,\u001b[49m\u001b[43m \u001b[49m\u001b[43m*\u001b[49m\u001b[43m*\u001b[49m\u001b[43mkwargs\u001b[49m\u001b[43m)\u001b[49m\n",
      "\u001b[36mFile \u001b[39m\u001b[32mc:\\Users\\himek\\AppData\\Local\\Programs\\Python\\Python311\\Lib\\site-packages\\torch\\nn\\modules\\module.py:1750\u001b[39m, in \u001b[36mModule._call_impl\u001b[39m\u001b[34m(self, *args, **kwargs)\u001b[39m\n\u001b[32m   1745\u001b[39m \u001b[38;5;66;03m# If we don't have any hooks, we want to skip the rest of the logic in\u001b[39;00m\n\u001b[32m   1746\u001b[39m \u001b[38;5;66;03m# this function, and just call forward.\u001b[39;00m\n\u001b[32m   1747\u001b[39m \u001b[38;5;28;01mif\u001b[39;00m \u001b[38;5;129;01mnot\u001b[39;00m (\u001b[38;5;28mself\u001b[39m._backward_hooks \u001b[38;5;129;01mor\u001b[39;00m \u001b[38;5;28mself\u001b[39m._backward_pre_hooks \u001b[38;5;129;01mor\u001b[39;00m \u001b[38;5;28mself\u001b[39m._forward_hooks \u001b[38;5;129;01mor\u001b[39;00m \u001b[38;5;28mself\u001b[39m._forward_pre_hooks\n\u001b[32m   1748\u001b[39m         \u001b[38;5;129;01mor\u001b[39;00m _global_backward_pre_hooks \u001b[38;5;129;01mor\u001b[39;00m _global_backward_hooks\n\u001b[32m   1749\u001b[39m         \u001b[38;5;129;01mor\u001b[39;00m _global_forward_hooks \u001b[38;5;129;01mor\u001b[39;00m _global_forward_pre_hooks):\n\u001b[32m-> \u001b[39m\u001b[32m1750\u001b[39m     \u001b[38;5;28;01mreturn\u001b[39;00m \u001b[43mforward_call\u001b[49m\u001b[43m(\u001b[49m\u001b[43m*\u001b[49m\u001b[43margs\u001b[49m\u001b[43m,\u001b[49m\u001b[43m \u001b[49m\u001b[43m*\u001b[49m\u001b[43m*\u001b[49m\u001b[43mkwargs\u001b[49m\u001b[43m)\u001b[49m\n\u001b[32m   1752\u001b[39m result = \u001b[38;5;28;01mNone\u001b[39;00m\n\u001b[32m   1753\u001b[39m called_always_called_hooks = \u001b[38;5;28mset\u001b[39m()\n",
      "\u001b[36mFile \u001b[39m\u001b[32mc:\\Users\\himek\\AppData\\Local\\Programs\\Python\\Python311\\Lib\\site-packages\\ultralytics\\nn\\modules\\conv.py:91\u001b[39m, in \u001b[36mConv.forward_fuse\u001b[39m\u001b[34m(self, x)\u001b[39m\n\u001b[32m     81\u001b[39m \u001b[38;5;28;01mdef\u001b[39;00m\u001b[38;5;250m \u001b[39m\u001b[34mforward_fuse\u001b[39m(\u001b[38;5;28mself\u001b[39m, x):\n\u001b[32m     82\u001b[39m \u001b[38;5;250m    \u001b[39m\u001b[33;03m\"\"\"\u001b[39;00m\n\u001b[32m     83\u001b[39m \u001b[33;03m    Apply convolution and activation without batch normalization.\u001b[39;00m\n\u001b[32m     84\u001b[39m \n\u001b[32m   (...)\u001b[39m\u001b[32m     89\u001b[39m \u001b[33;03m        (torch.Tensor): Output tensor.\u001b[39;00m\n\u001b[32m     90\u001b[39m \u001b[33;03m    \"\"\"\u001b[39;00m\n\u001b[32m---> \u001b[39m\u001b[32m91\u001b[39m     \u001b[38;5;28;01mreturn\u001b[39;00m \u001b[38;5;28mself\u001b[39m.act(\u001b[38;5;28;43mself\u001b[39;49m\u001b[43m.\u001b[49m\u001b[43mconv\u001b[49m\u001b[43m(\u001b[49m\u001b[43mx\u001b[49m\u001b[43m)\u001b[49m)\n",
      "\u001b[36mFile \u001b[39m\u001b[32mc:\\Users\\himek\\AppData\\Local\\Programs\\Python\\Python311\\Lib\\site-packages\\torch\\nn\\modules\\module.py:1739\u001b[39m, in \u001b[36mModule._wrapped_call_impl\u001b[39m\u001b[34m(self, *args, **kwargs)\u001b[39m\n\u001b[32m   1737\u001b[39m     \u001b[38;5;28;01mreturn\u001b[39;00m \u001b[38;5;28mself\u001b[39m._compiled_call_impl(*args, **kwargs)  \u001b[38;5;66;03m# type: ignore[misc]\u001b[39;00m\n\u001b[32m   1738\u001b[39m \u001b[38;5;28;01melse\u001b[39;00m:\n\u001b[32m-> \u001b[39m\u001b[32m1739\u001b[39m     \u001b[38;5;28;01mreturn\u001b[39;00m \u001b[38;5;28;43mself\u001b[39;49m\u001b[43m.\u001b[49m\u001b[43m_call_impl\u001b[49m\u001b[43m(\u001b[49m\u001b[43m*\u001b[49m\u001b[43margs\u001b[49m\u001b[43m,\u001b[49m\u001b[43m \u001b[49m\u001b[43m*\u001b[49m\u001b[43m*\u001b[49m\u001b[43mkwargs\u001b[49m\u001b[43m)\u001b[49m\n",
      "\u001b[36mFile \u001b[39m\u001b[32mc:\\Users\\himek\\AppData\\Local\\Programs\\Python\\Python311\\Lib\\site-packages\\torch\\nn\\modules\\module.py:1750\u001b[39m, in \u001b[36mModule._call_impl\u001b[39m\u001b[34m(self, *args, **kwargs)\u001b[39m\n\u001b[32m   1745\u001b[39m \u001b[38;5;66;03m# If we don't have any hooks, we want to skip the rest of the logic in\u001b[39;00m\n\u001b[32m   1746\u001b[39m \u001b[38;5;66;03m# this function, and just call forward.\u001b[39;00m\n\u001b[32m   1747\u001b[39m \u001b[38;5;28;01mif\u001b[39;00m \u001b[38;5;129;01mnot\u001b[39;00m (\u001b[38;5;28mself\u001b[39m._backward_hooks \u001b[38;5;129;01mor\u001b[39;00m \u001b[38;5;28mself\u001b[39m._backward_pre_hooks \u001b[38;5;129;01mor\u001b[39;00m \u001b[38;5;28mself\u001b[39m._forward_hooks \u001b[38;5;129;01mor\u001b[39;00m \u001b[38;5;28mself\u001b[39m._forward_pre_hooks\n\u001b[32m   1748\u001b[39m         \u001b[38;5;129;01mor\u001b[39;00m _global_backward_pre_hooks \u001b[38;5;129;01mor\u001b[39;00m _global_backward_hooks\n\u001b[32m   1749\u001b[39m         \u001b[38;5;129;01mor\u001b[39;00m _global_forward_hooks \u001b[38;5;129;01mor\u001b[39;00m _global_forward_pre_hooks):\n\u001b[32m-> \u001b[39m\u001b[32m1750\u001b[39m     \u001b[38;5;28;01mreturn\u001b[39;00m \u001b[43mforward_call\u001b[49m\u001b[43m(\u001b[49m\u001b[43m*\u001b[49m\u001b[43margs\u001b[49m\u001b[43m,\u001b[49m\u001b[43m \u001b[49m\u001b[43m*\u001b[49m\u001b[43m*\u001b[49m\u001b[43mkwargs\u001b[49m\u001b[43m)\u001b[49m\n\u001b[32m   1752\u001b[39m result = \u001b[38;5;28;01mNone\u001b[39;00m\n\u001b[32m   1753\u001b[39m called_always_called_hooks = \u001b[38;5;28mset\u001b[39m()\n",
      "\u001b[36mFile \u001b[39m\u001b[32mc:\\Users\\himek\\AppData\\Local\\Programs\\Python\\Python311\\Lib\\site-packages\\torch\\nn\\modules\\conv.py:554\u001b[39m, in \u001b[36mConv2d.forward\u001b[39m\u001b[34m(self, input)\u001b[39m\n\u001b[32m    553\u001b[39m \u001b[38;5;28;01mdef\u001b[39;00m\u001b[38;5;250m \u001b[39m\u001b[34mforward\u001b[39m(\u001b[38;5;28mself\u001b[39m, \u001b[38;5;28minput\u001b[39m: Tensor) -> Tensor:\n\u001b[32m--> \u001b[39m\u001b[32m554\u001b[39m     \u001b[38;5;28;01mreturn\u001b[39;00m \u001b[38;5;28;43mself\u001b[39;49m\u001b[43m.\u001b[49m\u001b[43m_conv_forward\u001b[49m\u001b[43m(\u001b[49m\u001b[38;5;28;43minput\u001b[39;49m\u001b[43m,\u001b[49m\u001b[43m \u001b[49m\u001b[38;5;28;43mself\u001b[39;49m\u001b[43m.\u001b[49m\u001b[43mweight\u001b[49m\u001b[43m,\u001b[49m\u001b[43m \u001b[49m\u001b[38;5;28;43mself\u001b[39;49m\u001b[43m.\u001b[49m\u001b[43mbias\u001b[49m\u001b[43m)\u001b[49m\n",
      "\u001b[36mFile \u001b[39m\u001b[32mc:\\Users\\himek\\AppData\\Local\\Programs\\Python\\Python311\\Lib\\site-packages\\torch\\nn\\modules\\conv.py:549\u001b[39m, in \u001b[36mConv2d._conv_forward\u001b[39m\u001b[34m(self, input, weight, bias)\u001b[39m\n\u001b[32m    537\u001b[39m \u001b[38;5;28;01mif\u001b[39;00m \u001b[38;5;28mself\u001b[39m.padding_mode != \u001b[33m\"\u001b[39m\u001b[33mzeros\u001b[39m\u001b[33m\"\u001b[39m:\n\u001b[32m    538\u001b[39m     \u001b[38;5;28;01mreturn\u001b[39;00m F.conv2d(\n\u001b[32m    539\u001b[39m         F.pad(\n\u001b[32m    540\u001b[39m             \u001b[38;5;28minput\u001b[39m, \u001b[38;5;28mself\u001b[39m._reversed_padding_repeated_twice, mode=\u001b[38;5;28mself\u001b[39m.padding_mode\n\u001b[32m   (...)\u001b[39m\u001b[32m    547\u001b[39m         \u001b[38;5;28mself\u001b[39m.groups,\n\u001b[32m    548\u001b[39m     )\n\u001b[32m--> \u001b[39m\u001b[32m549\u001b[39m \u001b[38;5;28;01mreturn\u001b[39;00m \u001b[43mF\u001b[49m\u001b[43m.\u001b[49m\u001b[43mconv2d\u001b[49m\u001b[43m(\u001b[49m\n\u001b[32m    550\u001b[39m \u001b[43m    \u001b[49m\u001b[38;5;28;43minput\u001b[39;49m\u001b[43m,\u001b[49m\u001b[43m \u001b[49m\u001b[43mweight\u001b[49m\u001b[43m,\u001b[49m\u001b[43m \u001b[49m\u001b[43mbias\u001b[49m\u001b[43m,\u001b[49m\u001b[43m \u001b[49m\u001b[38;5;28;43mself\u001b[39;49m\u001b[43m.\u001b[49m\u001b[43mstride\u001b[49m\u001b[43m,\u001b[49m\u001b[43m \u001b[49m\u001b[38;5;28;43mself\u001b[39;49m\u001b[43m.\u001b[49m\u001b[43mpadding\u001b[49m\u001b[43m,\u001b[49m\u001b[43m \u001b[49m\u001b[38;5;28;43mself\u001b[39;49m\u001b[43m.\u001b[49m\u001b[43mdilation\u001b[49m\u001b[43m,\u001b[49m\u001b[43m \u001b[49m\u001b[38;5;28;43mself\u001b[39;49m\u001b[43m.\u001b[49m\u001b[43mgroups\u001b[49m\n\u001b[32m    551\u001b[39m \u001b[43m\u001b[49m\u001b[43m)\u001b[49m\n",
      "\u001b[31mKeyboardInterrupt\u001b[39m: "
     ]
    }
   ],
   "source": [
    "import cv2\n",
    "from ultralytics import YOLO\n",
    "\n",
    "model = YOLO(\"runs/detect/train3/weights/best.pt\")\n",
    "\n",
    "cap = cv2.VideoCapture(0)  # Use 0 for webcam or provide a video file path\n",
    "\n",
    "while True:\n",
    "    ret, frame = cap.read()\n",
    "    if not ret:\n",
    "        break\n",
    "\n",
    "    results = model(frame)\n",
    "\n",
    "    # Draw results on the frame\n",
    "    annotated_frame = results[0].plot()\n",
    "\n",
    "    cv2.imshow(\"Hand Sign Detection\", annotated_frame)\n",
    "\n",
    "    if cv2.waitKey(1) & 0xFF == ord('q'):\n",
    "        break"
   ]
  },
  {
   "cell_type": "code",
   "execution_count": null,
   "id": "691e4ad1",
   "metadata": {},
   "outputs": [],
   "source": []
  }
 ],
 "metadata": {
  "kernelspec": {
   "display_name": "Python 3",
   "language": "python",
   "name": "python3"
  },
  "language_info": {
   "codemirror_mode": {
    "name": "ipython",
    "version": 3
   },
   "file_extension": ".py",
   "mimetype": "text/x-python",
   "name": "python",
   "nbconvert_exporter": "python",
   "pygments_lexer": "ipython3",
   "version": "3.11.9"
  }
 },
 "nbformat": 4,
 "nbformat_minor": 5
}
