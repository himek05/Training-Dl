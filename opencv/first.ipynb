{
 "cells": [
  {
   "cell_type": "code",
   "execution_count": 14,
   "id": "65d41799",
   "metadata": {},
   "outputs": [],
   "source": [
    "import cv2\n"
   ]
  },
  {
   "cell_type": "code",
   "execution_count": 15,
   "id": "fb0d9c84",
   "metadata": {},
   "outputs": [],
   "source": [
    "# import cv2\n",
    "\n",
    "# img = cv2.imread(\"img3.jpg\")\n",
    "# resized_img = cv2.resize(img, (800, 600))  \n",
    "\n",
    "# cv2.imshow(\"Resized Image\", resized_img)\n",
    "# cv2.imwrite(\"img3.jpg\", resized_img) \n",
    "# cv2.waitKey(0)\n",
    "# cv2.destroyAllWindows()\n"
   ]
  },
  {
   "cell_type": "code",
   "execution_count": 16,
   "id": "5fa30d91",
   "metadata": {},
   "outputs": [],
   "source": [
    "# from PIL import Image\n",
    "# img = Image.open(\"img3.jpg\")\n",
    "# img = img.resize((800, 600))\n",
    "# img.show()\n"
   ]
  },
  {
   "cell_type": "code",
   "execution_count": 17,
   "id": "31dbd484",
   "metadata": {},
   "outputs": [],
   "source": [
    "# import numpy as np\n",
    "\n",
    "# img = cv2.imread(\"img3.jpg\")\n",
    "# re_img = cv2.resize(img, (800, 600))\n",
    "\n",
    "# M =np.float32([[1, 0, 50], [0, 1, 100]])\n",
    "# rows, cols = img.shape[:2]\n",
    "# tran = cv2.warpAffine(img, M, (cols, rows))\n",
    "# cv2.imshow(\"Translation\", tran)\n",
    "# cv2.waitKey(0)\n",
    "# cv2.destroyAllWindows()"
   ]
  },
  {
   "cell_type": "code",
   "execution_count": null,
   "id": "1739d969",
   "metadata": {},
   "outputs": [],
   "source": [
    "M = cv2.getRotationMatrix2D((0, 0), 45, 1)\n",
    "img = cv2.imread(\"img3.jpg\")\n",
    "rows, cols = img.shape[:2]\n",
    "rotated_img = cv2.warpAffine(img, M, (cols, rows))\n",
    "cv2.imshow(\"Rotated Image\", rotated_img)\n",
    "cv2.imwrite(\"img3.jpg\", rotated_img)\n",
    "cv2.waitKey(0)\n",
    "cv2.destroyAllWindows()"
   ]
  },
  {
   "cell_type": "code",
   "execution_count": 19,
   "id": "f8e607f8",
   "metadata": {},
   "outputs": [],
   "source": [
    "# cv2.flip(img, 0)        # Flip vertically\n",
    "# cv2.flip(img, 1)        # Flip horizontally\n"
   ]
  },
  {
   "cell_type": "code",
   "execution_count": null,
   "id": "376b7f2b",
   "metadata": {},
   "outputs": [],
   "source": [
    "# img = cv2.imread(\"img3.jpg\")\n",
    "# flipped_img = cv2.flip(img, 0)    # Flip both vertically and horizontally\n",
    "# cv2.imshow(\"Flipped Image\", flipped_img)\n",
    "# cv2.imwrite(\"img3.jpg\", flipped_img)\n",
    "# cv2.waitKey(0)\n",
    "# cv2.destroyAllWindows()"
   ]
  },
  {
   "cell_type": "code",
   "execution_count": 21,
   "id": "6f636d7e",
   "metadata": {},
   "outputs": [],
   "source": [
    "# y1, y2, x1, x2 = 100, 400, 150, 600  \n",
    "\n",
    "# cropped = img[y1:y2, x1:x2]\n",
    "# cv2.imshow(\"Cropped Image\", cropped)\n",
    "# cv2.imwrite(\"img3.jpg\", cropped)\n",
    "# cv2.waitKey(0)\n",
    "# cv2.destroyAllWindows()\n"
   ]
  },
  {
   "cell_type": "code",
   "execution_count": null,
   "id": "5e8b3a8e",
   "metadata": {},
   "outputs": [],
   "source": [
    "# img = cv2.imread(\"img3.jpg\")\n",
    "# gray_img = cv2.cvtColor(img, cv2.COLOR_BGR2GRAY)\n",
    "# cv2.imshow(\"Gray Image\", gray_img)\n",
    "# cv2.imwrite(\"img3.jpg\", gray_img)\n",
    "# cv2.waitKey(0)\n",
    "# cv2.destroyAllWindows()"
   ]
  },
  {
   "cell_type": "code",
   "execution_count": null,
   "id": "1c3ffd5c",
   "metadata": {},
   "outputs": [],
   "source": []
  }
 ],
 "metadata": {
  "kernelspec": {
   "display_name": "Python 3",
   "language": "python",
   "name": "python3"
  },
  "language_info": {
   "codemirror_mode": {
    "name": "ipython",
    "version": 3
   },
   "file_extension": ".py",
   "mimetype": "text/x-python",
   "name": "python",
   "nbconvert_exporter": "python",
   "pygments_lexer": "ipython3",
   "version": "3.11.9"
  }
 },
 "nbformat": 4,
 "nbformat_minor": 5
}
